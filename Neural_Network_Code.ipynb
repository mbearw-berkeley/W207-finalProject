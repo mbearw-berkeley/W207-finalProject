{
  "nbformat": 4,
  "nbformat_minor": 0,
  "metadata": {
    "colab": {
      "name": "Neural Network Code",
      "provenance": [],
      "collapsed_sections": []
    },
    "kernelspec": {
      "name": "python3",
      "display_name": "Python 3"
    }
  },
  "cells": [
    {
      "cell_type": "markdown",
      "metadata": {
        "id": "Vnp6zzB79BA9"
      },
      "source": [
        "**Implementing a Neural Net**"
      ]
    },
    {
      "cell_type": "code",
      "metadata": {
        "id": "zm9172Rb8SiO"
      },
      "source": [
        "import pandas as pd\n",
        "from sklearn.neural_network import MLPClassifier\n",
        "\n",
        "from sklearn.preprocessing import StandardScaler, MinMaxScaler\n",
        "from sklearn.preprocessing import LabelEncoder, OneHotEncoder\n",
        "from sklearn.feature_extraction import DictVectorizer\n",
        "\n",
        "from sklearn.pipeline import Pipeline\n",
        "from sklearn.metrics import accuracy_score\n",
        "from sklearn.model_selection import train_test_split\n",
        "\n",
        "import matplotlib.pyplot as plt\n",
        "import numpy as np"
      ],
      "execution_count": 1,
      "outputs": []
    },
    {
      "cell_type": "code",
      "metadata": {
        "id": "EThtX4Mb8eBE",
        "colab": {
          "resources": {
            "http://localhost:8080/nbextensions/google.colab/files.js": {
              "data": "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",
              "ok": true,
              "headers": [
                [
                  "content-type",
                  "application/javascript"
                ]
              ],
              "status": 200,
              "status_text": ""
            }
          },
          "base_uri": "https://localhost:8080/",
          "height": 72
        },
        "outputId": "a0aacd41-c71f-4364-ac00-277e0d9a5f74"
      },
      "source": [
        "from google.colab import files\n",
        "uploaded = files.upload()\n"
      ],
      "execution_count": 2,
      "outputs": [
        {
          "output_type": "display_data",
          "data": {
            "text/html": [
              "\n",
              "     <input type=\"file\" id=\"files-ff3fc9b4-3b5c-44db-8f2b-ed6621f2e75b\" name=\"files[]\" multiple disabled\n",
              "        style=\"border:none\" />\n",
              "     <output id=\"result-ff3fc9b4-3b5c-44db-8f2b-ed6621f2e75b\">\n",
              "      Upload widget is only available when the cell has been executed in the\n",
              "      current browser session. Please rerun this cell to enable.\n",
              "      </output>\n",
              "      <script src=\"/nbextensions/google.colab/files.js\"></script> "
            ],
            "text/plain": [
              "<IPython.core.display.HTML object>"
            ]
          },
          "metadata": {
            "tags": []
          }
        },
        {
          "output_type": "stream",
          "text": [
            "Saving to_neural_net.csv to to_neural_net.csv\n"
          ],
          "name": "stdout"
        }
      ]
    },
    {
      "cell_type": "code",
      "metadata": {
        "id": "32tt6uwhONKp"
      },
      "source": [
        "import io\n",
        "face_recog = pd.read_csv(io.BytesIO(uploaded['to_neural_net.csv']))"
      ],
      "execution_count": 3,
      "outputs": []
    },
    {
      "cell_type": "code",
      "metadata": {
        "id": "gKH81PUhgLbB",
        "colab": {
          "base_uri": "https://localhost:8080/",
          "height": 496
        },
        "outputId": "82fb2abb-4653-4497-9f49-f9572f888f47"
      },
      "source": [
        "face_recog['age_bins'] = pd.cut(x=face_recog['age'], \n",
        "                                bins=[0, 9, 29, 39, 49, 59, 69, 79, 89, 99, 130])\n",
        "face_recog['age_encoded'] = pd.cut(x=face_recog['age'], \n",
        "                                bins=[0, 9, 29, 39, 49, 59, 69, 79, 89, 99, 130], \n",
        "                                labels = [0, 1, 2, 3, 4, 5, 6, 7, 8, 9])\n",
        "face_recog.head()"
      ],
      "execution_count": 107,
      "outputs": [
        {
          "output_type": "execute_result",
          "data": {
            "text/html": [
              "<div>\n",
              "<style scoped>\n",
              "    .dataframe tbody tr th:only-of-type {\n",
              "        vertical-align: middle;\n",
              "    }\n",
              "\n",
              "    .dataframe tbody tr th {\n",
              "        vertical-align: top;\n",
              "    }\n",
              "\n",
              "    .dataframe thead th {\n",
              "        text-align: right;\n",
              "    }\n",
              "</style>\n",
              "<table border=\"1\" class=\"dataframe\">\n",
              "  <thead>\n",
              "    <tr style=\"text-align: right;\">\n",
              "      <th></th>\n",
              "      <th>age</th>\n",
              "      <th>ethnicity</th>\n",
              "      <th>gender</th>\n",
              "      <th>path</th>\n",
              "      <th>landmarks</th>\n",
              "      <th>nose2lip</th>\n",
              "      <th>lip2chin</th>\n",
              "      <th>len_between_eyes</th>\n",
              "      <th>left_eyelid_len</th>\n",
              "      <th>right_eyelid_len</th>\n",
              "      <th>nose_width</th>\n",
              "      <th>size_of_mouth</th>\n",
              "      <th>nose_len</th>\n",
              "      <th>bottom_lip_width</th>\n",
              "      <th>left_eye_size</th>\n",
              "      <th>right_eye_size</th>\n",
              "      <th>age_bins</th>\n",
              "      <th>age_encoded</th>\n",
              "    </tr>\n",
              "  </thead>\n",
              "  <tbody>\n",
              "    <tr>\n",
              "      <th>0</th>\n",
              "      <td>1</td>\n",
              "      <td>Asian</td>\n",
              "      <td>Male</td>\n",
              "      <td>images\\img0.jpg</td>\n",
              "      <td>[[-7, 51], [-5, 81], [-1, 110], [5, 136], [18,...</td>\n",
              "      <td>0.127843</td>\n",
              "      <td>0.172767</td>\n",
              "      <td>0.237232</td>\n",
              "      <td>0.187906</td>\n",
              "      <td>0.179991</td>\n",
              "      <td>0.153473</td>\n",
              "      <td>0.274431</td>\n",
              "      <td>0.283629</td>\n",
              "      <td>0.060333</td>\n",
              "      <td>0.145301</td>\n",
              "      <td>0.109268</td>\n",
              "      <td>(0, 9]</td>\n",
              "      <td>0</td>\n",
              "    </tr>\n",
              "    <tr>\n",
              "      <th>1</th>\n",
              "      <td>1</td>\n",
              "      <td>Asian</td>\n",
              "      <td>Male</td>\n",
              "      <td>images\\img1.jpg</td>\n",
              "      <td>[[6, 65], [10, 93], [17, 119], [24, 144], [35,...</td>\n",
              "      <td>0.115510</td>\n",
              "      <td>0.146110</td>\n",
              "      <td>0.275589</td>\n",
              "      <td>0.212916</td>\n",
              "      <td>0.201710</td>\n",
              "      <td>0.155617</td>\n",
              "      <td>0.248926</td>\n",
              "      <td>0.263344</td>\n",
              "      <td>0.078643</td>\n",
              "      <td>0.122885</td>\n",
              "      <td>0.084790</td>\n",
              "      <td>(0, 9]</td>\n",
              "      <td>0</td>\n",
              "    </tr>\n",
              "    <tr>\n",
              "      <th>2</th>\n",
              "      <td>1</td>\n",
              "      <td>Asian</td>\n",
              "      <td>Male</td>\n",
              "      <td>images\\img2.jpg</td>\n",
              "      <td>[[11, 75], [12, 102], [17, 129], [23, 153], [3...</td>\n",
              "      <td>0.093780</td>\n",
              "      <td>0.214220</td>\n",
              "      <td>0.256911</td>\n",
              "      <td>0.193784</td>\n",
              "      <td>0.204183</td>\n",
              "      <td>0.151439</td>\n",
              "      <td>0.279955</td>\n",
              "      <td>0.264790</td>\n",
              "      <td>0.077230</td>\n",
              "      <td>0.121487</td>\n",
              "      <td>0.094426</td>\n",
              "      <td>(0, 9]</td>\n",
              "      <td>0</td>\n",
              "    </tr>\n",
              "    <tr>\n",
              "      <th>3</th>\n",
              "      <td>1</td>\n",
              "      <td>Asian</td>\n",
              "      <td>Male</td>\n",
              "      <td>images\\img3.jpg</td>\n",
              "      <td>[[-6, 78], [-4, 105], [-1, 131], [3, 156], [13...</td>\n",
              "      <td>0.087586</td>\n",
              "      <td>0.221280</td>\n",
              "      <td>0.266966</td>\n",
              "      <td>0.170970</td>\n",
              "      <td>0.172216</td>\n",
              "      <td>0.181050</td>\n",
              "      <td>0.357491</td>\n",
              "      <td>0.256329</td>\n",
              "      <td>0.069628</td>\n",
              "      <td>0.121071</td>\n",
              "      <td>0.074953</td>\n",
              "      <td>(0, 9]</td>\n",
              "      <td>0</td>\n",
              "    </tr>\n",
              "    <tr>\n",
              "      <th>4</th>\n",
              "      <td>1</td>\n",
              "      <td>Asian</td>\n",
              "      <td>Male</td>\n",
              "      <td>images\\img4.jpg</td>\n",
              "      <td>[[-4, 79], [-2, 104], [-1, 129], [0, 155], [8,...</td>\n",
              "      <td>0.093075</td>\n",
              "      <td>0.274444</td>\n",
              "      <td>0.275523</td>\n",
              "      <td>0.153957</td>\n",
              "      <td>0.150599</td>\n",
              "      <td>0.191064</td>\n",
              "      <td>0.422118</td>\n",
              "      <td>0.252346</td>\n",
              "      <td>0.054845</td>\n",
              "      <td>0.095940</td>\n",
              "      <td>0.049664</td>\n",
              "      <td>(0, 9]</td>\n",
              "      <td>0</td>\n",
              "    </tr>\n",
              "  </tbody>\n",
              "</table>\n",
              "</div>"
            ],
            "text/plain": [
              "   age ethnicity gender  ... right_eye_size age_bins  age_encoded\n",
              "0    1     Asian   Male  ...       0.109268   (0, 9]            0\n",
              "1    1     Asian   Male  ...       0.084790   (0, 9]            0\n",
              "2    1     Asian   Male  ...       0.094426   (0, 9]            0\n",
              "3    1     Asian   Male  ...       0.074953   (0, 9]            0\n",
              "4    1     Asian   Male  ...       0.049664   (0, 9]            0\n",
              "\n",
              "[5 rows x 18 columns]"
            ]
          },
          "metadata": {
            "tags": []
          },
          "execution_count": 107
        }
      ]
    },
    {
      "cell_type": "code",
      "metadata": {
        "id": "cre6Mj_LPbQJ"
      },
      "source": [
        "#Split the data into train test\n",
        "\n",
        "train, test = train_test_split(face_recog, test_size=0.2)"
      ],
      "execution_count": 108,
      "outputs": []
    },
    {
      "cell_type": "markdown",
      "metadata": {
        "id": "b4nKak169fyA"
      },
      "source": [
        "**Use Neural Net to Predict Age**"
      ]
    },
    {
      "cell_type": "code",
      "metadata": {
        "id": "Edn6htFGRTW0"
      },
      "source": [
        "#Use the encoded age for train and test labels\n",
        "train_label = train[\"age_encoded\"].values\n",
        "test_label = test[\"age_encoded\"].values\n",
        "test_bins = test[\"age_bins\"].values\n"
      ],
      "execution_count": 109,
      "outputs": []
    },
    {
      "cell_type": "code",
      "metadata": {
        "id": "eAm8RWg-gZlP",
        "colab": {
          "base_uri": "https://localhost:8080/"
        },
        "outputId": "17bb3dff-1431-49a4-e397-38ad8a3c30b7"
      },
      "source": [
        "#These are the bins for age\n",
        "test_bins"
      ],
      "execution_count": 110,
      "outputs": [
        {
          "output_type": "execute_result",
          "data": {
            "text/plain": [
              "[(29, 39], (9, 29], (39, 49], (59, 69], (9, 29], ..., (0, 9], (9, 29], (29, 39], (29, 39], (49, 59]]\n",
              "Length: 4505\n",
              "Categories (10, interval[int64]): [(0, 9] < (9, 29] < (29, 39] < (39, 49] ... (69, 79] < (79, 89] <\n",
              "                                   (89, 99] < (99, 130]]"
            ]
          },
          "metadata": {
            "tags": []
          },
          "execution_count": 110
        }
      ]
    },
    {
      "cell_type": "code",
      "metadata": {
        "id": "AfrB7XtLRXHo"
      },
      "source": [
        "#drop all the unused columns for train and test data\n",
        "train = train.drop(columns= [\"age\", \"path\", \"landmarks\", \"age_bins\", \"age_encoded\"])\n",
        "test = test.drop(columns= [\"age\", \"path\", \"landmarks\", \"age_bins\", \"age_encoded\"])\n"
      ],
      "execution_count": 111,
      "outputs": []
    },
    {
      "cell_type": "code",
      "metadata": {
        "id": "FKsLIYVQWinz",
        "colab": {
          "base_uri": "https://localhost:8080/",
          "height": 439
        },
        "outputId": "b1fc7af3-2e7f-4e86-9b70-45cbec7d1207"
      },
      "source": [
        "train"
      ],
      "execution_count": 112,
      "outputs": [
        {
          "output_type": "execute_result",
          "data": {
            "text/html": [
              "<div>\n",
              "<style scoped>\n",
              "    .dataframe tbody tr th:only-of-type {\n",
              "        vertical-align: middle;\n",
              "    }\n",
              "\n",
              "    .dataframe tbody tr th {\n",
              "        vertical-align: top;\n",
              "    }\n",
              "\n",
              "    .dataframe thead th {\n",
              "        text-align: right;\n",
              "    }\n",
              "</style>\n",
              "<table border=\"1\" class=\"dataframe\">\n",
              "  <thead>\n",
              "    <tr style=\"text-align: right;\">\n",
              "      <th></th>\n",
              "      <th>ethnicity</th>\n",
              "      <th>gender</th>\n",
              "      <th>nose2lip</th>\n",
              "      <th>lip2chin</th>\n",
              "      <th>len_between_eyes</th>\n",
              "      <th>left_eyelid_len</th>\n",
              "      <th>right_eyelid_len</th>\n",
              "      <th>nose_width</th>\n",
              "      <th>size_of_mouth</th>\n",
              "      <th>nose_len</th>\n",
              "      <th>bottom_lip_width</th>\n",
              "      <th>left_eye_size</th>\n",
              "      <th>right_eye_size</th>\n",
              "    </tr>\n",
              "  </thead>\n",
              "  <tbody>\n",
              "    <tr>\n",
              "      <th>19500</th>\n",
              "      <td>Black</td>\n",
              "      <td>Male</td>\n",
              "      <td>0.094364</td>\n",
              "      <td>0.255281</td>\n",
              "      <td>0.277350</td>\n",
              "      <td>0.162148</td>\n",
              "      <td>0.175621</td>\n",
              "      <td>0.237577</td>\n",
              "      <td>0.499902</td>\n",
              "      <td>0.259754</td>\n",
              "      <td>0.058300</td>\n",
              "      <td>0.071107</td>\n",
              "      <td>0.037477</td>\n",
              "    </tr>\n",
              "    <tr>\n",
              "      <th>17013</th>\n",
              "      <td>Asian</td>\n",
              "      <td>Male</td>\n",
              "      <td>0.096970</td>\n",
              "      <td>0.244540</td>\n",
              "      <td>0.279557</td>\n",
              "      <td>0.193219</td>\n",
              "      <td>0.186595</td>\n",
              "      <td>0.177939</td>\n",
              "      <td>0.341797</td>\n",
              "      <td>0.252063</td>\n",
              "      <td>0.065536</td>\n",
              "      <td>0.103438</td>\n",
              "      <td>0.070757</td>\n",
              "    </tr>\n",
              "    <tr>\n",
              "      <th>1447</th>\n",
              "      <td>Indian</td>\n",
              "      <td>Female</td>\n",
              "      <td>0.114127</td>\n",
              "      <td>0.267422</td>\n",
              "      <td>0.280796</td>\n",
              "      <td>0.130842</td>\n",
              "      <td>0.136777</td>\n",
              "      <td>0.230275</td>\n",
              "      <td>0.454936</td>\n",
              "      <td>0.297121</td>\n",
              "      <td>0.077236</td>\n",
              "      <td>0.114127</td>\n",
              "      <td>0.077464</td>\n",
              "    </tr>\n",
              "    <tr>\n",
              "      <th>4840</th>\n",
              "      <td>Asian</td>\n",
              "      <td>Male</td>\n",
              "      <td>0.091976</td>\n",
              "      <td>0.233637</td>\n",
              "      <td>0.284897</td>\n",
              "      <td>0.172341</td>\n",
              "      <td>0.139356</td>\n",
              "      <td>0.187185</td>\n",
              "      <td>0.301347</td>\n",
              "      <td>0.284740</td>\n",
              "      <td>0.089596</td>\n",
              "      <td>0.111130</td>\n",
              "      <td>0.061121</td>\n",
              "    </tr>\n",
              "    <tr>\n",
              "      <th>5091</th>\n",
              "      <td>White</td>\n",
              "      <td>Female</td>\n",
              "      <td>0.093209</td>\n",
              "      <td>0.202761</td>\n",
              "      <td>0.292969</td>\n",
              "      <td>0.160208</td>\n",
              "      <td>0.150711</td>\n",
              "      <td>0.191983</td>\n",
              "      <td>0.520220</td>\n",
              "      <td>0.266421</td>\n",
              "      <td>0.069270</td>\n",
              "      <td>0.096060</td>\n",
              "      <td>0.054340</td>\n",
              "    </tr>\n",
              "    <tr>\n",
              "      <th>...</th>\n",
              "      <td>...</td>\n",
              "      <td>...</td>\n",
              "      <td>...</td>\n",
              "      <td>...</td>\n",
              "      <td>...</td>\n",
              "      <td>...</td>\n",
              "      <td>...</td>\n",
              "      <td>...</td>\n",
              "      <td>...</td>\n",
              "      <td>...</td>\n",
              "      <td>...</td>\n",
              "      <td>...</td>\n",
              "      <td>...</td>\n",
              "    </tr>\n",
              "    <tr>\n",
              "      <th>15293</th>\n",
              "      <td>Indian</td>\n",
              "      <td>Male</td>\n",
              "      <td>0.100964</td>\n",
              "      <td>0.296677</td>\n",
              "      <td>0.231884</td>\n",
              "      <td>0.136491</td>\n",
              "      <td>0.148338</td>\n",
              "      <td>0.212560</td>\n",
              "      <td>0.396165</td>\n",
              "      <td>0.314226</td>\n",
              "      <td>0.053359</td>\n",
              "      <td>0.097239</td>\n",
              "      <td>0.059288</td>\n",
              "    </tr>\n",
              "    <tr>\n",
              "      <th>14362</th>\n",
              "      <td>White</td>\n",
              "      <td>Male</td>\n",
              "      <td>0.144523</td>\n",
              "      <td>0.328379</td>\n",
              "      <td>0.243816</td>\n",
              "      <td>0.116730</td>\n",
              "      <td>0.114593</td>\n",
              "      <td>0.172628</td>\n",
              "      <td>0.360653</td>\n",
              "      <td>0.277928</td>\n",
              "      <td>0.050027</td>\n",
              "      <td>0.098341</td>\n",
              "      <td>0.061144</td>\n",
              "    </tr>\n",
              "    <tr>\n",
              "      <th>896</th>\n",
              "      <td>White</td>\n",
              "      <td>Female</td>\n",
              "      <td>0.091312</td>\n",
              "      <td>0.235332</td>\n",
              "      <td>0.254347</td>\n",
              "      <td>0.155719</td>\n",
              "      <td>0.155104</td>\n",
              "      <td>0.168159</td>\n",
              "      <td>0.323391</td>\n",
              "      <td>0.284482</td>\n",
              "      <td>0.080397</td>\n",
              "      <td>0.136197</td>\n",
              "      <td>0.099143</td>\n",
              "    </tr>\n",
              "    <tr>\n",
              "      <th>16572</th>\n",
              "      <td>Indian</td>\n",
              "      <td>Male</td>\n",
              "      <td>0.122859</td>\n",
              "      <td>0.295437</td>\n",
              "      <td>0.248649</td>\n",
              "      <td>0.104611</td>\n",
              "      <td>0.092960</td>\n",
              "      <td>0.232378</td>\n",
              "      <td>0.448674</td>\n",
              "      <td>0.301067</td>\n",
              "      <td>0.073715</td>\n",
              "      <td>0.105687</td>\n",
              "      <td>0.061430</td>\n",
              "    </tr>\n",
              "    <tr>\n",
              "      <th>4461</th>\n",
              "      <td>Indian</td>\n",
              "      <td>Female</td>\n",
              "      <td>0.081510</td>\n",
              "      <td>0.240010</td>\n",
              "      <td>0.265621</td>\n",
              "      <td>0.155927</td>\n",
              "      <td>0.144325</td>\n",
              "      <td>0.192776</td>\n",
              "      <td>0.411980</td>\n",
              "      <td>0.311623</td>\n",
              "      <td>0.090091</td>\n",
              "      <td>0.119855</td>\n",
              "      <td>0.084750</td>\n",
              "    </tr>\n",
              "  </tbody>\n",
              "</table>\n",
              "<p>18019 rows × 13 columns</p>\n",
              "</div>"
            ],
            "text/plain": [
              "      ethnicity  gender  ...  left_eye_size  right_eye_size\n",
              "19500     Black    Male  ...       0.071107        0.037477\n",
              "17013     Asian    Male  ...       0.103438        0.070757\n",
              "1447     Indian  Female  ...       0.114127        0.077464\n",
              "4840      Asian    Male  ...       0.111130        0.061121\n",
              "5091      White  Female  ...       0.096060        0.054340\n",
              "...         ...     ...  ...            ...             ...\n",
              "15293    Indian    Male  ...       0.097239        0.059288\n",
              "14362     White    Male  ...       0.098341        0.061144\n",
              "896       White  Female  ...       0.136197        0.099143\n",
              "16572    Indian    Male  ...       0.105687        0.061430\n",
              "4461     Indian  Female  ...       0.119855        0.084750\n",
              "\n",
              "[18019 rows x 13 columns]"
            ]
          },
          "metadata": {
            "tags": []
          },
          "execution_count": 112
        }
      ]
    },
    {
      "cell_type": "code",
      "metadata": {
        "id": "8FgBauk7SF0n"
      },
      "source": [
        "#encode ethnicity and gender variables for train data\n",
        "encoder_e = LabelEncoder()\n",
        "encoder_e.fit(train[\"ethnicity\"])\n",
        "encoder_e.classes_\n",
        "\n",
        "encoder_g = LabelEncoder()\n",
        "encoder_g.fit(train[\"gender\"])\n",
        "encoder_g.classes_\n",
        "\n",
        "e_train = encoder_e.transform(train[\"ethnicity\"])\n",
        "g_train = encoder_g.transform(train[\"gender\"])\n",
        "train.insert(13, \"ethnicity_encoded\", e_train)\n",
        "train.insert(14, \"gender_encoded\", g_train)\n",
        "train = train.drop(columns= [\"ethnicity\", \"gender\"])\n"
      ],
      "execution_count": 113,
      "outputs": []
    },
    {
      "cell_type": "code",
      "metadata": {
        "id": "1fHCaPbES7N2"
      },
      "source": [
        "#encode ethnicity and gender variables for train data\n",
        "encoder_e = LabelEncoder()\n",
        "encoder_e.fit(test[\"ethnicity\"])\n",
        "encoder_e.classes_\n",
        "\n",
        "encoder_g = LabelEncoder()\n",
        "encoder_g.fit(test[\"gender\"])\n",
        "encoder_g.classes_\n",
        "\n",
        "e_test = encoder_e.transform(test[\"ethnicity\"])\n",
        "g_test = encoder_g.transform(test[\"gender\"])\n",
        "test.insert(13, \"ethnicity_encoded\", e_test)\n",
        "test.insert(14, \"gender_encoded\", g_test)\n",
        "test = test.drop(columns= [\"ethnicity\", \"gender\"])"
      ],
      "execution_count": 114,
      "outputs": []
    },
    {
      "cell_type": "code",
      "metadata": {
        "id": "l4tYnbtcVpXc",
        "colab": {
          "base_uri": "https://localhost:8080/",
          "height": 439
        },
        "outputId": "a68a3441-2528-49f0-f731-95e54f7e5f60"
      },
      "source": [
        "test"
      ],
      "execution_count": 115,
      "outputs": [
        {
          "output_type": "execute_result",
          "data": {
            "text/html": [
              "<div>\n",
              "<style scoped>\n",
              "    .dataframe tbody tr th:only-of-type {\n",
              "        vertical-align: middle;\n",
              "    }\n",
              "\n",
              "    .dataframe tbody tr th {\n",
              "        vertical-align: top;\n",
              "    }\n",
              "\n",
              "    .dataframe thead th {\n",
              "        text-align: right;\n",
              "    }\n",
              "</style>\n",
              "<table border=\"1\" class=\"dataframe\">\n",
              "  <thead>\n",
              "    <tr style=\"text-align: right;\">\n",
              "      <th></th>\n",
              "      <th>nose2lip</th>\n",
              "      <th>lip2chin</th>\n",
              "      <th>len_between_eyes</th>\n",
              "      <th>left_eyelid_len</th>\n",
              "      <th>right_eyelid_len</th>\n",
              "      <th>nose_width</th>\n",
              "      <th>size_of_mouth</th>\n",
              "      <th>nose_len</th>\n",
              "      <th>bottom_lip_width</th>\n",
              "      <th>left_eye_size</th>\n",
              "      <th>right_eye_size</th>\n",
              "      <th>ethnicity_encoded</th>\n",
              "      <th>gender_encoded</th>\n",
              "    </tr>\n",
              "  </thead>\n",
              "  <tbody>\n",
              "    <tr>\n",
              "      <th>13934</th>\n",
              "      <td>0.118751</td>\n",
              "      <td>0.254221</td>\n",
              "      <td>0.268430</td>\n",
              "      <td>0.146042</td>\n",
              "      <td>0.132602</td>\n",
              "      <td>0.221842</td>\n",
              "      <td>0.474378</td>\n",
              "      <td>0.281266</td>\n",
              "      <td>0.059499</td>\n",
              "      <td>0.072569</td>\n",
              "      <td>0.032454</td>\n",
              "      <td>4</td>\n",
              "      <td>1</td>\n",
              "    </tr>\n",
              "    <tr>\n",
              "      <th>7589</th>\n",
              "      <td>0.095445</td>\n",
              "      <td>0.252386</td>\n",
              "      <td>0.264402</td>\n",
              "      <td>0.129520</td>\n",
              "      <td>0.133700</td>\n",
              "      <td>0.158537</td>\n",
              "      <td>0.379557</td>\n",
              "      <td>0.293156</td>\n",
              "      <td>0.052768</td>\n",
              "      <td>0.109060</td>\n",
              "      <td>0.064760</td>\n",
              "      <td>4</td>\n",
              "      <td>0</td>\n",
              "    </tr>\n",
              "    <tr>\n",
              "      <th>14859</th>\n",
              "      <td>0.095935</td>\n",
              "      <td>0.174165</td>\n",
              "      <td>0.296341</td>\n",
              "      <td>0.198565</td>\n",
              "      <td>0.208727</td>\n",
              "      <td>0.225000</td>\n",
              "      <td>0.444546</td>\n",
              "      <td>0.260909</td>\n",
              "      <td>0.093927</td>\n",
              "      <td>0.070009</td>\n",
              "      <td>0.031309</td>\n",
              "      <td>1</td>\n",
              "      <td>0</td>\n",
              "    </tr>\n",
              "    <tr>\n",
              "      <th>20292</th>\n",
              "      <td>0.094712</td>\n",
              "      <td>0.276344</td>\n",
              "      <td>0.232320</td>\n",
              "      <td>0.125000</td>\n",
              "      <td>0.135467</td>\n",
              "      <td>0.237424</td>\n",
              "      <td>0.474849</td>\n",
              "      <td>0.297839</td>\n",
              "      <td>0.043315</td>\n",
              "      <td>0.067842</td>\n",
              "      <td>0.032934</td>\n",
              "      <td>4</td>\n",
              "      <td>1</td>\n",
              "    </tr>\n",
              "    <tr>\n",
              "      <th>4970</th>\n",
              "      <td>0.080470</td>\n",
              "      <td>0.253644</td>\n",
              "      <td>0.266684</td>\n",
              "      <td>0.165893</td>\n",
              "      <td>0.165893</td>\n",
              "      <td>0.225614</td>\n",
              "      <td>0.528143</td>\n",
              "      <td>0.280004</td>\n",
              "      <td>0.068680</td>\n",
              "      <td>0.090894</td>\n",
              "      <td>0.047840</td>\n",
              "      <td>0</td>\n",
              "      <td>0</td>\n",
              "    </tr>\n",
              "    <tr>\n",
              "      <th>...</th>\n",
              "      <td>...</td>\n",
              "      <td>...</td>\n",
              "      <td>...</td>\n",
              "      <td>...</td>\n",
              "      <td>...</td>\n",
              "      <td>...</td>\n",
              "      <td>...</td>\n",
              "      <td>...</td>\n",
              "      <td>...</td>\n",
              "      <td>...</td>\n",
              "      <td>...</td>\n",
              "      <td>...</td>\n",
              "      <td>...</td>\n",
              "    </tr>\n",
              "    <tr>\n",
              "      <th>43</th>\n",
              "      <td>0.112348</td>\n",
              "      <td>0.143070</td>\n",
              "      <td>0.279828</td>\n",
              "      <td>0.148341</td>\n",
              "      <td>0.145105</td>\n",
              "      <td>0.199168</td>\n",
              "      <td>0.417505</td>\n",
              "      <td>0.243600</td>\n",
              "      <td>0.069506</td>\n",
              "      <td>0.109962</td>\n",
              "      <td>0.068698</td>\n",
              "      <td>3</td>\n",
              "      <td>1</td>\n",
              "    </tr>\n",
              "    <tr>\n",
              "      <th>3191</th>\n",
              "      <td>0.063681</td>\n",
              "      <td>0.263453</td>\n",
              "      <td>0.253689</td>\n",
              "      <td>0.097541</td>\n",
              "      <td>0.124889</td>\n",
              "      <td>0.197943</td>\n",
              "      <td>0.416082</td>\n",
              "      <td>0.285064</td>\n",
              "      <td>0.061691</td>\n",
              "      <td>0.077592</td>\n",
              "      <td>0.045029</td>\n",
              "      <td>4</td>\n",
              "      <td>1</td>\n",
              "    </tr>\n",
              "    <tr>\n",
              "      <th>11384</th>\n",
              "      <td>0.106133</td>\n",
              "      <td>0.266458</td>\n",
              "      <td>0.251673</td>\n",
              "      <td>0.119831</td>\n",
              "      <td>0.145233</td>\n",
              "      <td>0.207426</td>\n",
              "      <td>0.393635</td>\n",
              "      <td>0.293960</td>\n",
              "      <td>0.079286</td>\n",
              "      <td>0.095865</td>\n",
              "      <td>0.063157</td>\n",
              "      <td>3</td>\n",
              "      <td>0</td>\n",
              "    </tr>\n",
              "    <tr>\n",
              "      <th>11118</th>\n",
              "      <td>0.125875</td>\n",
              "      <td>0.286253</td>\n",
              "      <td>0.260966</td>\n",
              "      <td>0.134858</td>\n",
              "      <td>0.142367</td>\n",
              "      <td>0.189198</td>\n",
              "      <td>0.373278</td>\n",
              "      <td>0.285038</td>\n",
              "      <td>0.059392</td>\n",
              "      <td>0.085020</td>\n",
              "      <td>0.048692</td>\n",
              "      <td>4</td>\n",
              "      <td>1</td>\n",
              "    </tr>\n",
              "    <tr>\n",
              "      <th>18279</th>\n",
              "      <td>0.119008</td>\n",
              "      <td>0.294397</td>\n",
              "      <td>0.257916</td>\n",
              "      <td>0.118134</td>\n",
              "      <td>0.123983</td>\n",
              "      <td>0.278962</td>\n",
              "      <td>0.442332</td>\n",
              "      <td>0.299804</td>\n",
              "      <td>0.070773</td>\n",
              "      <td>0.076632</td>\n",
              "      <td>0.041559</td>\n",
              "      <td>1</td>\n",
              "      <td>1</td>\n",
              "    </tr>\n",
              "  </tbody>\n",
              "</table>\n",
              "<p>4505 rows × 13 columns</p>\n",
              "</div>"
            ],
            "text/plain": [
              "       nose2lip  lip2chin  ...  ethnicity_encoded  gender_encoded\n",
              "13934  0.118751  0.254221  ...                  4               1\n",
              "7589   0.095445  0.252386  ...                  4               0\n",
              "14859  0.095935  0.174165  ...                  1               0\n",
              "20292  0.094712  0.276344  ...                  4               1\n",
              "4970   0.080470  0.253644  ...                  0               0\n",
              "...         ...       ...  ...                ...             ...\n",
              "43     0.112348  0.143070  ...                  3               1\n",
              "3191   0.063681  0.263453  ...                  4               1\n",
              "11384  0.106133  0.266458  ...                  3               0\n",
              "11118  0.125875  0.286253  ...                  4               1\n",
              "18279  0.119008  0.294397  ...                  1               1\n",
              "\n",
              "[4505 rows x 13 columns]"
            ]
          },
          "metadata": {
            "tags": []
          },
          "execution_count": 115
        }
      ]
    },
    {
      "cell_type": "code",
      "metadata": {
        "id": "oHjzCaAdVqdV",
        "colab": {
          "base_uri": "https://localhost:8080/"
        },
        "outputId": "247e1dd2-8362-428f-f994-90b0a9980534"
      },
      "source": [
        "#run a neural net \n",
        "\n",
        "clf = MLPClassifier(hidden_layer_sizes=(10, 10), max_iter=100, alpha=0.0001,\n",
        "                     solver='lbfgs', verbose=10,  random_state=21,tol=0.000000001)\n",
        "clf.fit(train, train_label)\n",
        "pred = clf.predict(test)\n",
        "print(accuracy_score(test_label, pred))"
      ],
      "execution_count": 116,
      "outputs": [
        {
          "output_type": "stream",
          "text": [
            "0.44683684794672585\n"
          ],
          "name": "stdout"
        },
        {
          "output_type": "stream",
          "text": [
            "/usr/local/lib/python3.6/dist-packages/sklearn/neural_network/_multilayer_perceptron.py:470: ConvergenceWarning: lbfgs failed to converge (status=1):\n",
            "STOP: TOTAL NO. of ITERATIONS REACHED LIMIT.\n",
            "\n",
            "Increase the number of iterations (max_iter) or scale the data as shown in:\n",
            "    https://scikit-learn.org/stable/modules/preprocessing.html\n",
            "  self.n_iter_ = _check_optimize_result(\"lbfgs\", opt_res, self.max_iter)\n"
          ],
          "name": "stderr"
        }
      ]
    },
    {
      "cell_type": "markdown",
      "metadata": {
        "id": "_eIOxxT3-Nkw"
      },
      "source": [
        "Since the accuracy is really low, we decided to look more into different methods to differentiate age. Furthermore, with the additional features, I think we can run a neural net to predict ethnicity. We can probably find better results from predicting ethnicity. \n"
      ]
    },
    {
      "cell_type": "code",
      "metadata": {
        "id": "13Bp8T9HVshk",
        "colab": {
          "base_uri": "https://localhost:8080/"
        },
        "outputId": "a133b1be-9085-4714-f2ee-0300e038073b"
      },
      "source": [
        "#This shows you the best variables to use for the model\n",
        "from sklearn.feature_selection import SelectKBest\n",
        "from sklearn.feature_selection import chi2\n",
        "\n",
        "bestfeatures = SelectKBest(score_func=chi2, k=13)\n",
        "fit = bestfeatures.fit(train, train_label)\n",
        "dfscores = pd.DataFrame(fit.scores_)\n",
        "dfcolumns = pd.DataFrame(train.columns)\n",
        "\n",
        "featureScores = pd.concat([dfcolumns,dfscores],axis=1)\n",
        "featureScores.columns = ['Specs','Score']  #naming the dataframe columns\n",
        "print(featureScores.nlargest(20,'Score'))"
      ],
      "execution_count": 117,
      "outputs": [
        {
          "output_type": "stream",
          "text": [
            "                Specs       Score\n",
            "11  ethnicity_encoded  863.769652\n",
            "12     gender_encoded  437.887299\n",
            "6       size_of_mouth   20.052969\n",
            "10     right_eye_size   19.377142\n",
            "1            lip2chin   17.038866\n",
            "9       left_eye_size   15.474450\n",
            "8    bottom_lip_width   10.683080\n",
            "5          nose_width    9.194848\n",
            "3     left_eyelid_len    7.356439\n",
            "4    right_eyelid_len    6.749416\n",
            "0            nose2lip    4.593998\n",
            "7            nose_len    1.353222\n",
            "2    len_between_eyes    0.266442\n"
          ],
          "name": "stdout"
        }
      ]
    },
    {
      "cell_type": "code",
      "metadata": {
        "id": "Bj8_sV9eg-n9",
        "colab": {
          "base_uri": "https://localhost:8080/",
          "height": 419
        },
        "outputId": "8fbcb252-3db6-4104-e8e0-d6eb5a4ff62d"
      },
      "source": [
        "pd.DataFrame({\"Predictions\":pred, \"Actual\":test_label, \"Bins\": test_bins})"
      ],
      "execution_count": 15,
      "outputs": [
        {
          "output_type": "execute_result",
          "data": {
            "text/html": [
              "<div>\n",
              "<style scoped>\n",
              "    .dataframe tbody tr th:only-of-type {\n",
              "        vertical-align: middle;\n",
              "    }\n",
              "\n",
              "    .dataframe tbody tr th {\n",
              "        vertical-align: top;\n",
              "    }\n",
              "\n",
              "    .dataframe thead th {\n",
              "        text-align: right;\n",
              "    }\n",
              "</style>\n",
              "<table border=\"1\" class=\"dataframe\">\n",
              "  <thead>\n",
              "    <tr style=\"text-align: right;\">\n",
              "      <th></th>\n",
              "      <th>Predictions</th>\n",
              "      <th>Actual</th>\n",
              "      <th>Bins</th>\n",
              "    </tr>\n",
              "  </thead>\n",
              "  <tbody>\n",
              "    <tr>\n",
              "      <th>0</th>\n",
              "      <td>1</td>\n",
              "      <td>1</td>\n",
              "      <td>(9, 29]</td>\n",
              "    </tr>\n",
              "    <tr>\n",
              "      <th>1</th>\n",
              "      <td>1</td>\n",
              "      <td>1</td>\n",
              "      <td>(9, 29]</td>\n",
              "    </tr>\n",
              "    <tr>\n",
              "      <th>2</th>\n",
              "      <td>1</td>\n",
              "      <td>1</td>\n",
              "      <td>(9, 29]</td>\n",
              "    </tr>\n",
              "    <tr>\n",
              "      <th>3</th>\n",
              "      <td>1</td>\n",
              "      <td>1</td>\n",
              "      <td>(9, 29]</td>\n",
              "    </tr>\n",
              "    <tr>\n",
              "      <th>4</th>\n",
              "      <td>1</td>\n",
              "      <td>0</td>\n",
              "      <td>(0, 9]</td>\n",
              "    </tr>\n",
              "    <tr>\n",
              "      <th>...</th>\n",
              "      <td>...</td>\n",
              "      <td>...</td>\n",
              "      <td>...</td>\n",
              "    </tr>\n",
              "    <tr>\n",
              "      <th>4500</th>\n",
              "      <td>1</td>\n",
              "      <td>2</td>\n",
              "      <td>(29, 39]</td>\n",
              "    </tr>\n",
              "    <tr>\n",
              "      <th>4501</th>\n",
              "      <td>1</td>\n",
              "      <td>1</td>\n",
              "      <td>(9, 29]</td>\n",
              "    </tr>\n",
              "    <tr>\n",
              "      <th>4502</th>\n",
              "      <td>1</td>\n",
              "      <td>1</td>\n",
              "      <td>(9, 29]</td>\n",
              "    </tr>\n",
              "    <tr>\n",
              "      <th>4503</th>\n",
              "      <td>1</td>\n",
              "      <td>1</td>\n",
              "      <td>(9, 29]</td>\n",
              "    </tr>\n",
              "    <tr>\n",
              "      <th>4504</th>\n",
              "      <td>1</td>\n",
              "      <td>2</td>\n",
              "      <td>(29, 39]</td>\n",
              "    </tr>\n",
              "  </tbody>\n",
              "</table>\n",
              "<p>4505 rows × 3 columns</p>\n",
              "</div>"
            ],
            "text/plain": [
              "      Predictions Actual      Bins\n",
              "0               1      1   (9, 29]\n",
              "1               1      1   (9, 29]\n",
              "2               1      1   (9, 29]\n",
              "3               1      1   (9, 29]\n",
              "4               1      0    (0, 9]\n",
              "...           ...    ...       ...\n",
              "4500            1      2  (29, 39]\n",
              "4501            1      1   (9, 29]\n",
              "4502            1      1   (9, 29]\n",
              "4503            1      1   (9, 29]\n",
              "4504            1      2  (29, 39]\n",
              "\n",
              "[4505 rows x 3 columns]"
            ]
          },
          "metadata": {
            "tags": []
          },
          "execution_count": 15
        }
      ]
    },
    {
      "cell_type": "markdown",
      "metadata": {
        "id": "wJyJSnPx-nfZ"
      },
      "source": [
        "**Using Neural Net to Predict ethnicity**"
      ]
    },
    {
      "cell_type": "code",
      "metadata": {
        "id": "yMgF9XIDhIVI"
      },
      "source": [
        "import random\n",
        "train, test = train_test_split(face_recog, test_size=0.3, stratify=face_recog[['ethnicity']])"
      ],
      "execution_count": 84,
      "outputs": []
    },
    {
      "cell_type": "code",
      "metadata": {
        "id": "a-yvsFNEjRhp"
      },
      "source": [
        "train = train.drop(columns= [\"path\", \"landmarks\", \"age_bins\", \"age_encoded\"])\n",
        "test = test.drop(columns= [\"path\", \"landmarks\", \"age_bins\", \"age_encoded\"])\n"
      ],
      "execution_count": 85,
      "outputs": []
    },
    {
      "cell_type": "code",
      "metadata": {
        "id": "A1WqhMlbjSj0",
        "colab": {
          "base_uri": "https://localhost:8080/",
          "height": 334
        },
        "outputId": "ebfde270-3452-4860-894c-acf914e37554"
      },
      "source": [
        "import matplotlib.pyplot as plt\n",
        "plt.hist(train[\"ethnicity\"])"
      ],
      "execution_count": 88,
      "outputs": [
        {
          "output_type": "execute_result",
          "data": {
            "text/plain": [
              "(array([2306.,    0., 2884.,    0.,    0., 2657.,    0., 6780.,    0.,\n",
              "        1139.]),\n",
              " array([0. , 0.4, 0.8, 1.2, 1.6, 2. , 2.4, 2.8, 3.2, 3.6, 4. ]),\n",
              " <a list of 10 Patch objects>)"
            ]
          },
          "metadata": {
            "tags": []
          },
          "execution_count": 88
        },
        {
          "output_type": "display_data",
          "data": {
            "image/png": "[encoded data removed]",
            "text/plain": [
              "<Figure size 432x288 with 1 Axes>"
            ]
          },
          "metadata": {
            "tags": [],
            "needs_background": "light"
          }
        }
      ]
    },
    {
      "cell_type": "code",
      "metadata": {
        "id": "cdPy_0xvkLhx"
      },
      "source": [
        "encoder_e = LabelEncoder()\n",
        "encoder_e.fit(train[\"ethnicity\"])\n",
        "encoder_e.classes_\n",
        "\n",
        "encoder_g = LabelEncoder()\n",
        "encoder_g.fit(train[\"gender\"])\n",
        "encoder_g.classes_\n",
        "\n",
        "e_train = encoder_e.transform(train[\"ethnicity\"])\n",
        "g_train = encoder_g.transform(train[\"gender\"])\n",
        "train.insert(14, \"ethnicity_encoded\", e_train)\n",
        "train.insert(15, \"gender_encoded\", g_train)\n",
        "train = train.drop(columns= [\"ethnicity\", \"gender\"])\n",
        "\n"
      ],
      "execution_count": 89,
      "outputs": []
    },
    {
      "cell_type": "code",
      "metadata": {
        "id": "h7AwBfDDkv_k"
      },
      "source": [
        "encoder_e = LabelEncoder()\n",
        "encoder_e.fit(test[\"ethnicity\"])\n",
        "encoder_e.classes_\n",
        "\n",
        "encoder_g = LabelEncoder()\n",
        "encoder_g.fit(test[\"gender\"])\n",
        "encoder_g.classes_\n",
        "\n",
        "e_test = encoder_e.transform(test[\"ethnicity\"])\n",
        "g_test = encoder_g.transform(test[\"gender\"])\n",
        "test.insert(14, \"ethnicity_encoded\", e_test)\n",
        "test.insert(15, \"gender_encoded\", g_test)\n",
        "test = test.drop(columns= [\"ethnicity\", \"gender\"])"
      ],
      "execution_count": 90,
      "outputs": []
    },
    {
      "cell_type": "code",
      "metadata": {
        "id": "fs7RwZfrkdTF"
      },
      "source": [
        "train_label = train[\"ethnicity_encoded\"].values\n",
        "test_label = test[\"ethnicity_encoded\"].values\n",
        "\n"
      ],
      "execution_count": 91,
      "outputs": []
    },
    {
      "cell_type": "code",
      "metadata": {
        "id": "IjODEXfok347",
        "colab": {
          "base_uri": "https://localhost:8080/"
        },
        "outputId": "c307b302-c63b-4fba-f055-e5f9277c9f8f"
      },
      "source": [
        "train_label"
      ],
      "execution_count": 92,
      "outputs": [
        {
          "output_type": "execute_result",
          "data": {
            "text/plain": [
              "array([0, 1, 3, ..., 1, 4, 0])"
            ]
          },
          "metadata": {
            "tags": []
          },
          "execution_count": 92
        }
      ]
    },
    {
      "cell_type": "code",
      "metadata": {
        "id": "jjx8LpQKk5bo",
        "colab": {
          "base_uri": "https://localhost:8080/",
          "height": 439
        },
        "outputId": "a6ac39df-a6e0-4ae9-da41-dcf6867567c8"
      },
      "source": [
        "train.drop(columns = [\"ethnicity_encoded\"])\n",
        "test.drop(columns=[\"ethnicity_encoded\"])"
      ],
      "execution_count": 93,
      "outputs": [
        {
          "output_type": "execute_result",
          "data": {
            "text/html": [
              "<div>\n",
              "<style scoped>\n",
              "    .dataframe tbody tr th:only-of-type {\n",
              "        vertical-align: middle;\n",
              "    }\n",
              "\n",
              "    .dataframe tbody tr th {\n",
              "        vertical-align: top;\n",
              "    }\n",
              "\n",
              "    .dataframe thead th {\n",
              "        text-align: right;\n",
              "    }\n",
              "</style>\n",
              "<table border=\"1\" class=\"dataframe\">\n",
              "  <thead>\n",
              "    <tr style=\"text-align: right;\">\n",
              "      <th></th>\n",
              "      <th>age</th>\n",
              "      <th>nose2lip</th>\n",
              "      <th>lip2chin</th>\n",
              "      <th>len_between_eyes</th>\n",
              "      <th>left_eyelid_len</th>\n",
              "      <th>right_eyelid_len</th>\n",
              "      <th>nose_width</th>\n",
              "      <th>size_of_mouth</th>\n",
              "      <th>nose_len</th>\n",
              "      <th>bottom_lip_width</th>\n",
              "      <th>left_eye_size</th>\n",
              "      <th>right_eye_size</th>\n",
              "      <th>gender_encoded</th>\n",
              "    </tr>\n",
              "  </thead>\n",
              "  <tbody>\n",
              "    <tr>\n",
              "      <th>11194</th>\n",
              "      <td>31</td>\n",
              "      <td>0.083537</td>\n",
              "      <td>0.257633</td>\n",
              "      <td>0.267225</td>\n",
              "      <td>0.161353</td>\n",
              "      <td>0.179839</td>\n",
              "      <td>0.192905</td>\n",
              "      <td>0.375993</td>\n",
              "      <td>0.274627</td>\n",
              "      <td>0.098978</td>\n",
              "      <td>0.095528</td>\n",
              "      <td>0.063026</td>\n",
              "      <td>0</td>\n",
              "    </tr>\n",
              "    <tr>\n",
              "      <th>3594</th>\n",
              "      <td>21</td>\n",
              "      <td>0.101858</td>\n",
              "      <td>0.268823</td>\n",
              "      <td>0.288133</td>\n",
              "      <td>0.134244</td>\n",
              "      <td>0.130162</td>\n",
              "      <td>0.230354</td>\n",
              "      <td>0.492147</td>\n",
              "      <td>0.279327</td>\n",
              "      <td>0.049283</td>\n",
              "      <td>0.073467</td>\n",
              "      <td>0.032856</td>\n",
              "      <td>1</td>\n",
              "    </tr>\n",
              "    <tr>\n",
              "      <th>7185</th>\n",
              "      <td>26</td>\n",
              "      <td>0.114104</td>\n",
              "      <td>0.256203</td>\n",
              "      <td>0.242550</td>\n",
              "      <td>0.172397</td>\n",
              "      <td>0.172397</td>\n",
              "      <td>0.208093</td>\n",
              "      <td>0.386306</td>\n",
              "      <td>0.301935</td>\n",
              "      <td>0.062649</td>\n",
              "      <td>0.096776</td>\n",
              "      <td>0.057466</td>\n",
              "      <td>1</td>\n",
              "    </tr>\n",
              "    <tr>\n",
              "      <th>14975</th>\n",
              "      <td>40</td>\n",
              "      <td>0.114317</td>\n",
              "      <td>0.299903</td>\n",
              "      <td>0.261324</td>\n",
              "      <td>0.094757</td>\n",
              "      <td>0.100428</td>\n",
              "      <td>0.230403</td>\n",
              "      <td>0.440593</td>\n",
              "      <td>0.277316</td>\n",
              "      <td>0.044362</td>\n",
              "      <td>0.071013</td>\n",
              "      <td>0.044362</td>\n",
              "      <td>0</td>\n",
              "    </tr>\n",
              "    <tr>\n",
              "      <th>15615</th>\n",
              "      <td>42</td>\n",
              "      <td>0.107206</td>\n",
              "      <td>0.286689</td>\n",
              "      <td>0.256488</td>\n",
              "      <td>0.147854</td>\n",
              "      <td>0.146114</td>\n",
              "      <td>0.240785</td>\n",
              "      <td>0.450194</td>\n",
              "      <td>0.315569</td>\n",
              "      <td>0.058399</td>\n",
              "      <td>0.091222</td>\n",
              "      <td>0.052882</td>\n",
              "      <td>1</td>\n",
              "    </tr>\n",
              "    <tr>\n",
              "      <th>...</th>\n",
              "      <td>...</td>\n",
              "      <td>...</td>\n",
              "      <td>...</td>\n",
              "      <td>...</td>\n",
              "      <td>...</td>\n",
              "      <td>...</td>\n",
              "      <td>...</td>\n",
              "      <td>...</td>\n",
              "      <td>...</td>\n",
              "      <td>...</td>\n",
              "      <td>...</td>\n",
              "      <td>...</td>\n",
              "      <td>...</td>\n",
              "    </tr>\n",
              "    <tr>\n",
              "      <th>1453</th>\n",
              "      <td>13</td>\n",
              "      <td>0.096318</td>\n",
              "      <td>0.224914</td>\n",
              "      <td>0.309501</td>\n",
              "      <td>0.136214</td>\n",
              "      <td>0.148391</td>\n",
              "      <td>0.197943</td>\n",
              "      <td>0.471890</td>\n",
              "      <td>0.289921</td>\n",
              "      <td>0.053251</td>\n",
              "      <td>0.103501</td>\n",
              "      <td>0.066151</td>\n",
              "      <td>0</td>\n",
              "    </tr>\n",
              "    <tr>\n",
              "      <th>1758</th>\n",
              "      <td>15</td>\n",
              "      <td>0.086927</td>\n",
              "      <td>0.253135</td>\n",
              "      <td>0.271887</td>\n",
              "      <td>0.154329</td>\n",
              "      <td>0.139192</td>\n",
              "      <td>0.193546</td>\n",
              "      <td>0.428592</td>\n",
              "      <td>0.274887</td>\n",
              "      <td>0.054977</td>\n",
              "      <td>0.088648</td>\n",
              "      <td>0.043982</td>\n",
              "      <td>1</td>\n",
              "    </tr>\n",
              "    <tr>\n",
              "      <th>12789</th>\n",
              "      <td>35</td>\n",
              "      <td>0.092450</td>\n",
              "      <td>0.311270</td>\n",
              "      <td>0.254990</td>\n",
              "      <td>0.071132</td>\n",
              "      <td>0.083717</td>\n",
              "      <td>0.173434</td>\n",
              "      <td>0.362014</td>\n",
              "      <td>0.304272</td>\n",
              "      <td>0.070165</td>\n",
              "      <td>0.087706</td>\n",
              "      <td>0.048216</td>\n",
              "      <td>1</td>\n",
              "    </tr>\n",
              "    <tr>\n",
              "      <th>20701</th>\n",
              "      <td>69</td>\n",
              "      <td>0.098528</td>\n",
              "      <td>0.260616</td>\n",
              "      <td>0.291835</td>\n",
              "      <td>0.092753</td>\n",
              "      <td>0.094185</td>\n",
              "      <td>0.205330</td>\n",
              "      <td>0.464727</td>\n",
              "      <td>0.295074</td>\n",
              "      <td>0.058146</td>\n",
              "      <td>0.091481</td>\n",
              "      <td>0.058146</td>\n",
              "      <td>0</td>\n",
              "    </tr>\n",
              "    <tr>\n",
              "      <th>1354</th>\n",
              "      <td>12</td>\n",
              "      <td>0.083358</td>\n",
              "      <td>0.228402</td>\n",
              "      <td>0.252194</td>\n",
              "      <td>0.176829</td>\n",
              "      <td>0.182115</td>\n",
              "      <td>0.204574</td>\n",
              "      <td>0.394876</td>\n",
              "      <td>0.263651</td>\n",
              "      <td>0.072559</td>\n",
              "      <td>0.092043</td>\n",
              "      <td>0.051954</td>\n",
              "      <td>0</td>\n",
              "    </tr>\n",
              "  </tbody>\n",
              "</table>\n",
              "<p>6758 rows × 13 columns</p>\n",
              "</div>"
            ],
            "text/plain": [
              "       age  nose2lip  lip2chin  ...  left_eye_size  right_eye_size  gender_encoded\n",
              "11194   31  0.083537  0.257633  ...       0.095528        0.063026               0\n",
              "3594    21  0.101858  0.268823  ...       0.073467        0.032856               1\n",
              "7185    26  0.114104  0.256203  ...       0.096776        0.057466               1\n",
              "14975   40  0.114317  0.299903  ...       0.071013        0.044362               0\n",
              "15615   42  0.107206  0.286689  ...       0.091222        0.052882               1\n",
              "...    ...       ...       ...  ...            ...             ...             ...\n",
              "1453    13  0.096318  0.224914  ...       0.103501        0.066151               0\n",
              "1758    15  0.086927  0.253135  ...       0.088648        0.043982               1\n",
              "12789   35  0.092450  0.311270  ...       0.087706        0.048216               1\n",
              "20701   69  0.098528  0.260616  ...       0.091481        0.058146               0\n",
              "1354    12  0.083358  0.228402  ...       0.092043        0.051954               0\n",
              "\n",
              "[6758 rows x 13 columns]"
            ]
          },
          "metadata": {
            "tags": []
          },
          "execution_count": 93
        }
      ]
    },
    {
      "cell_type": "code",
      "metadata": {
        "id": "mc8oiXugk7b-",
        "colab": {
          "base_uri": "https://localhost:8080/"
        },
        "outputId": "ab382daf-2a55-477d-a1b9-1a30c08a0b73"
      },
      "source": [
        "clf = MLPClassifier(hidden_layer_sizes=(20), max_iter=100, alpha=0.0001,\n",
        "                     solver='lbfgs', verbose=10,  random_state=21,tol=0.000000001)\n",
        "clf.fit(train, train_label)\n",
        "pred = clf.predict(test)\n",
        "print(accuracy_score(test_label, pred))"
      ],
      "execution_count": 94,
      "outputs": [
        {
          "output_type": "stream",
          "text": [
            "0.9952648712636875\n"
          ],
          "name": "stdout"
        },
        {
          "output_type": "stream",
          "text": [
            "/usr/local/lib/python3.6/dist-packages/sklearn/neural_network/_multilayer_perceptron.py:470: ConvergenceWarning: lbfgs failed to converge (status=1):\n",
            "STOP: TOTAL NO. of ITERATIONS REACHED LIMIT.\n",
            "\n",
            "Increase the number of iterations (max_iter) or scale the data as shown in:\n",
            "    https://scikit-learn.org/stable/modules/preprocessing.html\n",
            "  self.n_iter_ = _check_optimize_result(\"lbfgs\", opt_res, self.max_iter)\n"
          ],
          "name": "stderr"
        }
      ]
    },
    {
      "cell_type": "code",
      "metadata": {
        "id": "hP41Js7NlVg0",
        "colab": {
          "base_uri": "https://localhost:8080/",
          "height": 419
        },
        "outputId": "a1316216-5b33-45b2-9da3-15a1cc6b20f9"
      },
      "source": [
        "df_ethnicity = pd.DataFrame({\"Predicted\":pred, \"Actual\" :test_label})\n",
        "df_ethnicity"
      ],
      "execution_count": 95,
      "outputs": [
        {
          "output_type": "execute_result",
          "data": {
            "text/html": [
              "<div>\n",
              "<style scoped>\n",
              "    .dataframe tbody tr th:only-of-type {\n",
              "        vertical-align: middle;\n",
              "    }\n",
              "\n",
              "    .dataframe tbody tr th {\n",
              "        vertical-align: top;\n",
              "    }\n",
              "\n",
              "    .dataframe thead th {\n",
              "        text-align: right;\n",
              "    }\n",
              "</style>\n",
              "<table border=\"1\" class=\"dataframe\">\n",
              "  <thead>\n",
              "    <tr style=\"text-align: right;\">\n",
              "      <th></th>\n",
              "      <th>Predicted</th>\n",
              "      <th>Actual</th>\n",
              "    </tr>\n",
              "  </thead>\n",
              "  <tbody>\n",
              "    <tr>\n",
              "      <th>0</th>\n",
              "      <td>1</td>\n",
              "      <td>1</td>\n",
              "    </tr>\n",
              "    <tr>\n",
              "      <th>1</th>\n",
              "      <td>2</td>\n",
              "      <td>2</td>\n",
              "    </tr>\n",
              "    <tr>\n",
              "      <th>2</th>\n",
              "      <td>4</td>\n",
              "      <td>4</td>\n",
              "    </tr>\n",
              "    <tr>\n",
              "      <th>3</th>\n",
              "      <td>4</td>\n",
              "      <td>4</td>\n",
              "    </tr>\n",
              "    <tr>\n",
              "      <th>4</th>\n",
              "      <td>4</td>\n",
              "      <td>4</td>\n",
              "    </tr>\n",
              "    <tr>\n",
              "      <th>...</th>\n",
              "      <td>...</td>\n",
              "      <td>...</td>\n",
              "    </tr>\n",
              "    <tr>\n",
              "      <th>6753</th>\n",
              "      <td>4</td>\n",
              "      <td>4</td>\n",
              "    </tr>\n",
              "    <tr>\n",
              "      <th>6754</th>\n",
              "      <td>4</td>\n",
              "      <td>4</td>\n",
              "    </tr>\n",
              "    <tr>\n",
              "      <th>6755</th>\n",
              "      <td>4</td>\n",
              "      <td>4</td>\n",
              "    </tr>\n",
              "    <tr>\n",
              "      <th>6756</th>\n",
              "      <td>4</td>\n",
              "      <td>4</td>\n",
              "    </tr>\n",
              "    <tr>\n",
              "      <th>6757</th>\n",
              "      <td>0</td>\n",
              "      <td>0</td>\n",
              "    </tr>\n",
              "  </tbody>\n",
              "</table>\n",
              "<p>6758 rows × 2 columns</p>\n",
              "</div>"
            ],
            "text/plain": [
              "      Predicted  Actual\n",
              "0             1       1\n",
              "1             2       2\n",
              "2             4       4\n",
              "3             4       4\n",
              "4             4       4\n",
              "...         ...     ...\n",
              "6753          4       4\n",
              "6754          4       4\n",
              "6755          4       4\n",
              "6756          4       4\n",
              "6757          0       0\n",
              "\n",
              "[6758 rows x 2 columns]"
            ]
          },
          "metadata": {
            "tags": []
          },
          "execution_count": 95
        }
      ]
    },
    {
      "cell_type": "code",
      "metadata": {
        "id": "XRL_UELclvxI",
        "colab": {
          "base_uri": "https://localhost:8080/"
        },
        "outputId": "2a8e4a45-4e19-421d-b129-3daa77e1892c"
      },
      "source": [
        "#This shows you the best variables to use for the model\n",
        "from sklearn.feature_selection import SelectKBest\n",
        "from sklearn.feature_selection import chi2\n",
        "\n",
        "bestfeatures = SelectKBest(score_func=chi2, k=13)\n",
        "fit = bestfeatures.fit(train, train_label)\n",
        "dfscores = pd.DataFrame(fit.scores_)\n",
        "dfcolumns = pd.DataFrame(train.columns)\n",
        "\n",
        "featureScores = pd.concat([dfcolumns,dfscores],axis=1)\n",
        "featureScores.columns = ['Specs','Score']  #naming the dataframe columns\n",
        "print(featureScores.nlargest(20,'Score'))"
      ],
      "execution_count": 96,
      "outputs": [
        {
          "output_type": "stream",
          "text": [
            "                Specs         Score\n",
            "12  ethnicity_encoded  14515.764514\n",
            "0                 age  11655.430340\n",
            "13     gender_encoded     41.209343\n",
            "2            lip2chin     13.855737\n",
            "4     left_eyelid_len     13.505561\n",
            "5    right_eyelid_len     13.120116\n",
            "7       size_of_mouth     12.688324\n",
            "9    bottom_lip_width     10.968819\n",
            "6          nose_width      9.935843\n",
            "11     right_eye_size      2.327700\n",
            "10      left_eye_size      2.013703\n",
            "3    len_between_eyes      1.388985\n",
            "1            nose2lip      1.331978\n",
            "8            nose_len      0.600367\n"
          ],
          "name": "stdout"
        }
      ]
    },
    {
      "cell_type": "markdown",
      "metadata": {
        "id": "-qhDKWCo_d1R"
      },
      "source": [
        "**Using Neural Net to Predict Gender**"
      ]
    },
    {
      "cell_type": "code",
      "metadata": {
        "id": "wkn6hXDt_T8o"
      },
      "source": [
        "import random\n",
        "train, test = train_test_split(face_recog, test_size=0.3)"
      ],
      "execution_count": 97,
      "outputs": []
    },
    {
      "cell_type": "code",
      "metadata": {
        "id": "06KH-H7w-geF"
      },
      "source": [
        "train = train.drop(columns= [\"path\", \"landmarks\", \"age_bins\", \"age_encoded\"])\n",
        "test = test.drop(columns= [\"path\", \"landmarks\", \"age_bins\", \"age_encoded\"])"
      ],
      "execution_count": 98,
      "outputs": []
    },
    {
      "cell_type": "code",
      "metadata": {
        "id": "SwFvXBQU-q-t"
      },
      "source": [
        "encoder_e = LabelEncoder()\n",
        "encoder_e.fit(train[\"ethnicity\"])\n",
        "encoder_e.classes_\n",
        "\n",
        "encoder_g = LabelEncoder()\n",
        "encoder_g.fit(train[\"gender\"])\n",
        "encoder_g.classes_\n",
        "\n",
        "e_train = encoder_e.transform(train[\"ethnicity\"])\n",
        "g_train = encoder_g.transform(train[\"gender\"])\n",
        "train.insert(14, \"ethnicity_encoded\", e_train)\n",
        "train.insert(15, \"gender_encoded\", g_train)\n",
        "train = train.drop(columns= [\"ethnicity\", \"gender\"])"
      ],
      "execution_count": 99,
      "outputs": []
    },
    {
      "cell_type": "code",
      "metadata": {
        "id": "Nve7yK4u--gN"
      },
      "source": [
        "encoder_e = LabelEncoder()\n",
        "encoder_e.fit(test[\"ethnicity\"])\n",
        "encoder_e.classes_\n",
        "\n",
        "encoder_g = LabelEncoder()\n",
        "encoder_g.fit(test[\"gender\"])\n",
        "encoder_g.classes_\n",
        "\n",
        "e_test = encoder_e.transform(test[\"ethnicity\"])\n",
        "g_test = encoder_g.transform(test[\"gender\"])\n",
        "test.insert(14, \"ethnicity_encoded\", e_test)\n",
        "test.insert(15, \"gender_encoded\", g_test)\n",
        "test = test.drop(columns= [\"ethnicity\", \"gender\"])"
      ],
      "execution_count": 100,
      "outputs": []
    },
    {
      "cell_type": "code",
      "metadata": {
        "id": "pxLAr1p7_A9T"
      },
      "source": [
        "train_label = train[\"gender_encoded\"].values\n",
        "test_label = test[\"gender_encoded\"].values\n"
      ],
      "execution_count": 101,
      "outputs": []
    },
    {
      "cell_type": "code",
      "metadata": {
        "colab": {
          "base_uri": "https://localhost:8080/",
          "height": 439
        },
        "id": "bk6Y_QJQ_MEe",
        "outputId": "69c99780-4f17-4672-e2e1-d992a1304bbb"
      },
      "source": [
        "train.drop(columns = [\"gender_encoded\"])\n",
        "test.drop(columns=[\"gender_encoded\"])"
      ],
      "execution_count": 102,
      "outputs": [
        {
          "output_type": "execute_result",
          "data": {
            "text/html": [
              "<div>\n",
              "<style scoped>\n",
              "    .dataframe tbody tr th:only-of-type {\n",
              "        vertical-align: middle;\n",
              "    }\n",
              "\n",
              "    .dataframe tbody tr th {\n",
              "        vertical-align: top;\n",
              "    }\n",
              "\n",
              "    .dataframe thead th {\n",
              "        text-align: right;\n",
              "    }\n",
              "</style>\n",
              "<table border=\"1\" class=\"dataframe\">\n",
              "  <thead>\n",
              "    <tr style=\"text-align: right;\">\n",
              "      <th></th>\n",
              "      <th>age</th>\n",
              "      <th>nose2lip</th>\n",
              "      <th>lip2chin</th>\n",
              "      <th>len_between_eyes</th>\n",
              "      <th>left_eyelid_len</th>\n",
              "      <th>right_eyelid_len</th>\n",
              "      <th>nose_width</th>\n",
              "      <th>size_of_mouth</th>\n",
              "      <th>nose_len</th>\n",
              "      <th>bottom_lip_width</th>\n",
              "      <th>left_eye_size</th>\n",
              "      <th>right_eye_size</th>\n",
              "      <th>ethnicity_encoded</th>\n",
              "    </tr>\n",
              "  </thead>\n",
              "  <tbody>\n",
              "    <tr>\n",
              "      <th>9460</th>\n",
              "      <td>29</td>\n",
              "      <td>0.103053</td>\n",
              "      <td>0.267636</td>\n",
              "      <td>0.269717</td>\n",
              "      <td>0.152501</td>\n",
              "      <td>0.163664</td>\n",
              "      <td>0.192226</td>\n",
              "      <td>0.398773</td>\n",
              "      <td>0.269513</td>\n",
              "      <td>0.089818</td>\n",
              "      <td>0.111428</td>\n",
              "      <td>0.067597</td>\n",
              "      <td>3</td>\n",
              "    </tr>\n",
              "    <tr>\n",
              "      <th>101</th>\n",
              "      <td>1</td>\n",
              "      <td>0.137719</td>\n",
              "      <td>0.243921</td>\n",
              "      <td>0.264060</td>\n",
              "      <td>0.161277</td>\n",
              "      <td>0.160290</td>\n",
              "      <td>0.180289</td>\n",
              "      <td>0.301270</td>\n",
              "      <td>0.253042</td>\n",
              "      <td>0.059346</td>\n",
              "      <td>0.107459</td>\n",
              "      <td>0.069848</td>\n",
              "      <td>0</td>\n",
              "    </tr>\n",
              "    <tr>\n",
              "      <th>14131</th>\n",
              "      <td>38</td>\n",
              "      <td>0.093842</td>\n",
              "      <td>0.228703</td>\n",
              "      <td>0.251987</td>\n",
              "      <td>0.152080</td>\n",
              "      <td>0.182348</td>\n",
              "      <td>0.207061</td>\n",
              "      <td>0.374811</td>\n",
              "      <td>0.286382</td>\n",
              "      <td>0.090267</td>\n",
              "      <td>0.099041</td>\n",
              "      <td>0.073632</td>\n",
              "      <td>1</td>\n",
              "    </tr>\n",
              "    <tr>\n",
              "      <th>13945</th>\n",
              "      <td>37</td>\n",
              "      <td>0.091348</td>\n",
              "      <td>0.323228</td>\n",
              "      <td>0.242934</td>\n",
              "      <td>0.096146</td>\n",
              "      <td>0.111947</td>\n",
              "      <td>0.231635</td>\n",
              "      <td>0.418416</td>\n",
              "      <td>0.300809</td>\n",
              "      <td>0.055974</td>\n",
              "      <td>0.083544</td>\n",
              "      <td>0.050435</td>\n",
              "      <td>4</td>\n",
              "    </tr>\n",
              "    <tr>\n",
              "      <th>4917</th>\n",
              "      <td>24</td>\n",
              "      <td>0.105884</td>\n",
              "      <td>0.241165</td>\n",
              "      <td>0.221676</td>\n",
              "      <td>0.157161</td>\n",
              "      <td>0.131611</td>\n",
              "      <td>0.205703</td>\n",
              "      <td>0.389429</td>\n",
              "      <td>0.301068</td>\n",
              "      <td>0.080706</td>\n",
              "      <td>0.106562</td>\n",
              "      <td>0.064645</td>\n",
              "      <td>0</td>\n",
              "    </tr>\n",
              "    <tr>\n",
              "      <th>...</th>\n",
              "      <td>...</td>\n",
              "      <td>...</td>\n",
              "      <td>...</td>\n",
              "      <td>...</td>\n",
              "      <td>...</td>\n",
              "      <td>...</td>\n",
              "      <td>...</td>\n",
              "      <td>...</td>\n",
              "      <td>...</td>\n",
              "      <td>...</td>\n",
              "      <td>...</td>\n",
              "      <td>...</td>\n",
              "      <td>...</td>\n",
              "    </tr>\n",
              "    <tr>\n",
              "      <th>15433</th>\n",
              "      <td>41</td>\n",
              "      <td>0.100135</td>\n",
              "      <td>0.306274</td>\n",
              "      <td>0.262550</td>\n",
              "      <td>0.135753</td>\n",
              "      <td>0.126934</td>\n",
              "      <td>0.232662</td>\n",
              "      <td>0.396515</td>\n",
              "      <td>0.288186</td>\n",
              "      <td>0.058801</td>\n",
              "      <td>0.078890</td>\n",
              "      <td>0.035281</td>\n",
              "      <td>4</td>\n",
              "    </tr>\n",
              "    <tr>\n",
              "      <th>8135</th>\n",
              "      <td>27</td>\n",
              "      <td>0.097438</td>\n",
              "      <td>0.279431</td>\n",
              "      <td>0.265160</td>\n",
              "      <td>0.149205</td>\n",
              "      <td>0.141549</td>\n",
              "      <td>0.196900</td>\n",
              "      <td>0.383779</td>\n",
              "      <td>0.291866</td>\n",
              "      <td>0.074603</td>\n",
              "      <td>0.114435</td>\n",
              "      <td>0.074603</td>\n",
              "      <td>0</td>\n",
              "    </tr>\n",
              "    <tr>\n",
              "      <th>17749</th>\n",
              "      <td>52</td>\n",
              "      <td>0.124019</td>\n",
              "      <td>0.306918</td>\n",
              "      <td>0.268980</td>\n",
              "      <td>0.097515</td>\n",
              "      <td>0.107922</td>\n",
              "      <td>0.218229</td>\n",
              "      <td>0.461862</td>\n",
              "      <td>0.271206</td>\n",
              "      <td>0.033893</td>\n",
              "      <td>0.088239</td>\n",
              "      <td>0.056771</td>\n",
              "      <td>4</td>\n",
              "    </tr>\n",
              "    <tr>\n",
              "      <th>340</th>\n",
              "      <td>1</td>\n",
              "      <td>0.096447</td>\n",
              "      <td>0.255429</td>\n",
              "      <td>0.266031</td>\n",
              "      <td>0.142693</td>\n",
              "      <td>0.149502</td>\n",
              "      <td>0.170849</td>\n",
              "      <td>0.274995</td>\n",
              "      <td>0.254212</td>\n",
              "      <td>0.081490</td>\n",
              "      <td>0.129398</td>\n",
              "      <td>0.086415</td>\n",
              "      <td>4</td>\n",
              "    </tr>\n",
              "    <tr>\n",
              "      <th>7049</th>\n",
              "      <td>26</td>\n",
              "      <td>0.072963</td>\n",
              "      <td>0.277064</td>\n",
              "      <td>0.254987</td>\n",
              "      <td>0.153393</td>\n",
              "      <td>0.157368</td>\n",
              "      <td>0.215047</td>\n",
              "      <td>0.460086</td>\n",
              "      <td>0.282062</td>\n",
              "      <td>0.054233</td>\n",
              "      <td>0.085749</td>\n",
              "      <td>0.048809</td>\n",
              "      <td>4</td>\n",
              "    </tr>\n",
              "  </tbody>\n",
              "</table>\n",
              "<p>6758 rows × 13 columns</p>\n",
              "</div>"
            ],
            "text/plain": [
              "       age  nose2lip  ...  right_eye_size  ethnicity_encoded\n",
              "9460    29  0.103053  ...        0.067597                  3\n",
              "101      1  0.137719  ...        0.069848                  0\n",
              "14131   38  0.093842  ...        0.073632                  1\n",
              "13945   37  0.091348  ...        0.050435                  4\n",
              "4917    24  0.105884  ...        0.064645                  0\n",
              "...    ...       ...  ...             ...                ...\n",
              "15433   41  0.100135  ...        0.035281                  4\n",
              "8135    27  0.097438  ...        0.074603                  0\n",
              "17749   52  0.124019  ...        0.056771                  4\n",
              "340      1  0.096447  ...        0.086415                  4\n",
              "7049    26  0.072963  ...        0.048809                  4\n",
              "\n",
              "[6758 rows x 13 columns]"
            ]
          },
          "metadata": {
            "tags": []
          },
          "execution_count": 102
        }
      ]
    },
    {
      "cell_type": "code",
      "metadata": {
        "colab": {
          "base_uri": "https://localhost:8080/"
        },
        "id": "YoRr891Y_RdN",
        "outputId": "85facff9-8422-4f2f-d8f2-59301860ac61"
      },
      "source": [
        "clf = MLPClassifier(hidden_layer_sizes=(20), max_iter=100, alpha=0.0001,\n",
        "                     solver='lbfgs', verbose=10, random_state=21, tol=0.000000001)\n",
        "clf.fit(train, train_label)\n",
        "pred = clf.predict(test)\n",
        "print(accuracy_score(test_label, pred))"
      ],
      "execution_count": 105,
      "outputs": [
        {
          "output_type": "stream",
          "text": [
            "1.0\n"
          ],
          "name": "stdout"
        }
      ]
    },
    {
      "cell_type": "code",
      "metadata": {
        "id": "A_ZNeygQ_Zql"
      },
      "source": [
        ""
      ],
      "execution_count": null,
      "outputs": []
    }
  ]
}