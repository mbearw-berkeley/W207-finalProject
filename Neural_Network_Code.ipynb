{
  "nbformat": 4,
  "nbformat_minor": 0,
  "metadata": {
    "colab": {
      "name": "Neural_Network_Code.ipynb",
      "provenance": [],
      "collapsed_sections": []
    },
    "kernelspec": {
      "name": "python3",
      "display_name": "Python 3"
    }
  },
  "cells": [
    {
      "cell_type": "markdown",
      "metadata": {
        "id": "Vnp6zzB79BA9"
      },
      "source": [
        "**Implementing a Neural Net**"
      ]
    },
    {
      "cell_type": "code",
      "metadata": {
        "id": "zm9172Rb8SiO"
      },
      "source": [
        "import pandas as pd\n",
        "from sklearn.neural_network import MLPClassifier\n",
        "\n",
        "from sklearn.preprocessing import StandardScaler, MinMaxScaler\n",
        "from sklearn.preprocessing import LabelEncoder, OneHotEncoder\n",
        "from sklearn.feature_extraction import DictVectorizer\n",
        "\n",
        "from sklearn.pipeline import Pipeline\n",
        "from sklearn.metrics import accuracy_score\n",
        "from sklearn.model_selection import train_test_split\n",
        "\n",
        "import matplotlib.pyplot as plt\n",
        "import numpy as np"
      ],
      "execution_count": 1,
      "outputs": []
    },
    {
      "cell_type": "code",
      "metadata": {
        "id": "08ScN9iMyjcO"
      },
      "source": [
        ""
      ],
      "execution_count": null,
      "outputs": []
    },
    {
      "cell_type": "code",
      "metadata": {
        "id": "EThtX4Mb8eBE",
        "colab": {
          "resources": {
            "http://localhost:8080/nbextensions/google.colab/files.js": {
              "data": "Ly8gQ29weXJpZ2h0IDIwMTcgR29vZ2xlIExMQwovLwovLyBMaWNlbnNlZCB1bmRlciB0aGUgQXBhY2hlIExpY2Vuc2UsIFZlcnNpb24gMi4wICh0aGUgIkxpY2Vuc2UiKTsKLy8geW91IG1heSBub3QgdXNlIHRoaXMgZmlsZSBleGNlcHQgaW4gY29tcGxpYW5jZSB3aXRoIHRoZSBMaWNlbnNlLgovLyBZb3UgbWF5IG9idGFpbiBhIGNvcHkgb2YgdGhlIExpY2Vuc2UgYXQKLy8KLy8gICAgICBodHRwOi8vd3d3LmFwYWNoZS5vcmcvbGljZW5zZXMvTElDRU5TRS0yLjAKLy8KLy8gVW5sZXNzIHJlcXVpcmVkIGJ5IGFwcGxpY2FibGUgbGF3IG9yIGFncmVlZCB0byBpbiB3cml0aW5nLCBzb2Z0d2FyZQovLyBkaXN0cmlidXRlZCB1bmRlciB0aGUgTGljZW5zZSBpcyBkaXN0cmlidXRlZCBvbiBhbiAiQVMgSVMiIEJBU0lTLAovLyBXSVRIT1VUIFdBUlJBTlRJRVMgT1IgQ09ORElUSU9OUyBPRiBBTlkgS0lORCwgZWl0aGVyIGV4cHJlc3Mgb3IgaW1wbGllZC4KLy8gU2VlIHRoZSBMaWNlbnNlIGZvciB0aGUgc3BlY2lmaWMgbGFuZ3VhZ2UgZ292ZXJuaW5nIHBlcm1pc3Npb25zIGFuZAovLyBsaW1pdGF0aW9ucyB1bmRlciB0aGUgTGljZW5zZS4KCi8qKgogKiBAZmlsZW92ZXJ2aWV3IEhlbHBlcnMgZm9yIGdvb2dsZS5jb2xhYiBQeXRob24gbW9kdWxlLgogKi8KKGZ1bmN0aW9uKHNjb3BlKSB7CmZ1bmN0aW9uIHNwYW4odGV4dCwgc3R5bGVBdHRyaWJ1dGVzID0ge30pIHsKICBjb25zdCBlbGVtZW50ID0gZG9jdW1lbnQuY3JlYXRlRWxlbWVudCgnc3BhbicpOwogIGVsZW1lbnQudGV4dENvbnRlbnQgPSB0ZXh0OwogIGZvciAoY29uc3Qga2V5IG9mIE9iamVjdC5rZXlzKHN0eWxlQXR0cmlidXRlcykpIHsKICAgIGVsZW1lbnQuc3R5bGVba2V5XSA9IHN0eWxlQXR0cmlidXRlc1trZXldOwogIH0KICByZXR1cm4gZWxlbWVudDsKfQoKLy8gTWF4IG51bWJlciBvZiBieXRlcyB3aGljaCB3aWxsIGJlIHVwbG9hZGVkIGF0IGEgdGltZS4KY29uc3QgTUFYX1BBWUxPQURfU0laRSA9IDEwMCAqIDEwMjQ7CgpmdW5jdGlvbiBfdXBsb2FkRmlsZXMoaW5wdXRJZCwgb3V0cHV0SWQpIHsKICBjb25zdCBzdGVwcyA9IHVwbG9hZEZpbGVzU3RlcChpbnB1dElkLCBvdXRwdXRJZCk7CiAgY29uc3Qgb3V0cHV0RWxlbWVudCA9IGRvY3VtZW50LmdldEVsZW1lbnRCeUlkKG91dHB1dElkKTsKICAvLyBDYWNoZSBzdGVwcyBvbiB0aGUgb3V0cHV0RWxlbWVudCB0byBtYWtlIGl0IGF2YWlsYWJsZSBmb3IgdGhlIG5leHQgY2FsbAogIC8vIHRvIHVwbG9hZEZpbGVzQ29udGludWUgZnJvbSBQeXRob24uCiAgb3V0cHV0RWxlbWVudC5zdGVwcyA9IHN0ZXBzOwoKICByZXR1cm4gX3VwbG9hZEZpbGVzQ29udGludWUob3V0cHV0SWQpOwp9CgovLyBUaGlzIGlzIHJvdWdobHkgYW4gYXN5bmMgZ2VuZXJhdG9yIChub3Qgc3VwcG9ydGVkIGluIHRoZSBicm93c2VyIHlldCksCi8vIHdoZXJlIHRoZXJlIGFyZSBtdWx0aXBsZSBhc3luY2hyb25vdXMgc3RlcHMgYW5kIHRoZSBQeXRob24gc2lkZSBpcyBnb2luZwovLyB0byBwb2xsIGZvciBjb21wbGV0aW9uIG9mIGVhY2ggc3RlcC4KLy8gVGhpcyB1c2VzIGEgUHJvbWlzZSB0byBibG9jayB0aGUgcHl0aG9uIHNpZGUgb24gY29tcGxldGlvbiBvZiBlYWNoIHN0ZXAsCi8vIHRoZW4gcGFzc2VzIHRoZSByZXN1bHQgb2YgdGhlIHByZXZpb3VzIHN0ZXAgYXMgdGhlIGlucHV0IHRvIHRoZSBuZXh0IHN0ZXAuCmZ1bmN0aW9uIF91cGxvYWRGaWxlc0NvbnRpbnVlKG91dHB1dElkKSB7CiAgY29uc3Qgb3V0cHV0RWxlbWVudCA9IGRvY3VtZW50LmdldEVsZW1lbnRCeUlkKG91dHB1dElkKTsKICBjb25zdCBzdGVwcyA9IG91dHB1dEVsZW1lbnQuc3RlcHM7CgogIGNvbnN0IG5leHQgPSBzdGVwcy5uZXh0KG91dHB1dEVsZW1lbnQubGFzdFByb21pc2VWYWx1ZSk7CiAgcmV0dXJuIFByb21pc2UucmVzb2x2ZShuZXh0LnZhbHVlLnByb21pc2UpLnRoZW4oKHZhbHVlKSA9PiB7CiAgICAvLyBDYWNoZSB0aGUgbGFzdCBwcm9taXNlIHZhbHVlIHRvIG1ha2UgaXQgYXZhaWxhYmxlIHRvIHRoZSBuZXh0CiAgICAvLyBzdGVwIG9mIHRoZSBnZW5lcmF0b3IuCiAgICBvdXRwdXRFbGVtZW50Lmxhc3RQcm9taXNlVmFsdWUgPSB2YWx1ZTsKICAgIHJldHVybiBuZXh0LnZhbHVlLnJlc3BvbnNlOwogIH0pOwp9CgovKioKICogR2VuZXJhdG9yIGZ1bmN0aW9uIHdoaWNoIGlzIGNhbGxlZCBiZXR3ZWVuIGVhY2ggYXN5bmMgc3RlcCBvZiB0aGUgdXBsb2FkCiAqIHByb2Nlc3MuCiAqIEBwYXJhbSB7c3RyaW5nfSBpbnB1dElkIEVsZW1lbnQgSUQgb2YgdGhlIGlucHV0IGZpbGUgcGlja2VyIGVsZW1lbnQuCiAqIEBwYXJhbSB7c3RyaW5nfSBvdXRwdXRJZCBFbGVtZW50IElEIG9mIHRoZSBvdXRwdXQgZGlzcGxheS4KICogQHJldHVybiB7IUl0ZXJhYmxlPCFPYmplY3Q+fSBJdGVyYWJsZSBvZiBuZXh0IHN0ZXBzLgogKi8KZnVuY3Rpb24qIHVwbG9hZEZpbGVzU3RlcChpbnB1dElkLCBvdXRwdXRJZCkgewogIGNvbnN0IGlucHV0RWxlbWVudCA9IGRvY3VtZW50LmdldEVsZW1lbnRCeUlkKGlucHV0SWQpOwogIGlucHV0RWxlbWVudC5kaXNhYmxlZCA9IGZhbHNlOwoKICBjb25zdCBvdXRwdXRFbGVtZW50ID0gZG9jdW1lbnQuZ2V0RWxlbWVudEJ5SWQob3V0cHV0SWQpOwogIG91dHB1dEVsZW1lbnQuaW5uZXJIVE1MID0gJyc7CgogIGNvbnN0IHBpY2tlZFByb21pc2UgPSBuZXcgUHJvbWlzZSgocmVzb2x2ZSkgPT4gewogICAgaW5wdXRFbGVtZW50LmFkZEV2ZW50TGlzdGVuZXIoJ2NoYW5nZScsIChlKSA9PiB7CiAgICAgIHJlc29sdmUoZS50YXJnZXQuZmlsZXMpOwogICAgfSk7CiAgfSk7CgogIGNvbnN0IGNhbmNlbCA9IGRvY3VtZW50LmNyZWF0ZUVsZW1lbnQoJ2J1dHRvbicpOwogIGlucHV0RWxlbWVudC5wYXJlbnRFbGVtZW50LmFwcGVuZENoaWxkKGNhbmNlbCk7CiAgY2FuY2VsLnRleHRDb250ZW50ID0gJ0NhbmNlbCB1cGxvYWQnOwogIGNvbnN0IGNhbmNlbFByb21pc2UgPSBuZXcgUHJvbWlzZSgocmVzb2x2ZSkgPT4gewogICAgY2FuY2VsLm9uY2xpY2sgPSAoKSA9PiB7CiAgICAgIHJlc29sdmUobnVsbCk7CiAgICB9OwogIH0pOwoKICAvLyBXYWl0IGZvciB0aGUgdXNlciB0byBwaWNrIHRoZSBmaWxlcy4KICBjb25zdCBmaWxlcyA9IHlpZWxkIHsKICAgIHByb21pc2U6IFByb21pc2UucmFjZShbcGlja2VkUHJvbWlzZSwgY2FuY2VsUHJvbWlzZV0pLAogICAgcmVzcG9uc2U6IHsKICAgICAgYWN0aW9uOiAnc3RhcnRpbmcnLAogICAgfQogIH07CgogIGNhbmNlbC5yZW1vdmUoKTsKCiAgLy8gRGlzYWJsZSB0aGUgaW5wdXQgZWxlbWVudCBzaW5jZSBmdXJ0aGVyIHBpY2tzIGFyZSBub3QgYWxsb3dlZC4KICBpbnB1dEVsZW1lbnQuZGlzYWJsZWQgPSB0cnVlOwoKICBpZiAoIWZpbGVzKSB7CiAgICByZXR1cm4gewogICAgICByZXNwb25zZTogewogICAgICAgIGFjdGlvbjogJ2NvbXBsZXRlJywKICAgICAgfQogICAgfTsKICB9CgogIGZvciAoY29uc3QgZmlsZSBvZiBmaWxlcykgewogICAgY29uc3QgbGkgPSBkb2N1bWVudC5jcmVhdGVFbGVtZW50KCdsaScpOwogICAgbGkuYXBwZW5kKHNwYW4oZmlsZS5uYW1lLCB7Zm9udFdlaWdodDogJ2JvbGQnfSkpOwogICAgbGkuYXBwZW5kKHNwYW4oCiAgICAgICAgYCgke2ZpbGUudHlwZSB8fCAnbi9hJ30pIC0gJHtmaWxlLnNpemV9IGJ5dGVzLCBgICsKICAgICAgICBgbGFzdCBtb2RpZmllZDogJHsKICAgICAgICAgICAgZmlsZS5sYXN0TW9kaWZpZWREYXRlID8gZmlsZS5sYXN0TW9kaWZpZWREYXRlLnRvTG9jYWxlRGF0ZVN0cmluZygpIDoKICAgICAgICAgICAgICAgICAgICAgICAgICAgICAgICAgICAgJ24vYSd9IC0gYCkpOwogICAgY29uc3QgcGVyY2VudCA9IHNwYW4oJzAlIGRvbmUnKTsKICAgIGxpLmFwcGVuZENoaWxkKHBlcmNlbnQpOwoKICAgIG91dHB1dEVsZW1lbnQuYXBwZW5kQ2hpbGQobGkpOwoKICAgIGNvbnN0IGZpbGVEYXRhUHJvbWlzZSA9IG5ldyBQcm9taXNlKChyZXNvbHZlKSA9PiB7CiAgICAgIGNvbnN0IHJlYWRlciA9IG5ldyBGaWxlUmVhZGVyKCk7CiAgICAgIHJlYWRlci5vbmxvYWQgPSAoZSkgPT4gewogICAgICAgIHJlc29sdmUoZS50YXJnZXQucmVzdWx0KTsKICAgICAgfTsKICAgICAgcmVhZGVyLnJlYWRBc0FycmF5QnVmZmVyKGZpbGUpOwogICAgfSk7CiAgICAvLyBXYWl0IGZvciB0aGUgZGF0YSB0byBiZSByZWFkeS4KICAgIGxldCBmaWxlRGF0YSA9IHlpZWxkIHsKICAgICAgcHJvbWlzZTogZmlsZURhdGFQcm9taXNlLAogICAgICByZXNwb25zZTogewogICAgICAgIGFjdGlvbjogJ2NvbnRpbnVlJywKICAgICAgfQogICAgfTsKCiAgICAvLyBVc2UgYSBjaHVua2VkIHNlbmRpbmcgdG8gYXZvaWQgbWVzc2FnZSBzaXplIGxpbWl0cy4gU2VlIGIvNjIxMTU2NjAuCiAgICBsZXQgcG9zaXRpb24gPSAwOwogICAgd2hpbGUgKHBvc2l0aW9uIDwgZmlsZURhdGEuYnl0ZUxlbmd0aCkgewogICAgICBjb25zdCBsZW5ndGggPSBNYXRoLm1pbihmaWxlRGF0YS5ieXRlTGVuZ3RoIC0gcG9zaXRpb24sIE1BWF9QQVlMT0FEX1NJWkUpOwogICAgICBjb25zdCBjaHVuayA9IG5ldyBVaW50OEFycmF5KGZpbGVEYXRhLCBwb3NpdGlvbiwgbGVuZ3RoKTsKICAgICAgcG9zaXRpb24gKz0gbGVuZ3RoOwoKICAgICAgY29uc3QgYmFzZTY0ID0gYnRvYShTdHJpbmcuZnJvbUNoYXJDb2RlLmFwcGx5KG51bGwsIGNodW5rKSk7CiAgICAgIHlpZWxkIHsKICAgICAgICByZXNwb25zZTogewogICAgICAgICAgYWN0aW9uOiAnYXBwZW5kJywKICAgICAgICAgIGZpbGU6IGZpbGUubmFtZSwKICAgICAgICAgIGRhdGE6IGJhc2U2NCwKICAgICAgICB9LAogICAgICB9OwogICAgICBwZXJjZW50LnRleHRDb250ZW50ID0KICAgICAgICAgIGAke01hdGgucm91bmQoKHBvc2l0aW9uIC8gZmlsZURhdGEuYnl0ZUxlbmd0aCkgKiAxMDApfSUgZG9uZWA7CiAgICB9CiAgfQoKICAvLyBBbGwgZG9uZS4KICB5aWVsZCB7CiAgICByZXNwb25zZTogewogICAgICBhY3Rpb246ICdjb21wbGV0ZScsCiAgICB9CiAgfTsKfQoKc2NvcGUuZ29vZ2xlID0gc2NvcGUuZ29vZ2xlIHx8IHt9OwpzY29wZS5nb29nbGUuY29sYWIgPSBzY29wZS5nb29nbGUuY29sYWIgfHwge307CnNjb3BlLmdvb2dsZS5jb2xhYi5fZmlsZXMgPSB7CiAgX3VwbG9hZEZpbGVzLAogIF91cGxvYWRGaWxlc0NvbnRpbnVlLAp9Owp9KShzZWxmKTsK",
              "ok": true,
              "headers": [
                [
                  "content-type",
                  "application/javascript"
                ]
              ],
              "status": 200,
              "status_text": ""
            }
          },
          "base_uri": "https://localhost:8080/",
          "height": 73
        },
        "outputId": "eb6c4884-5720-4d74-a74b-2f2f52efbe37"
      },
      "source": [
        "from google.colab import files\n",
        "uploaded = files.upload()\n"
      ],
      "execution_count": 2,
      "outputs": [
        {
          "output_type": "display_data",
          "data": {
            "text/html": [
              "\n",
              "     <input type=\"file\" id=\"files-fff8e206-7892-44a4-af9d-c04f5ac25988\" name=\"files[]\" multiple disabled\n",
              "        style=\"border:none\" />\n",
              "     <output id=\"result-fff8e206-7892-44a4-af9d-c04f5ac25988\">\n",
              "      Upload widget is only available when the cell has been executed in the\n",
              "      current browser session. Please rerun this cell to enable.\n",
              "      </output>\n",
              "      <script src=\"/nbextensions/google.colab/files.js\"></script> "
            ],
            "text/plain": [
              "<IPython.core.display.HTML object>"
            ]
          },
          "metadata": {
            "tags": []
          }
        },
        {
          "output_type": "stream",
          "text": [
            "Saving to_neural_net.csv to to_neural_net.csv\n"
          ],
          "name": "stdout"
        }
      ]
    },
    {
      "cell_type": "code",
      "metadata": {
        "id": "32tt6uwhONKp"
      },
      "source": [
        "import io\n",
        "face_recog = pd.read_csv(io.BytesIO(uploaded['to_neural_net.csv']))"
      ],
      "execution_count": 65,
      "outputs": []
    },
    {
      "cell_type": "code",
      "metadata": {
        "id": "gKH81PUhgLbB",
        "colab": {
          "base_uri": "https://localhost:8080/",
          "height": 551
        },
        "outputId": "fcce6043-5a77-421a-ba44-95b3b6f642b4"
      },
      "source": [
        "face_recog['age_bins'] = pd.cut(x=face_recog['age'], \n",
        "                                bins=[0, 9, 29, 39, 49, 59, 69, 79, 89, 99, 130])\n",
        "face_recog['age_encoded'] = pd.cut(x=face_recog['age'], \n",
        "                                bins=[0, 9, 29, 39, 49, 59, 69, 79, 89, 99, 130], \n",
        "                                labels = [0, 1, 2, 3, 4, 5, 6, 7, 8, 9])\n",
        "face_recog.head()"
      ],
      "execution_count": 66,
      "outputs": [
        {
          "output_type": "execute_result",
          "data": {
            "text/html": [
              "<div>\n",
              "<style scoped>\n",
              "    .dataframe tbody tr th:only-of-type {\n",
              "        vertical-align: middle;\n",
              "    }\n",
              "\n",
              "    .dataframe tbody tr th {\n",
              "        vertical-align: top;\n",
              "    }\n",
              "\n",
              "    .dataframe thead th {\n",
              "        text-align: right;\n",
              "    }\n",
              "</style>\n",
              "<table border=\"1\" class=\"dataframe\">\n",
              "  <thead>\n",
              "    <tr style=\"text-align: right;\">\n",
              "      <th></th>\n",
              "      <th>age</th>\n",
              "      <th>ethnicity</th>\n",
              "      <th>gender</th>\n",
              "      <th>path</th>\n",
              "      <th>landmarks</th>\n",
              "      <th>nose2lip</th>\n",
              "      <th>lip2chin</th>\n",
              "      <th>len_between_eyes</th>\n",
              "      <th>left_eyelid_len</th>\n",
              "      <th>right_eyelid_len</th>\n",
              "      <th>nose_width</th>\n",
              "      <th>size_of_mouth</th>\n",
              "      <th>nose_len</th>\n",
              "      <th>bottom_lip_width</th>\n",
              "      <th>left_eye_size</th>\n",
              "      <th>right_eye_size</th>\n",
              "      <th>age_bins</th>\n",
              "      <th>age_encoded</th>\n",
              "    </tr>\n",
              "  </thead>\n",
              "  <tbody>\n",
              "    <tr>\n",
              "      <th>0</th>\n",
              "      <td>1</td>\n",
              "      <td>Asian</td>\n",
              "      <td>Male</td>\n",
              "      <td>images\\img0.jpg</td>\n",
              "      <td>[[-7, 51], [-5, 81], [-1, 110], [5, 136], [18,...</td>\n",
              "      <td>0.127843</td>\n",
              "      <td>0.172767</td>\n",
              "      <td>0.237232</td>\n",
              "      <td>0.187906</td>\n",
              "      <td>0.179991</td>\n",
              "      <td>0.153473</td>\n",
              "      <td>0.274431</td>\n",
              "      <td>0.283629</td>\n",
              "      <td>0.060333</td>\n",
              "      <td>0.145301</td>\n",
              "      <td>0.109268</td>\n",
              "      <td>(0, 9]</td>\n",
              "      <td>0</td>\n",
              "    </tr>\n",
              "    <tr>\n",
              "      <th>1</th>\n",
              "      <td>1</td>\n",
              "      <td>Asian</td>\n",
              "      <td>Male</td>\n",
              "      <td>images\\img1.jpg</td>\n",
              "      <td>[[6, 65], [10, 93], [17, 119], [24, 144], [35,...</td>\n",
              "      <td>0.115510</td>\n",
              "      <td>0.146110</td>\n",
              "      <td>0.275589</td>\n",
              "      <td>0.212916</td>\n",
              "      <td>0.201710</td>\n",
              "      <td>0.155617</td>\n",
              "      <td>0.248926</td>\n",
              "      <td>0.263344</td>\n",
              "      <td>0.078643</td>\n",
              "      <td>0.122885</td>\n",
              "      <td>0.084790</td>\n",
              "      <td>(0, 9]</td>\n",
              "      <td>0</td>\n",
              "    </tr>\n",
              "    <tr>\n",
              "      <th>2</th>\n",
              "      <td>1</td>\n",
              "      <td>Asian</td>\n",
              "      <td>Male</td>\n",
              "      <td>images\\img2.jpg</td>\n",
              "      <td>[[11, 75], [12, 102], [17, 129], [23, 153], [3...</td>\n",
              "      <td>0.093780</td>\n",
              "      <td>0.214220</td>\n",
              "      <td>0.256911</td>\n",
              "      <td>0.193784</td>\n",
              "      <td>0.204183</td>\n",
              "      <td>0.151439</td>\n",
              "      <td>0.279955</td>\n",
              "      <td>0.264790</td>\n",
              "      <td>0.077230</td>\n",
              "      <td>0.121487</td>\n",
              "      <td>0.094426</td>\n",
              "      <td>(0, 9]</td>\n",
              "      <td>0</td>\n",
              "    </tr>\n",
              "    <tr>\n",
              "      <th>3</th>\n",
              "      <td>1</td>\n",
              "      <td>Asian</td>\n",
              "      <td>Male</td>\n",
              "      <td>images\\img3.jpg</td>\n",
              "      <td>[[-6, 78], [-4, 105], [-1, 131], [3, 156], [13...</td>\n",
              "      <td>0.087586</td>\n",
              "      <td>0.221280</td>\n",
              "      <td>0.266966</td>\n",
              "      <td>0.170970</td>\n",
              "      <td>0.172216</td>\n",
              "      <td>0.181050</td>\n",
              "      <td>0.357491</td>\n",
              "      <td>0.256329</td>\n",
              "      <td>0.069628</td>\n",
              "      <td>0.121071</td>\n",
              "      <td>0.074953</td>\n",
              "      <td>(0, 9]</td>\n",
              "      <td>0</td>\n",
              "    </tr>\n",
              "    <tr>\n",
              "      <th>4</th>\n",
              "      <td>1</td>\n",
              "      <td>Asian</td>\n",
              "      <td>Male</td>\n",
              "      <td>images\\img4.jpg</td>\n",
              "      <td>[[-4, 79], [-2, 104], [-1, 129], [0, 155], [8,...</td>\n",
              "      <td>0.093075</td>\n",
              "      <td>0.274444</td>\n",
              "      <td>0.275523</td>\n",
              "      <td>0.153957</td>\n",
              "      <td>0.150599</td>\n",
              "      <td>0.191064</td>\n",
              "      <td>0.422118</td>\n",
              "      <td>0.252346</td>\n",
              "      <td>0.054845</td>\n",
              "      <td>0.095940</td>\n",
              "      <td>0.049664</td>\n",
              "      <td>(0, 9]</td>\n",
              "      <td>0</td>\n",
              "    </tr>\n",
              "  </tbody>\n",
              "</table>\n",
              "</div>"
            ],
            "text/plain": [
              "   age ethnicity gender  ... right_eye_size age_bins  age_encoded\n",
              "0    1     Asian   Male  ...       0.109268   (0, 9]            0\n",
              "1    1     Asian   Male  ...       0.084790   (0, 9]            0\n",
              "2    1     Asian   Male  ...       0.094426   (0, 9]            0\n",
              "3    1     Asian   Male  ...       0.074953   (0, 9]            0\n",
              "4    1     Asian   Male  ...       0.049664   (0, 9]            0\n",
              "\n",
              "[5 rows x 18 columns]"
            ]
          },
          "metadata": {
            "tags": []
          },
          "execution_count": 66
        }
      ]
    },
    {
      "cell_type": "code",
      "metadata": {
        "colab": {
          "base_uri": "https://localhost:8080/",
          "height": 1000
        },
        "id": "2yaBLG1czkFx",
        "outputId": "1357f0c6-7fb7-4ef2-e257-b6cd6b32f739"
      },
      "source": [
        "face_recog[(face_recog[\"age\"] <= 25) &(face_recog[\"age\"]>18)]"
      ],
      "execution_count": 67,
      "outputs": [
        {
          "output_type": "execute_result",
          "data": {
            "text/html": [
              "<div>\n",
              "<style scoped>\n",
              "    .dataframe tbody tr th:only-of-type {\n",
              "        vertical-align: middle;\n",
              "    }\n",
              "\n",
              "    .dataframe tbody tr th {\n",
              "        vertical-align: top;\n",
              "    }\n",
              "\n",
              "    .dataframe thead th {\n",
              "        text-align: right;\n",
              "    }\n",
              "</style>\n",
              "<table border=\"1\" class=\"dataframe\">\n",
              "  <thead>\n",
              "    <tr style=\"text-align: right;\">\n",
              "      <th></th>\n",
              "      <th>age</th>\n",
              "      <th>ethnicity</th>\n",
              "      <th>gender</th>\n",
              "      <th>path</th>\n",
              "      <th>landmarks</th>\n",
              "      <th>nose2lip</th>\n",
              "      <th>lip2chin</th>\n",
              "      <th>len_between_eyes</th>\n",
              "      <th>left_eyelid_len</th>\n",
              "      <th>right_eyelid_len</th>\n",
              "      <th>nose_width</th>\n",
              "      <th>size_of_mouth</th>\n",
              "      <th>nose_len</th>\n",
              "      <th>bottom_lip_width</th>\n",
              "      <th>left_eye_size</th>\n",
              "      <th>right_eye_size</th>\n",
              "      <th>age_bins</th>\n",
              "      <th>age_encoded</th>\n",
              "    </tr>\n",
              "  </thead>\n",
              "  <tbody>\n",
              "    <tr>\n",
              "      <th>2462</th>\n",
              "      <td>19</td>\n",
              "      <td>Black</td>\n",
              "      <td>Female</td>\n",
              "      <td>images\\img2588.jpg</td>\n",
              "      <td>[[-24, 66], [-23, 95], [-20, 125], [-13, 154],...</td>\n",
              "      <td>0.067778</td>\n",
              "      <td>0.211139</td>\n",
              "      <td>0.244353</td>\n",
              "      <td>0.164625</td>\n",
              "      <td>0.160613</td>\n",
              "      <td>0.193207</td>\n",
              "      <td>0.355267</td>\n",
              "      <td>0.266359</td>\n",
              "      <td>0.091054</td>\n",
              "      <td>0.126211</td>\n",
              "      <td>0.088633</td>\n",
              "      <td>(9, 29]</td>\n",
              "      <td>1</td>\n",
              "    </tr>\n",
              "    <tr>\n",
              "      <th>2463</th>\n",
              "      <td>19</td>\n",
              "      <td>Black</td>\n",
              "      <td>Male</td>\n",
              "      <td>images\\img2589.jpg</td>\n",
              "      <td>[[18, 74], [19, 98], [21, 123], [28, 146], [37...</td>\n",
              "      <td>0.110546</td>\n",
              "      <td>0.227716</td>\n",
              "      <td>0.269462</td>\n",
              "      <td>0.160917</td>\n",
              "      <td>0.157808</td>\n",
              "      <td>0.210588</td>\n",
              "      <td>0.402552</td>\n",
              "      <td>0.281605</td>\n",
              "      <td>0.103447</td>\n",
              "      <td>0.089772</td>\n",
              "      <td>0.057470</td>\n",
              "      <td>(9, 29]</td>\n",
              "      <td>1</td>\n",
              "    </tr>\n",
              "    <tr>\n",
              "      <th>2464</th>\n",
              "      <td>19</td>\n",
              "      <td>Asian</td>\n",
              "      <td>Male</td>\n",
              "      <td>images\\img2590.jpg</td>\n",
              "      <td>[[20, 69], [22, 93], [25, 116], [27, 140], [32...</td>\n",
              "      <td>0.141747</td>\n",
              "      <td>0.257801</td>\n",
              "      <td>0.291191</td>\n",
              "      <td>0.173785</td>\n",
              "      <td>0.162585</td>\n",
              "      <td>0.175814</td>\n",
              "      <td>0.379138</td>\n",
              "      <td>0.285756</td>\n",
              "      <td>0.061634</td>\n",
              "      <td>0.088592</td>\n",
              "      <td>0.050738</td>\n",
              "      <td>(9, 29]</td>\n",
              "      <td>1</td>\n",
              "    </tr>\n",
              "    <tr>\n",
              "      <th>2465</th>\n",
              "      <td>19</td>\n",
              "      <td>Asian</td>\n",
              "      <td>Male</td>\n",
              "      <td>images\\img2591.jpg</td>\n",
              "      <td>[[17, 71], [19, 95], [23, 119], [30, 142], [38...</td>\n",
              "      <td>0.099748</td>\n",
              "      <td>0.274136</td>\n",
              "      <td>0.290801</td>\n",
              "      <td>0.161706</td>\n",
              "      <td>0.151480</td>\n",
              "      <td>0.163257</td>\n",
              "      <td>0.301005</td>\n",
              "      <td>0.290009</td>\n",
              "      <td>0.072489</td>\n",
              "      <td>0.083641</td>\n",
              "      <td>0.050185</td>\n",
              "      <td>(9, 29]</td>\n",
              "      <td>1</td>\n",
              "    </tr>\n",
              "    <tr>\n",
              "      <th>2466</th>\n",
              "      <td>19</td>\n",
              "      <td>Asian</td>\n",
              "      <td>Male</td>\n",
              "      <td>images\\img2592.jpg</td>\n",
              "      <td>[[10, 60], [12, 86], [15, 113], [18, 139], [28...</td>\n",
              "      <td>0.085143</td>\n",
              "      <td>0.229515</td>\n",
              "      <td>0.263669</td>\n",
              "      <td>0.163613</td>\n",
              "      <td>0.163613</td>\n",
              "      <td>0.204031</td>\n",
              "      <td>0.402965</td>\n",
              "      <td>0.288889</td>\n",
              "      <td>0.076310</td>\n",
              "      <td>0.083202</td>\n",
              "      <td>0.055587</td>\n",
              "      <td>(9, 29]</td>\n",
              "      <td>1</td>\n",
              "    </tr>\n",
              "    <tr>\n",
              "      <th>...</th>\n",
              "      <td>...</td>\n",
              "      <td>...</td>\n",
              "      <td>...</td>\n",
              "      <td>...</td>\n",
              "      <td>...</td>\n",
              "      <td>...</td>\n",
              "      <td>...</td>\n",
              "      <td>...</td>\n",
              "      <td>...</td>\n",
              "      <td>...</td>\n",
              "      <td>...</td>\n",
              "      <td>...</td>\n",
              "      <td>...</td>\n",
              "      <td>...</td>\n",
              "      <td>...</td>\n",
              "      <td>...</td>\n",
              "      <td>...</td>\n",
              "      <td>...</td>\n",
              "    </tr>\n",
              "    <tr>\n",
              "      <th>5932</th>\n",
              "      <td>25</td>\n",
              "      <td>White</td>\n",
              "      <td>Female</td>\n",
              "      <td>images\\img6207.jpg</td>\n",
              "      <td>[[3, 49], [3, 77], [6, 105], [11, 131], [22, 1...</td>\n",
              "      <td>0.102729</td>\n",
              "      <td>0.216319</td>\n",
              "      <td>0.271118</td>\n",
              "      <td>0.139753</td>\n",
              "      <td>0.128412</td>\n",
              "      <td>0.195467</td>\n",
              "      <td>0.347131</td>\n",
              "      <td>0.303214</td>\n",
              "      <td>0.084963</td>\n",
              "      <td>0.117535</td>\n",
              "      <td>0.072892</td>\n",
              "      <td>(9, 29]</td>\n",
              "      <td>1</td>\n",
              "    </tr>\n",
              "    <tr>\n",
              "      <th>5933</th>\n",
              "      <td>25</td>\n",
              "      <td>White</td>\n",
              "      <td>Female</td>\n",
              "      <td>images\\img6208.jpg</td>\n",
              "      <td>[[21, 75], [23, 98], [26, 121], [33, 143], [44...</td>\n",
              "      <td>0.083505</td>\n",
              "      <td>0.219746</td>\n",
              "      <td>0.290306</td>\n",
              "      <td>0.136320</td>\n",
              "      <td>0.148088</td>\n",
              "      <td>0.231232</td>\n",
              "      <td>0.489249</td>\n",
              "      <td>0.295233</td>\n",
              "      <td>0.064951</td>\n",
              "      <td>0.105130</td>\n",
              "      <td>0.071102</td>\n",
              "      <td>(9, 29]</td>\n",
              "      <td>1</td>\n",
              "    </tr>\n",
              "    <tr>\n",
              "      <th>5934</th>\n",
              "      <td>25</td>\n",
              "      <td>White</td>\n",
              "      <td>Female</td>\n",
              "      <td>images\\img6209.jpg</td>\n",
              "      <td>[[-10, 58], [-9, 85], [-6, 113], [-1, 140], [1...</td>\n",
              "      <td>0.096998</td>\n",
              "      <td>0.226113</td>\n",
              "      <td>0.285001</td>\n",
              "      <td>0.132574</td>\n",
              "      <td>0.137176</td>\n",
              "      <td>0.155926</td>\n",
              "      <td>0.322458</td>\n",
              "      <td>0.292004</td>\n",
              "      <td>0.091629</td>\n",
              "      <td>0.114314</td>\n",
              "      <td>0.068826</td>\n",
              "      <td>(9, 29]</td>\n",
              "      <td>1</td>\n",
              "    </tr>\n",
              "    <tr>\n",
              "      <th>5935</th>\n",
              "      <td>25</td>\n",
              "      <td>White</td>\n",
              "      <td>Female</td>\n",
              "      <td>images\\img6210.jpg</td>\n",
              "      <td>[[21, 73], [22, 96], [27, 120], [32, 142], [41...</td>\n",
              "      <td>0.115833</td>\n",
              "      <td>0.202963</td>\n",
              "      <td>0.300397</td>\n",
              "      <td>0.153601</td>\n",
              "      <td>0.159617</td>\n",
              "      <td>0.167629</td>\n",
              "      <td>0.340836</td>\n",
              "      <td>0.319471</td>\n",
              "      <td>0.073670</td>\n",
              "      <td>0.134642</td>\n",
              "      <td>0.092902</td>\n",
              "      <td>(9, 29]</td>\n",
              "      <td>1</td>\n",
              "    </tr>\n",
              "    <tr>\n",
              "      <th>5936</th>\n",
              "      <td>25</td>\n",
              "      <td>White</td>\n",
              "      <td>Female</td>\n",
              "      <td>images\\img6211.jpg</td>\n",
              "      <td>[[11, 55], [14, 81], [20, 106], [25, 130], [34...</td>\n",
              "      <td>0.102896</td>\n",
              "      <td>0.206148</td>\n",
              "      <td>0.279778</td>\n",
              "      <td>0.157487</td>\n",
              "      <td>0.157836</td>\n",
              "      <td>0.165794</td>\n",
              "      <td>0.373361</td>\n",
              "      <td>0.290531</td>\n",
              "      <td>0.084738</td>\n",
              "      <td>0.112587</td>\n",
              "      <td>0.073635</td>\n",
              "      <td>(9, 29]</td>\n",
              "      <td>1</td>\n",
              "    </tr>\n",
              "  </tbody>\n",
              "</table>\n",
              "<p>3019 rows × 18 columns</p>\n",
              "</div>"
            ],
            "text/plain": [
              "      age ethnicity  gender  ... right_eye_size age_bins  age_encoded\n",
              "2462   19     Black  Female  ...       0.088633  (9, 29]            1\n",
              "2463   19     Black    Male  ...       0.057470  (9, 29]            1\n",
              "2464   19     Asian    Male  ...       0.050738  (9, 29]            1\n",
              "2465   19     Asian    Male  ...       0.050185  (9, 29]            1\n",
              "2466   19     Asian    Male  ...       0.055587  (9, 29]            1\n",
              "...   ...       ...     ...  ...            ...      ...          ...\n",
              "5932   25     White  Female  ...       0.072892  (9, 29]            1\n",
              "5933   25     White  Female  ...       0.071102  (9, 29]            1\n",
              "5934   25     White  Female  ...       0.068826  (9, 29]            1\n",
              "5935   25     White  Female  ...       0.092902  (9, 29]            1\n",
              "5936   25     White  Female  ...       0.073635  (9, 29]            1\n",
              "\n",
              "[3019 rows x 18 columns]"
            ]
          },
          "metadata": {
            "tags": []
          },
          "execution_count": 67
        }
      ]
    },
    {
      "cell_type": "markdown",
      "metadata": {
        "id": "AtWaPRIOznFp"
      },
      "source": [
        "Split evenly by ethnicity and age\n",
        "\n",
        "\n",
        "\n",
        "create bins\n",
        "child (0-)\n"
      ]
    },
    {
      "cell_type": "code",
      "metadata": {
        "id": "cre6Mj_LPbQJ"
      },
      "source": [
        "#Split the data into train test\n",
        "\n",
        "#train, test = train_test_split(face_recog, test_size=0.2)"
      ],
      "execution_count": 68,
      "outputs": []
    },
    {
      "cell_type": "markdown",
      "metadata": {
        "id": "cUFn9qWj4Gma"
      },
      "source": [
        ""
      ]
    },
    {
      "cell_type": "code",
      "metadata": {
        "id": "6AhCBv603ZYE"
      },
      "source": [
        ""
      ],
      "execution_count": 69,
      "outputs": []
    },
    {
      "cell_type": "markdown",
      "metadata": {
        "id": "b4nKak169fyA"
      },
      "source": [
        "**Use Neural Net to Predict Age**"
      ]
    },
    {
      "cell_type": "code",
      "metadata": {
        "id": "Edn6htFGRTW0"
      },
      "source": [
        "#Use the encoded age for train and test labels\n",
        "# train_label = train[\"age_encoded\"].values\n",
        "# test_label = test[\"age_encoded\"].values\n",
        "# test_bins = test[\"age_bins\"].values\n"
      ],
      "execution_count": 73,
      "outputs": []
    },
    {
      "cell_type": "code",
      "metadata": {
        "id": "eAm8RWg-gZlP",
        "colab": {
          "base_uri": "https://localhost:8080/"
        },
        "outputId": "c7f74af0-c6dc-4948-f7a8-46e6c8413a49"
      },
      "source": [
        "#These are the bins for age\n",
        "test_bins"
      ],
      "execution_count": 74,
      "outputs": [
        {
          "output_type": "execute_result",
          "data": {
            "text/plain": [
              "[(9, 29], (59, 69], (0, 9], (9, 29], (29, 39], ..., (9, 29], (9, 29], (9, 29], (49, 59], (29, 39]]\n",
              "Length: 4505\n",
              "Categories (10, interval[int64]): [(0, 9] < (9, 29] < (29, 39] < (39, 49] ... (69, 79] < (79, 89] <\n",
              "                                   (89, 99] < (99, 130]]"
            ]
          },
          "metadata": {
            "tags": []
          },
          "execution_count": 74
        }
      ]
    },
    {
      "cell_type": "code",
      "metadata": {
        "id": "AfrB7XtLRXHo"
      },
      "source": [
        "#drop all the unused columns for train and test data\n",
        "# train = train.drop(columns= [\"age\", \"path\", \"landmarks\", \"age_bins\", \"age_encoded\"])\n",
        "# test = test.drop(columns= [\"age\", \"path\", \"landmarks\", \"age_bins\", \"age_encoded\"])\n"
      ],
      "execution_count": 75,
      "outputs": []
    },
    {
      "cell_type": "code",
      "metadata": {
        "id": "FKsLIYVQWinz",
        "colab": {
          "base_uri": "https://localhost:8080/",
          "height": 422
        },
        "outputId": "1a6209d6-e4c7-4b92-bd68-97f22962e349"
      },
      "source": [
        "train"
      ],
      "execution_count": 76,
      "outputs": [
        {
          "output_type": "execute_result",
          "data": {
            "text/html": [
              "<div>\n",
              "<style scoped>\n",
              "    .dataframe tbody tr th:only-of-type {\n",
              "        vertical-align: middle;\n",
              "    }\n",
              "\n",
              "    .dataframe tbody tr th {\n",
              "        vertical-align: top;\n",
              "    }\n",
              "\n",
              "    .dataframe thead th {\n",
              "        text-align: right;\n",
              "    }\n",
              "</style>\n",
              "<table border=\"1\" class=\"dataframe\">\n",
              "  <thead>\n",
              "    <tr style=\"text-align: right;\">\n",
              "      <th></th>\n",
              "      <th>age</th>\n",
              "      <th>nose2lip</th>\n",
              "      <th>lip2chin</th>\n",
              "      <th>len_between_eyes</th>\n",
              "      <th>left_eyelid_len</th>\n",
              "      <th>right_eyelid_len</th>\n",
              "      <th>nose_width</th>\n",
              "      <th>size_of_mouth</th>\n",
              "      <th>nose_len</th>\n",
              "      <th>bottom_lip_width</th>\n",
              "      <th>left_eye_size</th>\n",
              "      <th>right_eye_size</th>\n",
              "      <th>ethnicity_encoded</th>\n",
              "      <th>gender_encoded</th>\n",
              "    </tr>\n",
              "  </thead>\n",
              "  <tbody>\n",
              "    <tr>\n",
              "      <th>20084</th>\n",
              "      <td>63</td>\n",
              "      <td>0.118583</td>\n",
              "      <td>0.260488</td>\n",
              "      <td>0.276091</td>\n",
              "      <td>0.127564</td>\n",
              "      <td>0.129357</td>\n",
              "      <td>0.161458</td>\n",
              "      <td>0.411590</td>\n",
              "      <td>0.277107</td>\n",
              "      <td>0.060951</td>\n",
              "      <td>0.102172</td>\n",
              "      <td>0.072881</td>\n",
              "      <td>4</td>\n",
              "      <td>0</td>\n",
              "    </tr>\n",
              "    <tr>\n",
              "      <th>7929</th>\n",
              "      <td>26</td>\n",
              "      <td>0.107224</td>\n",
              "      <td>0.268113</td>\n",
              "      <td>0.281439</td>\n",
              "      <td>0.155567</td>\n",
              "      <td>0.160925</td>\n",
              "      <td>0.239580</td>\n",
              "      <td>0.453119</td>\n",
              "      <td>0.284142</td>\n",
              "      <td>0.069695</td>\n",
              "      <td>0.098855</td>\n",
              "      <td>0.058973</td>\n",
              "      <td>3</td>\n",
              "      <td>1</td>\n",
              "    </tr>\n",
              "    <tr>\n",
              "      <th>190</th>\n",
              "      <td>1</td>\n",
              "      <td>0.092160</td>\n",
              "      <td>0.334102</td>\n",
              "      <td>0.250039</td>\n",
              "      <td>0.201667</td>\n",
              "      <td>0.195184</td>\n",
              "      <td>0.168180</td>\n",
              "      <td>0.286937</td>\n",
              "      <td>0.245543</td>\n",
              "      <td>0.072379</td>\n",
              "      <td>0.086969</td>\n",
              "      <td>0.050108</td>\n",
              "      <td>2</td>\n",
              "      <td>1</td>\n",
              "    </tr>\n",
              "    <tr>\n",
              "      <th>14119</th>\n",
              "      <td>38</td>\n",
              "      <td>0.083898</td>\n",
              "      <td>0.238472</td>\n",
              "      <td>0.228510</td>\n",
              "      <td>0.172864</td>\n",
              "      <td>0.167796</td>\n",
              "      <td>0.211298</td>\n",
              "      <td>0.333699</td>\n",
              "      <td>0.299321</td>\n",
              "      <td>0.077991</td>\n",
              "      <td>0.099002</td>\n",
              "      <td>0.062060</td>\n",
              "      <td>1</td>\n",
              "      <td>0</td>\n",
              "    </tr>\n",
              "    <tr>\n",
              "      <th>3796</th>\n",
              "      <td>22</td>\n",
              "      <td>0.089507</td>\n",
              "      <td>0.219941</td>\n",
              "      <td>0.201083</td>\n",
              "      <td>0.183903</td>\n",
              "      <td>0.161082</td>\n",
              "      <td>0.209341</td>\n",
              "      <td>0.365939</td>\n",
              "      <td>0.300297</td>\n",
              "      <td>0.079676</td>\n",
              "      <td>0.106611</td>\n",
              "      <td>0.063182</td>\n",
              "      <td>3</td>\n",
              "      <td>0</td>\n",
              "    </tr>\n",
              "    <tr>\n",
              "      <th>...</th>\n",
              "      <td>...</td>\n",
              "      <td>...</td>\n",
              "      <td>...</td>\n",
              "      <td>...</td>\n",
              "      <td>...</td>\n",
              "      <td>...</td>\n",
              "      <td>...</td>\n",
              "      <td>...</td>\n",
              "      <td>...</td>\n",
              "      <td>...</td>\n",
              "      <td>...</td>\n",
              "      <td>...</td>\n",
              "      <td>...</td>\n",
              "      <td>...</td>\n",
              "    </tr>\n",
              "    <tr>\n",
              "      <th>6526</th>\n",
              "      <td>26</td>\n",
              "      <td>0.102481</td>\n",
              "      <td>0.231217</td>\n",
              "      <td>0.274578</td>\n",
              "      <td>0.134103</td>\n",
              "      <td>0.139570</td>\n",
              "      <td>0.196867</td>\n",
              "      <td>0.466294</td>\n",
              "      <td>0.268205</td>\n",
              "      <td>0.075289</td>\n",
              "      <td>0.099778</td>\n",
              "      <td>0.065257</td>\n",
              "      <td>2</td>\n",
              "      <td>0</td>\n",
              "    </tr>\n",
              "    <tr>\n",
              "      <th>3525</th>\n",
              "      <td>21</td>\n",
              "      <td>0.124795</td>\n",
              "      <td>0.230517</td>\n",
              "      <td>0.277653</td>\n",
              "      <td>0.151100</td>\n",
              "      <td>0.163382</td>\n",
              "      <td>0.222014</td>\n",
              "      <td>0.416295</td>\n",
              "      <td>0.279107</td>\n",
              "      <td>0.083715</td>\n",
              "      <td>0.102606</td>\n",
              "      <td>0.067896</td>\n",
              "      <td>1</td>\n",
              "      <td>1</td>\n",
              "    </tr>\n",
              "    <tr>\n",
              "      <th>9831</th>\n",
              "      <td>29</td>\n",
              "      <td>0.120724</td>\n",
              "      <td>0.285658</td>\n",
              "      <td>0.245527</td>\n",
              "      <td>0.198933</td>\n",
              "      <td>0.192113</td>\n",
              "      <td>0.181430</td>\n",
              "      <td>0.431463</td>\n",
              "      <td>0.275088</td>\n",
              "      <td>0.062284</td>\n",
              "      <td>0.091827</td>\n",
              "      <td>0.062284</td>\n",
              "      <td>1</td>\n",
              "      <td>0</td>\n",
              "    </tr>\n",
              "    <tr>\n",
              "      <th>6239</th>\n",
              "      <td>26</td>\n",
              "      <td>0.079276</td>\n",
              "      <td>0.225554</td>\n",
              "      <td>0.262357</td>\n",
              "      <td>0.165313</td>\n",
              "      <td>0.187328</td>\n",
              "      <td>0.212762</td>\n",
              "      <td>0.480051</td>\n",
              "      <td>0.282631</td>\n",
              "      <td>0.058659</td>\n",
              "      <td>0.105581</td>\n",
              "      <td>0.075415</td>\n",
              "      <td>1</td>\n",
              "      <td>0</td>\n",
              "    </tr>\n",
              "    <tr>\n",
              "      <th>6301</th>\n",
              "      <td>26</td>\n",
              "      <td>0.075967</td>\n",
              "      <td>0.272761</td>\n",
              "      <td>0.252552</td>\n",
              "      <td>0.106705</td>\n",
              "      <td>0.119398</td>\n",
              "      <td>0.182611</td>\n",
              "      <td>0.375840</td>\n",
              "      <td>0.301601</td>\n",
              "      <td>0.089363</td>\n",
              "      <td>0.094784</td>\n",
              "      <td>0.067255</td>\n",
              "      <td>1</td>\n",
              "      <td>0</td>\n",
              "    </tr>\n",
              "  </tbody>\n",
              "</table>\n",
              "<p>18019 rows × 14 columns</p>\n",
              "</div>"
            ],
            "text/plain": [
              "       age  nose2lip  ...  ethnicity_encoded  gender_encoded\n",
              "20084   63  0.118583  ...                  4               0\n",
              "7929    26  0.107224  ...                  3               1\n",
              "190      1  0.092160  ...                  2               1\n",
              "14119   38  0.083898  ...                  1               0\n",
              "3796    22  0.089507  ...                  3               0\n",
              "...    ...       ...  ...                ...             ...\n",
              "6526    26  0.102481  ...                  2               0\n",
              "3525    21  0.124795  ...                  1               1\n",
              "9831    29  0.120724  ...                  1               0\n",
              "6239    26  0.079276  ...                  1               0\n",
              "6301    26  0.075967  ...                  1               0\n",
              "\n",
              "[18019 rows x 14 columns]"
            ]
          },
          "metadata": {
            "tags": []
          },
          "execution_count": 76
        }
      ]
    },
    {
      "cell_type": "code",
      "metadata": {
        "id": "hqoOf-Ed54ll"
      },
      "source": [
        ""
      ],
      "execution_count": 76,
      "outputs": []
    },
    {
      "cell_type": "code",
      "metadata": {
        "id": "ohRpLoDX5Fvj"
      },
      "source": [
        "#encode age bins\n",
        "face_recog[\"quantiles\"] = pd.qcut(face_recog[\"age\"],q=5)\n",
        "encoder_a = LabelEncoder()\n",
        "encoder_a.fit(face_recog[\"quantiles\"])\n",
        "a_train = encoder_a.transform(face_recog[\"quantiles\"])\n",
        "face_recog.insert(2,\"bin\",a_train)"
      ],
      "execution_count": 77,
      "outputs": []
    },
    {
      "cell_type": "code",
      "metadata": {
        "id": "GWuW5_jA7Lc4"
      },
      "source": [
        "age_train,age_test = train_test_split(face_recog,test_size=.3)"
      ],
      "execution_count": 78,
      "outputs": []
    },
    {
      "cell_type": "code",
      "metadata": {
        "id": "grVv-H7F7weB"
      },
      "source": [
        "age_train_labels = age_train[\"bin\"]\n",
        "age_train_data = age_train.drop(columns=[\"bin\",\"path\",\"age\",\"landmarks\",\"age_bins\",\"age_encoded\",\"quantiles\"])\n",
        "age_test_labels = age_test[\"bin\"]\n",
        "age_test_data = age_test.drop(columns=[\"bin\",\"path\",\"age\",\"landmarks\",\"age_bins\",\"age_encoded\",\"quantiles\"])"
      ],
      "execution_count": 79,
      "outputs": []
    },
    {
      "cell_type": "code",
      "metadata": {
        "id": "8FgBauk7SF0n"
      },
      "source": [
        "#encode ethnicity and gender variables for train data\n",
        "encoder_e = LabelEncoder()\n",
        "encoder_e.fit(age_train_data[\"ethnicity\"])\n",
        "encoder_e.classes_\n",
        "\n",
        "encoder_g = LabelEncoder()\n",
        "encoder_g.fit(age_train_data[\"gender\"])\n",
        "encoder_g.classes_\n",
        "\n",
        "e_train = encoder_e.transform(age_train_data[\"ethnicity\"])\n",
        "g_train = encoder_g.transform(age_train_data[\"gender\"])\n",
        "age_train_data.insert(13, \"ethnicity_encoded\", e_train)\n",
        "age_train_data.insert(14, \"gender_encoded\", g_train)\n",
        "age_train_data = age_train_data.drop(columns= [\"ethnicity\", \"gender\"])\n"
      ],
      "execution_count": 80,
      "outputs": []
    },
    {
      "cell_type": "code",
      "metadata": {
        "colab": {
          "base_uri": "https://localhost:8080/",
          "height": 215
        },
        "id": "3p8z50By88o-",
        "outputId": "904dc9cc-9172-4377-d39a-b736a9336a28"
      },
      "source": [
        "age_train_data.head()"
      ],
      "execution_count": 81,
      "outputs": [
        {
          "output_type": "execute_result",
          "data": {
            "text/html": [
              "<div>\n",
              "<style scoped>\n",
              "    .dataframe tbody tr th:only-of-type {\n",
              "        vertical-align: middle;\n",
              "    }\n",
              "\n",
              "    .dataframe tbody tr th {\n",
              "        vertical-align: top;\n",
              "    }\n",
              "\n",
              "    .dataframe thead th {\n",
              "        text-align: right;\n",
              "    }\n",
              "</style>\n",
              "<table border=\"1\" class=\"dataframe\">\n",
              "  <thead>\n",
              "    <tr style=\"text-align: right;\">\n",
              "      <th></th>\n",
              "      <th>nose2lip</th>\n",
              "      <th>lip2chin</th>\n",
              "      <th>len_between_eyes</th>\n",
              "      <th>left_eyelid_len</th>\n",
              "      <th>right_eyelid_len</th>\n",
              "      <th>nose_width</th>\n",
              "      <th>size_of_mouth</th>\n",
              "      <th>nose_len</th>\n",
              "      <th>bottom_lip_width</th>\n",
              "      <th>left_eye_size</th>\n",
              "      <th>right_eye_size</th>\n",
              "      <th>ethnicity_encoded</th>\n",
              "      <th>gender_encoded</th>\n",
              "    </tr>\n",
              "  </thead>\n",
              "  <tbody>\n",
              "    <tr>\n",
              "      <th>6338</th>\n",
              "      <td>0.076475</td>\n",
              "      <td>0.207127</td>\n",
              "      <td>0.271261</td>\n",
              "      <td>0.140091</td>\n",
              "      <td>0.144097</td>\n",
              "      <td>0.213020</td>\n",
              "      <td>0.372319</td>\n",
              "      <td>0.325784</td>\n",
              "      <td>0.093976</td>\n",
              "      <td>0.107788</td>\n",
              "      <td>0.082404</td>\n",
              "      <td>3</td>\n",
              "      <td>0</td>\n",
              "    </tr>\n",
              "    <tr>\n",
              "      <th>10154</th>\n",
              "      <td>0.116367</td>\n",
              "      <td>0.259120</td>\n",
              "      <td>0.281989</td>\n",
              "      <td>0.175415</td>\n",
              "      <td>0.168623</td>\n",
              "      <td>0.167864</td>\n",
              "      <td>0.301401</td>\n",
              "      <td>0.255179</td>\n",
              "      <td>0.058605</td>\n",
              "      <td>0.097836</td>\n",
              "      <td>0.074282</td>\n",
              "      <td>4</td>\n",
              "      <td>1</td>\n",
              "    </tr>\n",
              "    <tr>\n",
              "      <th>14817</th>\n",
              "      <td>0.121040</td>\n",
              "      <td>0.272701</td>\n",
              "      <td>0.248781</td>\n",
              "      <td>0.146573</td>\n",
              "      <td>0.143726</td>\n",
              "      <td>0.178306</td>\n",
              "      <td>0.436457</td>\n",
              "      <td>0.265018</td>\n",
              "      <td>0.056655</td>\n",
              "      <td>0.131607</td>\n",
              "      <td>0.090374</td>\n",
              "      <td>4</td>\n",
              "      <td>0</td>\n",
              "    </tr>\n",
              "    <tr>\n",
              "      <th>5630</th>\n",
              "      <td>0.118244</td>\n",
              "      <td>0.285750</td>\n",
              "      <td>0.247314</td>\n",
              "      <td>0.115286</td>\n",
              "      <td>0.098011</td>\n",
              "      <td>0.214409</td>\n",
              "      <td>0.417418</td>\n",
              "      <td>0.299631</td>\n",
              "      <td>0.074784</td>\n",
              "      <td>0.092485</td>\n",
              "      <td>0.046243</td>\n",
              "      <td>4</td>\n",
              "      <td>1</td>\n",
              "    </tr>\n",
              "    <tr>\n",
              "      <th>11193</th>\n",
              "      <td>0.085124</td>\n",
              "      <td>0.219102</td>\n",
              "      <td>0.279505</td>\n",
              "      <td>0.118635</td>\n",
              "      <td>0.148616</td>\n",
              "      <td>0.209698</td>\n",
              "      <td>0.414197</td>\n",
              "      <td>0.306920</td>\n",
              "      <td>0.088534</td>\n",
              "      <td>0.106405</td>\n",
              "      <td>0.071073</td>\n",
              "      <td>1</td>\n",
              "      <td>0</td>\n",
              "    </tr>\n",
              "  </tbody>\n",
              "</table>\n",
              "</div>"
            ],
            "text/plain": [
              "       nose2lip  lip2chin  ...  ethnicity_encoded  gender_encoded\n",
              "6338   0.076475  0.207127  ...                  3               0\n",
              "10154  0.116367  0.259120  ...                  4               1\n",
              "14817  0.121040  0.272701  ...                  4               0\n",
              "5630   0.118244  0.285750  ...                  4               1\n",
              "11193  0.085124  0.219102  ...                  1               0\n",
              "\n",
              "[5 rows x 13 columns]"
            ]
          },
          "metadata": {
            "tags": []
          },
          "execution_count": 81
        }
      ]
    },
    {
      "cell_type": "code",
      "metadata": {
        "id": "1fHCaPbES7N2"
      },
      "source": [
        "#encode ethnicity and gender variables for train data\n",
        "encoder_e = LabelEncoder()\n",
        "encoder_e.fit(age_test_data[\"ethnicity\"])\n",
        "encoder_e.classes_\n",
        "\n",
        "encoder_g = LabelEncoder()\n",
        "encoder_g.fit(age_test_data[\"gender\"])\n",
        "encoder_g.classes_\n",
        "\n",
        "e_test = encoder_e.transform(age_test_data[\"ethnicity\"])\n",
        "g_test = encoder_g.transform(age_test_data[\"gender\"])\n",
        "age_test_data.insert(13, \"ethnicity_encoded\", e_test)\n",
        "age_test_data.insert(14, \"gender_encoded\", g_test)\n",
        "age_test_data = age_test_data.drop(columns= [\"ethnicity\", \"gender\"])"
      ],
      "execution_count": 82,
      "outputs": []
    },
    {
      "cell_type": "code",
      "metadata": {
        "id": "l4tYnbtcVpXc",
        "colab": {
          "base_uri": "https://localhost:8080/",
          "height": 422
        },
        "outputId": "8972d287-dcbf-43d8-b566-06b3d2b8d39d"
      },
      "source": [
        "age_train_data"
      ],
      "execution_count": 83,
      "outputs": [
        {
          "output_type": "execute_result",
          "data": {
            "text/html": [
              "<div>\n",
              "<style scoped>\n",
              "    .dataframe tbody tr th:only-of-type {\n",
              "        vertical-align: middle;\n",
              "    }\n",
              "\n",
              "    .dataframe tbody tr th {\n",
              "        vertical-align: top;\n",
              "    }\n",
              "\n",
              "    .dataframe thead th {\n",
              "        text-align: right;\n",
              "    }\n",
              "</style>\n",
              "<table border=\"1\" class=\"dataframe\">\n",
              "  <thead>\n",
              "    <tr style=\"text-align: right;\">\n",
              "      <th></th>\n",
              "      <th>nose2lip</th>\n",
              "      <th>lip2chin</th>\n",
              "      <th>len_between_eyes</th>\n",
              "      <th>left_eyelid_len</th>\n",
              "      <th>right_eyelid_len</th>\n",
              "      <th>nose_width</th>\n",
              "      <th>size_of_mouth</th>\n",
              "      <th>nose_len</th>\n",
              "      <th>bottom_lip_width</th>\n",
              "      <th>left_eye_size</th>\n",
              "      <th>right_eye_size</th>\n",
              "      <th>ethnicity_encoded</th>\n",
              "      <th>gender_encoded</th>\n",
              "    </tr>\n",
              "  </thead>\n",
              "  <tbody>\n",
              "    <tr>\n",
              "      <th>6338</th>\n",
              "      <td>0.076475</td>\n",
              "      <td>0.207127</td>\n",
              "      <td>0.271261</td>\n",
              "      <td>0.140091</td>\n",
              "      <td>0.144097</td>\n",
              "      <td>0.213020</td>\n",
              "      <td>0.372319</td>\n",
              "      <td>0.325784</td>\n",
              "      <td>0.093976</td>\n",
              "      <td>0.107788</td>\n",
              "      <td>0.082404</td>\n",
              "      <td>3</td>\n",
              "      <td>0</td>\n",
              "    </tr>\n",
              "    <tr>\n",
              "      <th>10154</th>\n",
              "      <td>0.116367</td>\n",
              "      <td>0.259120</td>\n",
              "      <td>0.281989</td>\n",
              "      <td>0.175415</td>\n",
              "      <td>0.168623</td>\n",
              "      <td>0.167864</td>\n",
              "      <td>0.301401</td>\n",
              "      <td>0.255179</td>\n",
              "      <td>0.058605</td>\n",
              "      <td>0.097836</td>\n",
              "      <td>0.074282</td>\n",
              "      <td>4</td>\n",
              "      <td>1</td>\n",
              "    </tr>\n",
              "    <tr>\n",
              "      <th>14817</th>\n",
              "      <td>0.121040</td>\n",
              "      <td>0.272701</td>\n",
              "      <td>0.248781</td>\n",
              "      <td>0.146573</td>\n",
              "      <td>0.143726</td>\n",
              "      <td>0.178306</td>\n",
              "      <td>0.436457</td>\n",
              "      <td>0.265018</td>\n",
              "      <td>0.056655</td>\n",
              "      <td>0.131607</td>\n",
              "      <td>0.090374</td>\n",
              "      <td>4</td>\n",
              "      <td>0</td>\n",
              "    </tr>\n",
              "    <tr>\n",
              "      <th>5630</th>\n",
              "      <td>0.118244</td>\n",
              "      <td>0.285750</td>\n",
              "      <td>0.247314</td>\n",
              "      <td>0.115286</td>\n",
              "      <td>0.098011</td>\n",
              "      <td>0.214409</td>\n",
              "      <td>0.417418</td>\n",
              "      <td>0.299631</td>\n",
              "      <td>0.074784</td>\n",
              "      <td>0.092485</td>\n",
              "      <td>0.046243</td>\n",
              "      <td>4</td>\n",
              "      <td>1</td>\n",
              "    </tr>\n",
              "    <tr>\n",
              "      <th>11193</th>\n",
              "      <td>0.085124</td>\n",
              "      <td>0.219102</td>\n",
              "      <td>0.279505</td>\n",
              "      <td>0.118635</td>\n",
              "      <td>0.148616</td>\n",
              "      <td>0.209698</td>\n",
              "      <td>0.414197</td>\n",
              "      <td>0.306920</td>\n",
              "      <td>0.088534</td>\n",
              "      <td>0.106405</td>\n",
              "      <td>0.071073</td>\n",
              "      <td>1</td>\n",
              "      <td>0</td>\n",
              "    </tr>\n",
              "    <tr>\n",
              "      <th>...</th>\n",
              "      <td>...</td>\n",
              "      <td>...</td>\n",
              "      <td>...</td>\n",
              "      <td>...</td>\n",
              "      <td>...</td>\n",
              "      <td>...</td>\n",
              "      <td>...</td>\n",
              "      <td>...</td>\n",
              "      <td>...</td>\n",
              "      <td>...</td>\n",
              "      <td>...</td>\n",
              "      <td>...</td>\n",
              "      <td>...</td>\n",
              "    </tr>\n",
              "    <tr>\n",
              "      <th>9587</th>\n",
              "      <td>0.118741</td>\n",
              "      <td>0.273529</td>\n",
              "      <td>0.271092</td>\n",
              "      <td>0.168747</td>\n",
              "      <td>0.176529</td>\n",
              "      <td>0.189642</td>\n",
              "      <td>0.370472</td>\n",
              "      <td>0.273883</td>\n",
              "      <td>0.064028</td>\n",
              "      <td>0.078946</td>\n",
              "      <td>0.047659</td>\n",
              "      <td>0</td>\n",
              "      <td>1</td>\n",
              "    </tr>\n",
              "    <tr>\n",
              "      <th>1165</th>\n",
              "      <td>0.105807</td>\n",
              "      <td>0.223880</td>\n",
              "      <td>0.261505</td>\n",
              "      <td>0.200726</td>\n",
              "      <td>0.189288</td>\n",
              "      <td>0.192713</td>\n",
              "      <td>0.458711</td>\n",
              "      <td>0.266577</td>\n",
              "      <td>0.069296</td>\n",
              "      <td>0.078703</td>\n",
              "      <td>0.031983</td>\n",
              "      <td>2</td>\n",
              "      <td>1</td>\n",
              "    </tr>\n",
              "    <tr>\n",
              "      <th>4161</th>\n",
              "      <td>0.105278</td>\n",
              "      <td>0.274082</td>\n",
              "      <td>0.255187</td>\n",
              "      <td>0.137997</td>\n",
              "      <td>0.142599</td>\n",
              "      <td>0.214246</td>\n",
              "      <td>0.504891</td>\n",
              "      <td>0.290520</td>\n",
              "      <td>0.060286</td>\n",
              "      <td>0.074543</td>\n",
              "      <td>0.044186</td>\n",
              "      <td>2</td>\n",
              "      <td>1</td>\n",
              "    </tr>\n",
              "    <tr>\n",
              "      <th>4218</th>\n",
              "      <td>0.095238</td>\n",
              "      <td>0.263561</td>\n",
              "      <td>0.276629</td>\n",
              "      <td>0.154343</td>\n",
              "      <td>0.172795</td>\n",
              "      <td>0.180408</td>\n",
              "      <td>0.372049</td>\n",
              "      <td>0.301331</td>\n",
              "      <td>0.068414</td>\n",
              "      <td>0.074077</td>\n",
              "      <td>0.034559</td>\n",
              "      <td>0</td>\n",
              "      <td>1</td>\n",
              "    </tr>\n",
              "    <tr>\n",
              "      <th>20085</th>\n",
              "      <td>0.119813</td>\n",
              "      <td>0.262226</td>\n",
              "      <td>0.284167</td>\n",
              "      <td>0.160746</td>\n",
              "      <td>0.154792</td>\n",
              "      <td>0.185848</td>\n",
              "      <td>0.300953</td>\n",
              "      <td>0.297737</td>\n",
              "      <td>0.047628</td>\n",
              "      <td>0.101385</td>\n",
              "      <td>0.065759</td>\n",
              "      <td>4</td>\n",
              "      <td>0</td>\n",
              "    </tr>\n",
              "  </tbody>\n",
              "</table>\n",
              "<p>15766 rows × 13 columns</p>\n",
              "</div>"
            ],
            "text/plain": [
              "       nose2lip  lip2chin  ...  ethnicity_encoded  gender_encoded\n",
              "6338   0.076475  0.207127  ...                  3               0\n",
              "10154  0.116367  0.259120  ...                  4               1\n",
              "14817  0.121040  0.272701  ...                  4               0\n",
              "5630   0.118244  0.285750  ...                  4               1\n",
              "11193  0.085124  0.219102  ...                  1               0\n",
              "...         ...       ...  ...                ...             ...\n",
              "9587   0.118741  0.273529  ...                  0               1\n",
              "1165   0.105807  0.223880  ...                  2               1\n",
              "4161   0.105278  0.274082  ...                  2               1\n",
              "4218   0.095238  0.263561  ...                  0               1\n",
              "20085  0.119813  0.262226  ...                  4               0\n",
              "\n",
              "[15766 rows x 13 columns]"
            ]
          },
          "metadata": {
            "tags": []
          },
          "execution_count": 83
        }
      ]
    },
    {
      "cell_type": "code",
      "metadata": {
        "id": "oHjzCaAdVqdV",
        "colab": {
          "base_uri": "https://localhost:8080/"
        },
        "outputId": "90841fb1-948b-4a85-a6e0-b029331b2dc9"
      },
      "source": [
        "#run a neural net \n",
        "\n",
        "clf = MLPClassifier(hidden_layer_sizes=(10, 10), max_iter=200, alpha=0.001,\n",
        "                     solver='lbfgs', verbose=10,tol=0.000000001)\n",
        "clf.fit(age_train_data, age_train_labels)\n",
        "pred = clf.predict(age_test_data)\n",
        "print(accuracy_score(age_test_labels, pred))"
      ],
      "execution_count": 84,
      "outputs": [
        {
          "output_type": "stream",
          "text": [
            "0.4187629476176384\n"
          ],
          "name": "stdout"
        },
        {
          "output_type": "stream",
          "text": [
            "/usr/local/lib/python3.6/dist-packages/sklearn/neural_network/_multilayer_perceptron.py:470: ConvergenceWarning: lbfgs failed to converge (status=1):\n",
            "STOP: TOTAL NO. of ITERATIONS REACHED LIMIT.\n",
            "\n",
            "Increase the number of iterations (max_iter) or scale the data as shown in:\n",
            "    https://scikit-learn.org/stable/modules/preprocessing.html\n",
            "  self.n_iter_ = _check_optimize_result(\"lbfgs\", opt_res, self.max_iter)\n"
          ],
          "name": "stderr"
        }
      ]
    },
    {
      "cell_type": "markdown",
      "metadata": {
        "id": "_eIOxxT3-Nkw"
      },
      "source": [
        "Since the accuracy is really low, we decided to look more into different methods to differentiate age. Furthermore, with the additional features, I think we can run a neural net to predict ethnicity. We can probably find better results from predicting ethnicity. \n"
      ]
    },
    {
      "cell_type": "code",
      "metadata": {
        "id": "13Bp8T9HVshk",
        "colab": {
          "base_uri": "https://localhost:8080/"
        },
        "outputId": "af037bd8-6ddd-43fe-e472-3d57bfbe0b2e"
      },
      "source": [
        "#This shows you the best variables to use for the model\n",
        "from sklearn.feature_selection import SelectKBest\n",
        "from sklearn.feature_selection import chi2\n",
        "\n",
        "bestfeatures = SelectKBest(score_func=chi2, k=13)\n",
        "fit = bestfeatures.fit(age_train_data, age_train_labels)\n",
        "dfscores = pd.DataFrame(fit.scores_)\n",
        "dfcolumns = pd.DataFrame(age_train_data.columns)\n",
        "\n",
        "featureScores = pd.concat([dfcolumns,dfscores],axis=1)\n",
        "featureScores.columns = ['Specs','Score']  #naming the dataframe columns\n",
        "print(featureScores.nlargest(20,'Score'))"
      ],
      "execution_count": 85,
      "outputs": [
        {
          "output_type": "stream",
          "text": [
            "                Specs       Score\n",
            "11  ethnicity_encoded  846.163040\n",
            "12     gender_encoded  312.652177\n",
            "10     right_eye_size   13.061409\n",
            "1            lip2chin   12.682937\n",
            "6       size_of_mouth   11.817091\n",
            "9       left_eye_size   11.106994\n",
            "8    bottom_lip_width    8.398308\n",
            "5          nose_width    6.485093\n",
            "3     left_eyelid_len    5.219456\n",
            "4    right_eyelid_len    4.791511\n",
            "0            nose2lip    3.496907\n",
            "7            nose_len    0.701589\n",
            "2    len_between_eyes    0.086293\n"
          ],
          "name": "stdout"
        }
      ]
    },
    {
      "cell_type": "code",
      "metadata": {
        "id": "Bj8_sV9eg-n9",
        "colab": {
          "base_uri": "https://localhost:8080/",
          "height": 303
        },
        "outputId": "f93e3b83-2448-45e1-96e4-e6cbb4ade76a"
      },
      "source": [
        "pd.DataFrame({\"Predictions\":pred, \"Actual\":age_test_labels, \"Bins\": test_bins})"
      ],
      "execution_count": 86,
      "outputs": [
        {
          "output_type": "error",
          "ename": "ValueError",
          "evalue": "ignored",
          "traceback": [
            "\u001b[0;31m---------------------------------------------------------------------------\u001b[0m",
            "\u001b[0;31mValueError\u001b[0m                                Traceback (most recent call last)",
            "\u001b[0;32m<ipython-input-86-f2ddc73d7d21>\u001b[0m in \u001b[0;36m<module>\u001b[0;34m()\u001b[0m\n\u001b[0;32m----> 1\u001b[0;31m \u001b[0mpd\u001b[0m\u001b[0;34m.\u001b[0m\u001b[0mDataFrame\u001b[0m\u001b[0;34m(\u001b[0m\u001b[0;34m{\u001b[0m\u001b[0;34m\"Predictions\"\u001b[0m\u001b[0;34m:\u001b[0m\u001b[0mpred\u001b[0m\u001b[0;34m,\u001b[0m \u001b[0;34m\"Actual\"\u001b[0m\u001b[0;34m:\u001b[0m\u001b[0mage_test_labels\u001b[0m\u001b[0;34m,\u001b[0m \u001b[0;34m\"Bins\"\u001b[0m\u001b[0;34m:\u001b[0m \u001b[0mtest_bins\u001b[0m\u001b[0;34m}\u001b[0m\u001b[0;34m)\u001b[0m\u001b[0;34m\u001b[0m\u001b[0;34m\u001b[0m\u001b[0m\n\u001b[0m",
            "\u001b[0;32m/usr/local/lib/python3.6/dist-packages/pandas/core/frame.py\u001b[0m in \u001b[0;36m__init__\u001b[0;34m(self, data, index, columns, dtype, copy)\u001b[0m\n\u001b[1;32m    466\u001b[0m \u001b[0;34m\u001b[0m\u001b[0m\n\u001b[1;32m    467\u001b[0m         \u001b[0;32melif\u001b[0m \u001b[0misinstance\u001b[0m\u001b[0;34m(\u001b[0m\u001b[0mdata\u001b[0m\u001b[0;34m,\u001b[0m \u001b[0mdict\u001b[0m\u001b[0;34m)\u001b[0m\u001b[0;34m:\u001b[0m\u001b[0;34m\u001b[0m\u001b[0;34m\u001b[0m\u001b[0m\n\u001b[0;32m--> 468\u001b[0;31m             \u001b[0mmgr\u001b[0m \u001b[0;34m=\u001b[0m \u001b[0minit_dict\u001b[0m\u001b[0;34m(\u001b[0m\u001b[0mdata\u001b[0m\u001b[0;34m,\u001b[0m \u001b[0mindex\u001b[0m\u001b[0;34m,\u001b[0m \u001b[0mcolumns\u001b[0m\u001b[0;34m,\u001b[0m \u001b[0mdtype\u001b[0m\u001b[0;34m=\u001b[0m\u001b[0mdtype\u001b[0m\u001b[0;34m)\u001b[0m\u001b[0;34m\u001b[0m\u001b[0;34m\u001b[0m\u001b[0m\n\u001b[0m\u001b[1;32m    469\u001b[0m         \u001b[0;32melif\u001b[0m \u001b[0misinstance\u001b[0m\u001b[0;34m(\u001b[0m\u001b[0mdata\u001b[0m\u001b[0;34m,\u001b[0m \u001b[0mma\u001b[0m\u001b[0;34m.\u001b[0m\u001b[0mMaskedArray\u001b[0m\u001b[0;34m)\u001b[0m\u001b[0;34m:\u001b[0m\u001b[0;34m\u001b[0m\u001b[0;34m\u001b[0m\u001b[0m\n\u001b[1;32m    470\u001b[0m             \u001b[0;32mimport\u001b[0m \u001b[0mnumpy\u001b[0m\u001b[0;34m.\u001b[0m\u001b[0mma\u001b[0m\u001b[0;34m.\u001b[0m\u001b[0mmrecords\u001b[0m \u001b[0;32mas\u001b[0m \u001b[0mmrecords\u001b[0m\u001b[0;34m\u001b[0m\u001b[0;34m\u001b[0m\u001b[0m\n",
            "\u001b[0;32m/usr/local/lib/python3.6/dist-packages/pandas/core/internals/construction.py\u001b[0m in \u001b[0;36minit_dict\u001b[0;34m(data, index, columns, dtype)\u001b[0m\n\u001b[1;32m    281\u001b[0m             \u001b[0marr\u001b[0m \u001b[0;32mif\u001b[0m \u001b[0;32mnot\u001b[0m \u001b[0mis_datetime64tz_dtype\u001b[0m\u001b[0;34m(\u001b[0m\u001b[0marr\u001b[0m\u001b[0;34m)\u001b[0m \u001b[0;32melse\u001b[0m \u001b[0marr\u001b[0m\u001b[0;34m.\u001b[0m\u001b[0mcopy\u001b[0m\u001b[0;34m(\u001b[0m\u001b[0;34m)\u001b[0m \u001b[0;32mfor\u001b[0m \u001b[0marr\u001b[0m \u001b[0;32min\u001b[0m \u001b[0marrays\u001b[0m\u001b[0;34m\u001b[0m\u001b[0;34m\u001b[0m\u001b[0m\n\u001b[1;32m    282\u001b[0m         ]\n\u001b[0;32m--> 283\u001b[0;31m     \u001b[0;32mreturn\u001b[0m \u001b[0marrays_to_mgr\u001b[0m\u001b[0;34m(\u001b[0m\u001b[0marrays\u001b[0m\u001b[0;34m,\u001b[0m \u001b[0mdata_names\u001b[0m\u001b[0;34m,\u001b[0m \u001b[0mindex\u001b[0m\u001b[0;34m,\u001b[0m \u001b[0mcolumns\u001b[0m\u001b[0;34m,\u001b[0m \u001b[0mdtype\u001b[0m\u001b[0;34m=\u001b[0m\u001b[0mdtype\u001b[0m\u001b[0;34m)\u001b[0m\u001b[0;34m\u001b[0m\u001b[0;34m\u001b[0m\u001b[0m\n\u001b[0m\u001b[1;32m    284\u001b[0m \u001b[0;34m\u001b[0m\u001b[0m\n\u001b[1;32m    285\u001b[0m \u001b[0;34m\u001b[0m\u001b[0m\n",
            "\u001b[0;32m/usr/local/lib/python3.6/dist-packages/pandas/core/internals/construction.py\u001b[0m in \u001b[0;36marrays_to_mgr\u001b[0;34m(arrays, arr_names, index, columns, dtype, verify_integrity)\u001b[0m\n\u001b[1;32m     76\u001b[0m         \u001b[0;31m# figure out the index, if necessary\u001b[0m\u001b[0;34m\u001b[0m\u001b[0;34m\u001b[0m\u001b[0;34m\u001b[0m\u001b[0m\n\u001b[1;32m     77\u001b[0m         \u001b[0;32mif\u001b[0m \u001b[0mindex\u001b[0m \u001b[0;32mis\u001b[0m \u001b[0;32mNone\u001b[0m\u001b[0;34m:\u001b[0m\u001b[0;34m\u001b[0m\u001b[0;34m\u001b[0m\u001b[0m\n\u001b[0;32m---> 78\u001b[0;31m             \u001b[0mindex\u001b[0m \u001b[0;34m=\u001b[0m \u001b[0mextract_index\u001b[0m\u001b[0;34m(\u001b[0m\u001b[0marrays\u001b[0m\u001b[0;34m)\u001b[0m\u001b[0;34m\u001b[0m\u001b[0;34m\u001b[0m\u001b[0m\n\u001b[0m\u001b[1;32m     79\u001b[0m         \u001b[0;32melse\u001b[0m\u001b[0;34m:\u001b[0m\u001b[0;34m\u001b[0m\u001b[0;34m\u001b[0m\u001b[0m\n\u001b[1;32m     80\u001b[0m             \u001b[0mindex\u001b[0m \u001b[0;34m=\u001b[0m \u001b[0mensure_index\u001b[0m\u001b[0;34m(\u001b[0m\u001b[0mindex\u001b[0m\u001b[0;34m)\u001b[0m\u001b[0;34m\u001b[0m\u001b[0;34m\u001b[0m\u001b[0m\n",
            "\u001b[0;32m/usr/local/lib/python3.6/dist-packages/pandas/core/internals/construction.py\u001b[0m in \u001b[0;36mextract_index\u001b[0;34m(data)\u001b[0m\n\u001b[1;32m    395\u001b[0m             \u001b[0mlengths\u001b[0m \u001b[0;34m=\u001b[0m \u001b[0mlist\u001b[0m\u001b[0;34m(\u001b[0m\u001b[0mset\u001b[0m\u001b[0;34m(\u001b[0m\u001b[0mraw_lengths\u001b[0m\u001b[0;34m)\u001b[0m\u001b[0;34m)\u001b[0m\u001b[0;34m\u001b[0m\u001b[0;34m\u001b[0m\u001b[0m\n\u001b[1;32m    396\u001b[0m             \u001b[0;32mif\u001b[0m \u001b[0mlen\u001b[0m\u001b[0;34m(\u001b[0m\u001b[0mlengths\u001b[0m\u001b[0;34m)\u001b[0m \u001b[0;34m>\u001b[0m \u001b[0;36m1\u001b[0m\u001b[0;34m:\u001b[0m\u001b[0;34m\u001b[0m\u001b[0;34m\u001b[0m\u001b[0m\n\u001b[0;32m--> 397\u001b[0;31m                 \u001b[0;32mraise\u001b[0m \u001b[0mValueError\u001b[0m\u001b[0;34m(\u001b[0m\u001b[0;34m\"arrays must all be same length\"\u001b[0m\u001b[0;34m)\u001b[0m\u001b[0;34m\u001b[0m\u001b[0;34m\u001b[0m\u001b[0m\n\u001b[0m\u001b[1;32m    398\u001b[0m \u001b[0;34m\u001b[0m\u001b[0m\n\u001b[1;32m    399\u001b[0m             \u001b[0;32mif\u001b[0m \u001b[0mhave_dicts\u001b[0m\u001b[0;34m:\u001b[0m\u001b[0;34m\u001b[0m\u001b[0;34m\u001b[0m\u001b[0m\n",
            "\u001b[0;31mValueError\u001b[0m: arrays must all be same length"
          ]
        }
      ]
    },
    {
      "cell_type": "markdown",
      "metadata": {
        "id": "wJyJSnPx-nfZ"
      },
      "source": [
        "**Using Neural Net to Predict ethnicity**"
      ]
    },
    {
      "cell_type": "code",
      "metadata": {
        "id": "yMgF9XIDhIVI"
      },
      "source": [
        "import random\n",
        "random.seed(20)\n",
        "train, test = train_test_split(face_recog, test_size=0.2)"
      ],
      "execution_count": null,
      "outputs": []
    },
    {
      "cell_type": "code",
      "metadata": {
        "id": "a-yvsFNEjRhp"
      },
      "source": [
        "train = train.drop(columns= [\"path\", \"landmarks\", \"age_bins\", \"age_encoded\"])\n",
        "test = test.drop(columns= [\"path\", \"landmarks\", \"age_bins\", \"age_encoded\"])\n"
      ],
      "execution_count": null,
      "outputs": []
    },
    {
      "cell_type": "code",
      "metadata": {
        "id": "A1WqhMlbjSj0"
      },
      "source": [
        "train"
      ],
      "execution_count": null,
      "outputs": []
    },
    {
      "cell_type": "code",
      "metadata": {
        "id": "cdPy_0xvkLhx"
      },
      "source": [
        "encoder_e = LabelEncoder()\n",
        "encoder_e.fit(train[\"ethnicity\"])\n",
        "encoder_e.classes_\n",
        "\n",
        "encoder_g = LabelEncoder()\n",
        "encoder_g.fit(train[\"gender\"])\n",
        "encoder_g.classes_\n",
        "\n",
        "e_train = encoder_e.transform(train[\"ethnicity\"])\n",
        "g_train = encoder_g.transform(train[\"gender\"])\n",
        "train.insert(14, \"ethnicity_encoded\", e_train)\n",
        "train.insert(15, \"gender_encoded\", g_train)\n",
        "train = train.drop(columns= [\"ethnicity\", \"gender\"])\n",
        "\n"
      ],
      "execution_count": null,
      "outputs": []
    },
    {
      "cell_type": "code",
      "metadata": {
        "id": "h7AwBfDDkv_k"
      },
      "source": [
        "encoder_e = LabelEncoder()\n",
        "encoder_e.fit(test[\"ethnicity\"])\n",
        "encoder_e.classes_\n",
        "\n",
        "encoder_g = LabelEncoder()\n",
        "encoder_g.fit(test[\"gender\"])\n",
        "encoder_g.classes_\n",
        "\n",
        "e_test = encoder_e.transform(test[\"ethnicity\"])\n",
        "g_test = encoder_g.transform(test[\"gender\"])\n",
        "test.insert(14, \"ethnicity_encoded\", e_test)\n",
        "test.insert(15, \"gender_encoded\", g_test)\n",
        "test = test.drop(columns= [\"ethnicity\", \"gender\"])"
      ],
      "execution_count": null,
      "outputs": []
    },
    {
      "cell_type": "code",
      "metadata": {
        "id": "fs7RwZfrkdTF"
      },
      "source": [
        "train_label = train[\"ethnicity_encoded\"].values\n",
        "test_label = test[\"ethnicity_encoded\"].values\n",
        "\n"
      ],
      "execution_count": null,
      "outputs": []
    },
    {
      "cell_type": "code",
      "metadata": {
        "id": "IjODEXfok347"
      },
      "source": [
        "train_label"
      ],
      "execution_count": null,
      "outputs": []
    },
    {
      "cell_type": "code",
      "metadata": {
        "id": "jjx8LpQKk5bo"
      },
      "source": [
        "train.drop(columns = [\"ethnicity_encoded\"])\n",
        "test.drop(columns=[\"ethnicity_encoded\"])"
      ],
      "execution_count": null,
      "outputs": []
    },
    {
      "cell_type": "code",
      "metadata": {
        "id": "mc8oiXugk7b-"
      },
      "source": [
        "clf = MLPClassifier(hidden_layer_sizes=(20), max_iter=100, alpha=0.0001,\n",
        "                     solver='lbfgs', verbose=10,  random_state=21,tol=0.000000001)\n",
        "clf.fit(train, train_label)\n",
        "pred = clf.predict(test)\n",
        "print(accuracy_score(test_label, pred))"
      ],
      "execution_count": null,
      "outputs": []
    },
    {
      "cell_type": "code",
      "metadata": {
        "id": "hP41Js7NlVg0"
      },
      "source": [
        "df_ethnicity = pd.DataFrame({\"Predicted\":pred, \"Actual\" :test_label})\n",
        "df_ethnicity"
      ],
      "execution_count": null,
      "outputs": []
    },
    {
      "cell_type": "code",
      "metadata": {
        "id": "XRL_UELclvxI"
      },
      "source": [
        "#This shows you the best variables to use for the model\n",
        "from sklearn.feature_selection import SelectKBest\n",
        "from sklearn.feature_selection import chi2\n",
        "\n",
        "bestfeatures = SelectKBest(score_func=chi2, k=13)\n",
        "fit = bestfeatures.fit(train, train_label)\n",
        "dfscores = pd.DataFrame(fit.scores_)\n",
        "dfcolumns = pd.DataFrame(train.columns)\n",
        "\n",
        "featureScores = pd.concat([dfcolumns,dfscores],axis=1)\n",
        "featureScores.columns = ['Specs','Score']  #naming the dataframe columns\n",
        "print(featureScores.nlargest(20,'Score'))"
      ],
      "execution_count": null,
      "outputs": []
    },
    {
      "cell_type": "code",
      "metadata": {
        "id": "wkn6hXDt_T8o"
      },
      "source": [
        ""
      ],
      "execution_count": null,
      "outputs": []
    }
  ]
}