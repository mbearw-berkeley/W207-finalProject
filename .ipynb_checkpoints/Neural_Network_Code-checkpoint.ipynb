{
 "cells": [
  {
   "cell_type": "markdown",
   "metadata": {
    "id": "Vnp6zzB79BA9"
   },
   "source": [
    "**Implementing a Neural Net**"
   ]
  },
  {
   "cell_type": "code",
   "execution_count": 2,
   "metadata": {
    "id": "zm9172Rb8SiO"
   },
   "outputs": [],
   "source": [
    "import pandas as pd\n",
    "from sklearn.neural_network import MLPClassifier\n",
    "\n",
    "from sklearn.preprocessing import StandardScaler, MinMaxScaler\n",
    "from sklearn.preprocessing import LabelEncoder, OneHotEncoder\n",
    "from sklearn.feature_extraction import DictVectorizer\n",
    "\n",
    "from sklearn.pipeline import Pipeline\n",
    "from sklearn.metrics import accuracy_score,confusion_matrix\n",
    "from sklearn.model_selection import train_test_split\n",
    "\n",
    "import matplotlib.pyplot as plt\n",
    "import numpy as np"
   ]
  },
  {
   "cell_type": "code",
   "execution_count": null,
   "metadata": {
    "colab": {
     "base_uri": "https://localhost:8080/",
     "height": 72,
     "resources": {
      "http://localhost:8080/nbextensions/google.colab/files.js": {
       "data": "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",
       "headers": [
        [
         "content-type",
         "application/javascript"
        ]
       ],
       "ok": true,
       "status": 200,
       "status_text": ""
      }
     }
    },
    "id": "EThtX4Mb8eBE",
    "outputId": "a0aacd41-c71f-4364-ac00-277e0d9a5f74"
   },
   "outputs": [],
   "source": [
    "from google.colab import files\n",
    "uploaded = files.upload()\n"
   ]
  },
  {
   "cell_type": "code",
   "execution_count": 3,
   "metadata": {
    "id": "32tt6uwhONKp"
   },
   "outputs": [],
   "source": [
    "import io\n",
    "#data = pd.read_csv(io.BytesIO(uploaded['to_neural_net.csv']))\n",
    "data = pd.read_csv(\"to_neural_net.csv\")"
   ]
  },
  {
   "cell_type": "code",
   "execution_count": 4,
   "metadata": {
    "colab": {
     "base_uri": "https://localhost:8080/",
     "height": 496
    },
    "id": "gKH81PUhgLbB",
    "outputId": "82fb2abb-4653-4497-9f49-f9572f888f47"
   },
   "outputs": [
    {
     "data": {
      "text/html": [
       "<div>\n",
       "<style scoped>\n",
       "    .dataframe tbody tr th:only-of-type {\n",
       "        vertical-align: middle;\n",
       "    }\n",
       "\n",
       "    .dataframe tbody tr th {\n",
       "        vertical-align: top;\n",
       "    }\n",
       "\n",
       "    .dataframe thead th {\n",
       "        text-align: right;\n",
       "    }\n",
       "</style>\n",
       "<table border=\"1\" class=\"dataframe\">\n",
       "  <thead>\n",
       "    <tr style=\"text-align: right;\">\n",
       "      <th></th>\n",
       "      <th>age</th>\n",
       "      <th>ethnicity</th>\n",
       "      <th>gender</th>\n",
       "      <th>path</th>\n",
       "      <th>landmarks</th>\n",
       "      <th>nose2lip</th>\n",
       "      <th>lip2chin</th>\n",
       "      <th>len_between_eyes</th>\n",
       "      <th>left_eyelid_len</th>\n",
       "      <th>right_eyelid_len</th>\n",
       "      <th>nose_width</th>\n",
       "      <th>size_of_mouth</th>\n",
       "      <th>nose_len</th>\n",
       "      <th>bottom_lip_width</th>\n",
       "      <th>left_eye_size</th>\n",
       "      <th>right_eye_size</th>\n",
       "      <th>age_bins</th>\n",
       "      <th>age_encoded</th>\n",
       "    </tr>\n",
       "  </thead>\n",
       "  <tbody>\n",
       "    <tr>\n",
       "      <th>0</th>\n",
       "      <td>1</td>\n",
       "      <td>Asian</td>\n",
       "      <td>Male</td>\n",
       "      <td>images\\img0.jpg</td>\n",
       "      <td>[[-7, 51], [-5, 81], [-1, 110], [5, 136], [18,...</td>\n",
       "      <td>0.127843</td>\n",
       "      <td>0.172767</td>\n",
       "      <td>0.237232</td>\n",
       "      <td>0.187906</td>\n",
       "      <td>0.179991</td>\n",
       "      <td>0.153473</td>\n",
       "      <td>0.274431</td>\n",
       "      <td>0.283629</td>\n",
       "      <td>0.060333</td>\n",
       "      <td>0.145301</td>\n",
       "      <td>0.109268</td>\n",
       "      <td>(0, 9]</td>\n",
       "      <td>0</td>\n",
       "    </tr>\n",
       "    <tr>\n",
       "      <th>1</th>\n",
       "      <td>1</td>\n",
       "      <td>Asian</td>\n",
       "      <td>Male</td>\n",
       "      <td>images\\img1.jpg</td>\n",
       "      <td>[[6, 65], [10, 93], [17, 119], [24, 144], [35,...</td>\n",
       "      <td>0.115510</td>\n",
       "      <td>0.146110</td>\n",
       "      <td>0.275589</td>\n",
       "      <td>0.212916</td>\n",
       "      <td>0.201710</td>\n",
       "      <td>0.155617</td>\n",
       "      <td>0.248926</td>\n",
       "      <td>0.263344</td>\n",
       "      <td>0.078643</td>\n",
       "      <td>0.122885</td>\n",
       "      <td>0.084790</td>\n",
       "      <td>(0, 9]</td>\n",
       "      <td>0</td>\n",
       "    </tr>\n",
       "    <tr>\n",
       "      <th>2</th>\n",
       "      <td>1</td>\n",
       "      <td>Asian</td>\n",
       "      <td>Male</td>\n",
       "      <td>images\\img2.jpg</td>\n",
       "      <td>[[11, 75], [12, 102], [17, 129], [23, 153], [3...</td>\n",
       "      <td>0.093780</td>\n",
       "      <td>0.214220</td>\n",
       "      <td>0.256911</td>\n",
       "      <td>0.193784</td>\n",
       "      <td>0.204183</td>\n",
       "      <td>0.151439</td>\n",
       "      <td>0.279955</td>\n",
       "      <td>0.264790</td>\n",
       "      <td>0.077230</td>\n",
       "      <td>0.121487</td>\n",
       "      <td>0.094426</td>\n",
       "      <td>(0, 9]</td>\n",
       "      <td>0</td>\n",
       "    </tr>\n",
       "    <tr>\n",
       "      <th>3</th>\n",
       "      <td>1</td>\n",
       "      <td>Asian</td>\n",
       "      <td>Male</td>\n",
       "      <td>images\\img3.jpg</td>\n",
       "      <td>[[-6, 78], [-4, 105], [-1, 131], [3, 156], [13...</td>\n",
       "      <td>0.087586</td>\n",
       "      <td>0.221280</td>\n",
       "      <td>0.266966</td>\n",
       "      <td>0.170970</td>\n",
       "      <td>0.172216</td>\n",
       "      <td>0.181050</td>\n",
       "      <td>0.357491</td>\n",
       "      <td>0.256329</td>\n",
       "      <td>0.069628</td>\n",
       "      <td>0.121071</td>\n",
       "      <td>0.074953</td>\n",
       "      <td>(0, 9]</td>\n",
       "      <td>0</td>\n",
       "    </tr>\n",
       "    <tr>\n",
       "      <th>4</th>\n",
       "      <td>1</td>\n",
       "      <td>Asian</td>\n",
       "      <td>Male</td>\n",
       "      <td>images\\img4.jpg</td>\n",
       "      <td>[[-4, 79], [-2, 104], [-1, 129], [0, 155], [8,...</td>\n",
       "      <td>0.093075</td>\n",
       "      <td>0.274444</td>\n",
       "      <td>0.275523</td>\n",
       "      <td>0.153957</td>\n",
       "      <td>0.150599</td>\n",
       "      <td>0.191064</td>\n",
       "      <td>0.422118</td>\n",
       "      <td>0.252346</td>\n",
       "      <td>0.054845</td>\n",
       "      <td>0.095940</td>\n",
       "      <td>0.049664</td>\n",
       "      <td>(0, 9]</td>\n",
       "      <td>0</td>\n",
       "    </tr>\n",
       "  </tbody>\n",
       "</table>\n",
       "</div>"
      ],
      "text/plain": [
       "   age ethnicity gender             path  \\\n",
       "0    1     Asian   Male  images\\img0.jpg   \n",
       "1    1     Asian   Male  images\\img1.jpg   \n",
       "2    1     Asian   Male  images\\img2.jpg   \n",
       "3    1     Asian   Male  images\\img3.jpg   \n",
       "4    1     Asian   Male  images\\img4.jpg   \n",
       "\n",
       "                                           landmarks  nose2lip  lip2chin  \\\n",
       "0  [[-7, 51], [-5, 81], [-1, 110], [5, 136], [18,...  0.127843  0.172767   \n",
       "1  [[6, 65], [10, 93], [17, 119], [24, 144], [35,...  0.115510  0.146110   \n",
       "2  [[11, 75], [12, 102], [17, 129], [23, 153], [3...  0.093780  0.214220   \n",
       "3  [[-6, 78], [-4, 105], [-1, 131], [3, 156], [13...  0.087586  0.221280   \n",
       "4  [[-4, 79], [-2, 104], [-1, 129], [0, 155], [8,...  0.093075  0.274444   \n",
       "\n",
       "   len_between_eyes  left_eyelid_len  right_eyelid_len  nose_width  \\\n",
       "0          0.237232         0.187906          0.179991    0.153473   \n",
       "1          0.275589         0.212916          0.201710    0.155617   \n",
       "2          0.256911         0.193784          0.204183    0.151439   \n",
       "3          0.266966         0.170970          0.172216    0.181050   \n",
       "4          0.275523         0.153957          0.150599    0.191064   \n",
       "\n",
       "   size_of_mouth  nose_len  bottom_lip_width  left_eye_size  right_eye_size  \\\n",
       "0       0.274431  0.283629          0.060333       0.145301        0.109268   \n",
       "1       0.248926  0.263344          0.078643       0.122885        0.084790   \n",
       "2       0.279955  0.264790          0.077230       0.121487        0.094426   \n",
       "3       0.357491  0.256329          0.069628       0.121071        0.074953   \n",
       "4       0.422118  0.252346          0.054845       0.095940        0.049664   \n",
       "\n",
       "  age_bins age_encoded  \n",
       "0   (0, 9]           0  \n",
       "1   (0, 9]           0  \n",
       "2   (0, 9]           0  \n",
       "3   (0, 9]           0  \n",
       "4   (0, 9]           0  "
      ]
     },
     "execution_count": 4,
     "metadata": {},
     "output_type": "execute_result"
    }
   ],
   "source": [
    "data['age_bins'] = pd.cut(x=data['age'], \n",
    "                                bins=[0, 9, 29, 39, 49, 59, 69, 79, 89, 99, 130])\n",
    "data['age_encoded'] = pd.cut(x=data['age'], \n",
    "                                bins=[0, 9, 29, 39, 49, 59, 69, 79, 89, 99, 130], \n",
    "                                labels = [0, 1, 2, 3, 4, 5, 6, 7, 8, 9])\n",
    "data.head()"
   ]
  },
  {
   "cell_type": "code",
   "execution_count": 5,
   "metadata": {
    "id": "cre6Mj_LPbQJ"
   },
   "outputs": [],
   "source": [
    "#Split the data into train test\n",
    "train, test = train_test_split(data, test_size=0.2)"
   ]
  },
  {
   "cell_type": "markdown",
   "metadata": {
    "id": "b4nKak169fyA"
   },
   "source": [
    "**Use Neural Net to Predict Age**"
   ]
  },
  {
   "cell_type": "code",
   "execution_count": 6,
   "metadata": {
    "id": "Edn6htFGRTW0"
   },
   "outputs": [],
   "source": [
    "#Extract Target Variables \n",
    "train_labels = train[\"age_encoded\"].values\n",
    "test_labels = test[\"age_encoded\"].values\n",
    "test_bins = test[\"age_bins\"].values"
   ]
  },
  {
   "cell_type": "code",
   "execution_count": 7,
   "metadata": {
    "id": "AfrB7XtLRXHo"
   },
   "outputs": [
    {
     "name": "stderr",
     "output_type": "stream",
     "text": [
      "C:\\Users\\19168\\anaconda3\\lib\\site-packages\\pandas\\core\\frame.py:3997: SettingWithCopyWarning: \n",
      "A value is trying to be set on a copy of a slice from a DataFrame\n",
      "\n",
      "See the caveats in the documentation: https://pandas.pydata.org/pandas-docs/stable/user_guide/indexing.html#returning-a-view-versus-a-copy\n",
      "  errors=errors,\n"
     ]
    }
   ],
   "source": [
    "#drop all the unused columns for train and test data\n",
    "train.drop(columns= [\"age\", \"path\", \"landmarks\", \"age_bins\", \"age_encoded\"],inplace=True)\n",
    "test.drop(columns= [\"age\", \"path\", \"landmarks\", \"age_bins\", \"age_encoded\"],inplace=True)\n"
   ]
  },
  {
   "cell_type": "code",
   "execution_count": 8,
   "metadata": {
    "colab": {
     "base_uri": "https://localhost:8080/",
     "height": 439
    },
    "id": "FKsLIYVQWinz",
    "outputId": "b1fc7af3-2e7f-4e86-9b70-45cbec7d1207"
   },
   "outputs": [
    {
     "data": {
      "text/html": [
       "<div>\n",
       "<style scoped>\n",
       "    .dataframe tbody tr th:only-of-type {\n",
       "        vertical-align: middle;\n",
       "    }\n",
       "\n",
       "    .dataframe tbody tr th {\n",
       "        vertical-align: top;\n",
       "    }\n",
       "\n",
       "    .dataframe thead th {\n",
       "        text-align: right;\n",
       "    }\n",
       "</style>\n",
       "<table border=\"1\" class=\"dataframe\">\n",
       "  <thead>\n",
       "    <tr style=\"text-align: right;\">\n",
       "      <th></th>\n",
       "      <th>ethnicity</th>\n",
       "      <th>gender</th>\n",
       "      <th>nose2lip</th>\n",
       "      <th>lip2chin</th>\n",
       "      <th>len_between_eyes</th>\n",
       "      <th>left_eyelid_len</th>\n",
       "      <th>right_eyelid_len</th>\n",
       "      <th>nose_width</th>\n",
       "      <th>size_of_mouth</th>\n",
       "      <th>nose_len</th>\n",
       "      <th>bottom_lip_width</th>\n",
       "      <th>left_eye_size</th>\n",
       "      <th>right_eye_size</th>\n",
       "    </tr>\n",
       "  </thead>\n",
       "  <tbody>\n",
       "    <tr>\n",
       "      <th>20590</th>\n",
       "      <td>Black</td>\n",
       "      <td>Male</td>\n",
       "      <td>0.093813</td>\n",
       "      <td>0.267883</td>\n",
       "      <td>0.293201</td>\n",
       "      <td>0.171647</td>\n",
       "      <td>0.177006</td>\n",
       "      <td>0.225213</td>\n",
       "      <td>0.433346</td>\n",
       "      <td>0.265446</td>\n",
       "      <td>0.041631</td>\n",
       "      <td>0.084712</td>\n",
       "      <td>0.057478</td>\n",
       "    </tr>\n",
       "    <tr>\n",
       "      <th>8575</th>\n",
       "      <td>Asian</td>\n",
       "      <td>Female</td>\n",
       "      <td>0.087112</td>\n",
       "      <td>0.242884</td>\n",
       "      <td>0.253673</td>\n",
       "      <td>0.147176</td>\n",
       "      <td>0.157206</td>\n",
       "      <td>0.165130</td>\n",
       "      <td>0.289149</td>\n",
       "      <td>0.280597</td>\n",
       "      <td>0.070304</td>\n",
       "      <td>0.111161</td>\n",
       "      <td>0.077203</td>\n",
       "    </tr>\n",
       "    <tr>\n",
       "      <th>18515</th>\n",
       "      <td>White</td>\n",
       "      <td>Male</td>\n",
       "      <td>0.117507</td>\n",
       "      <td>0.280721</td>\n",
       "      <td>0.267645</td>\n",
       "      <td>0.167119</td>\n",
       "      <td>0.160870</td>\n",
       "      <td>0.243053</td>\n",
       "      <td>0.388826</td>\n",
       "      <td>0.304883</td>\n",
       "      <td>0.064250</td>\n",
       "      <td>0.074126</td>\n",
       "      <td>0.037729</td>\n",
       "    </tr>\n",
       "    <tr>\n",
       "      <th>3950</th>\n",
       "      <td>White</td>\n",
       "      <td>Female</td>\n",
       "      <td>0.094745</td>\n",
       "      <td>0.195322</td>\n",
       "      <td>0.275510</td>\n",
       "      <td>0.165465</td>\n",
       "      <td>0.171309</td>\n",
       "      <td>0.163018</td>\n",
       "      <td>0.320422</td>\n",
       "      <td>0.311475</td>\n",
       "      <td>0.082262</td>\n",
       "      <td>0.104617</td>\n",
       "      <td>0.064901</td>\n",
       "    </tr>\n",
       "    <tr>\n",
       "      <th>20663</th>\n",
       "      <td>White</td>\n",
       "      <td>Male</td>\n",
       "      <td>0.117734</td>\n",
       "      <td>0.304613</td>\n",
       "      <td>0.249853</td>\n",
       "      <td>0.145601</td>\n",
       "      <td>0.131351</td>\n",
       "      <td>0.215615</td>\n",
       "      <td>0.416681</td>\n",
       "      <td>0.279894</td>\n",
       "      <td>0.057109</td>\n",
       "      <td>0.074461</td>\n",
       "      <td>0.040382</td>\n",
       "    </tr>\n",
       "  </tbody>\n",
       "</table>\n",
       "</div>"
      ],
      "text/plain": [
       "      ethnicity  gender  nose2lip  lip2chin  len_between_eyes  \\\n",
       "20590     Black    Male  0.093813  0.267883          0.293201   \n",
       "8575      Asian  Female  0.087112  0.242884          0.253673   \n",
       "18515     White    Male  0.117507  0.280721          0.267645   \n",
       "3950      White  Female  0.094745  0.195322          0.275510   \n",
       "20663     White    Male  0.117734  0.304613          0.249853   \n",
       "\n",
       "       left_eyelid_len  right_eyelid_len  nose_width  size_of_mouth  nose_len  \\\n",
       "20590         0.171647          0.177006    0.225213       0.433346  0.265446   \n",
       "8575          0.147176          0.157206    0.165130       0.289149  0.280597   \n",
       "18515         0.167119          0.160870    0.243053       0.388826  0.304883   \n",
       "3950          0.165465          0.171309    0.163018       0.320422  0.311475   \n",
       "20663         0.145601          0.131351    0.215615       0.416681  0.279894   \n",
       "\n",
       "       bottom_lip_width  left_eye_size  right_eye_size  \n",
       "20590          0.041631       0.084712        0.057478  \n",
       "8575           0.070304       0.111161        0.077203  \n",
       "18515          0.064250       0.074126        0.037729  \n",
       "3950           0.082262       0.104617        0.064901  \n",
       "20663          0.057109       0.074461        0.040382  "
      ]
     },
     "execution_count": 8,
     "metadata": {},
     "output_type": "execute_result"
    }
   ],
   "source": [
    "train.head()"
   ]
  },
  {
   "cell_type": "code",
   "execution_count": 9,
   "metadata": {
    "id": "8FgBauk7SF0n"
   },
   "outputs": [
    {
     "name": "stderr",
     "output_type": "stream",
     "text": [
      "C:\\Users\\19168\\anaconda3\\lib\\site-packages\\ipykernel_launcher.py:10: SettingWithCopyWarning: \n",
      "A value is trying to be set on a copy of a slice from a DataFrame.\n",
      "Try using .loc[row_indexer,col_indexer] = value instead\n",
      "\n",
      "See the caveats in the documentation: https://pandas.pydata.org/pandas-docs/stable/user_guide/indexing.html#returning-a-view-versus-a-copy\n",
      "  # Remove the CWD from sys.path while we load stuff.\n",
      "C:\\Users\\19168\\anaconda3\\lib\\site-packages\\ipykernel_launcher.py:11: SettingWithCopyWarning: \n",
      "A value is trying to be set on a copy of a slice from a DataFrame.\n",
      "Try using .loc[row_indexer,col_indexer] = value instead\n",
      "\n",
      "See the caveats in the documentation: https://pandas.pydata.org/pandas-docs/stable/user_guide/indexing.html#returning-a-view-versus-a-copy\n",
      "  # This is added back by InteractiveShellApp.init_path()\n",
      "C:\\Users\\19168\\anaconda3\\lib\\site-packages\\pandas\\core\\frame.py:3997: SettingWithCopyWarning: \n",
      "A value is trying to be set on a copy of a slice from a DataFrame\n",
      "\n",
      "See the caveats in the documentation: https://pandas.pydata.org/pandas-docs/stable/user_guide/indexing.html#returning-a-view-versus-a-copy\n",
      "  errors=errors,\n"
     ]
    }
   ],
   "source": [
    "#encode ethnicity and gender variables for train data\n",
    "encoder_e = LabelEncoder()\n",
    "encoder_e.fit(train[\"ethnicity\"])\n",
    "encoder_e.classes_\n",
    "\n",
    "encoder_g = LabelEncoder()\n",
    "encoder_g.fit(train[\"gender\"])\n",
    "encoder_g.classes_\n",
    "\n",
    "train[\"ethnicity_encoded\"] = encoder_e.transform(train[\"ethnicity\"])\n",
    "train[\"gender_encoded\"] = encoder_g.transform(train[\"gender\"])\n",
    "train.drop(columns= [\"ethnicity\", \"gender\"],inplace=True)\n"
   ]
  },
  {
   "cell_type": "code",
   "execution_count": 10,
   "metadata": {
    "id": "1fHCaPbES7N2"
   },
   "outputs": [
    {
     "name": "stderr",
     "output_type": "stream",
     "text": [
      "C:\\Users\\19168\\anaconda3\\lib\\site-packages\\ipykernel_launcher.py:10: SettingWithCopyWarning: \n",
      "A value is trying to be set on a copy of a slice from a DataFrame.\n",
      "Try using .loc[row_indexer,col_indexer] = value instead\n",
      "\n",
      "See the caveats in the documentation: https://pandas.pydata.org/pandas-docs/stable/user_guide/indexing.html#returning-a-view-versus-a-copy\n",
      "  # Remove the CWD from sys.path while we load stuff.\n",
      "C:\\Users\\19168\\anaconda3\\lib\\site-packages\\ipykernel_launcher.py:11: SettingWithCopyWarning: \n",
      "A value is trying to be set on a copy of a slice from a DataFrame.\n",
      "Try using .loc[row_indexer,col_indexer] = value instead\n",
      "\n",
      "See the caveats in the documentation: https://pandas.pydata.org/pandas-docs/stable/user_guide/indexing.html#returning-a-view-versus-a-copy\n",
      "  # This is added back by InteractiveShellApp.init_path()\n"
     ]
    }
   ],
   "source": [
    "#encode ethnicity and gender variables for train data\n",
    "encoder_e = LabelEncoder()\n",
    "encoder_e.fit(test[\"ethnicity\"])\n",
    "encoder_e.classes_\n",
    "\n",
    "encoder_g = LabelEncoder()\n",
    "encoder_g.fit(test[\"gender\"])\n",
    "encoder_g.classes_\n",
    "\n",
    "test[\"ethnicity_encoded\"] = encoder_e.transform(test[\"ethnicity\"])\n",
    "test[\"gender_encoded\"] = encoder_g.transform(test[\"gender\"])\n",
    "test.drop(columns= [\"ethnicity\", \"gender\"],inplace=True)"
   ]
  },
  {
   "cell_type": "code",
   "execution_count": 11,
   "metadata": {
    "colab": {
     "base_uri": "https://localhost:8080/",
     "height": 439
    },
    "id": "l4tYnbtcVpXc",
    "outputId": "a68a3441-2528-49f0-f731-95e54f7e5f60"
   },
   "outputs": [
    {
     "data": {
      "text/html": [
       "<div>\n",
       "<style scoped>\n",
       "    .dataframe tbody tr th:only-of-type {\n",
       "        vertical-align: middle;\n",
       "    }\n",
       "\n",
       "    .dataframe tbody tr th {\n",
       "        vertical-align: top;\n",
       "    }\n",
       "\n",
       "    .dataframe thead th {\n",
       "        text-align: right;\n",
       "    }\n",
       "</style>\n",
       "<table border=\"1\" class=\"dataframe\">\n",
       "  <thead>\n",
       "    <tr style=\"text-align: right;\">\n",
       "      <th></th>\n",
       "      <th>nose2lip</th>\n",
       "      <th>lip2chin</th>\n",
       "      <th>len_between_eyes</th>\n",
       "      <th>left_eyelid_len</th>\n",
       "      <th>right_eyelid_len</th>\n",
       "      <th>nose_width</th>\n",
       "      <th>size_of_mouth</th>\n",
       "      <th>nose_len</th>\n",
       "      <th>bottom_lip_width</th>\n",
       "      <th>left_eye_size</th>\n",
       "      <th>right_eye_size</th>\n",
       "      <th>ethnicity_encoded</th>\n",
       "      <th>gender_encoded</th>\n",
       "    </tr>\n",
       "  </thead>\n",
       "  <tbody>\n",
       "    <tr>\n",
       "      <th>3773</th>\n",
       "      <td>0.098548</td>\n",
       "      <td>0.237336</td>\n",
       "      <td>0.265950</td>\n",
       "      <td>0.171109</td>\n",
       "      <td>0.167822</td>\n",
       "      <td>0.191520</td>\n",
       "      <td>0.463150</td>\n",
       "      <td>0.256593</td>\n",
       "      <td>0.069479</td>\n",
       "      <td>0.091951</td>\n",
       "      <td>0.053712</td>\n",
       "      <td>3</td>\n",
       "      <td>0</td>\n",
       "    </tr>\n",
       "    <tr>\n",
       "      <th>8330</th>\n",
       "      <td>0.101018</td>\n",
       "      <td>0.280228</td>\n",
       "      <td>0.272883</td>\n",
       "      <td>0.127448</td>\n",
       "      <td>0.127448</td>\n",
       "      <td>0.247498</td>\n",
       "      <td>0.439460</td>\n",
       "      <td>0.274734</td>\n",
       "      <td>0.060441</td>\n",
       "      <td>0.086878</td>\n",
       "      <td>0.049452</td>\n",
       "      <td>4</td>\n",
       "      <td>1</td>\n",
       "    </tr>\n",
       "    <tr>\n",
       "      <th>18199</th>\n",
       "      <td>0.114394</td>\n",
       "      <td>0.289899</td>\n",
       "      <td>0.246352</td>\n",
       "      <td>0.113828</td>\n",
       "      <td>0.119370</td>\n",
       "      <td>0.177338</td>\n",
       "      <td>0.344859</td>\n",
       "      <td>0.295638</td>\n",
       "      <td>0.056843</td>\n",
       "      <td>0.100565</td>\n",
       "      <td>0.062785</td>\n",
       "      <td>4</td>\n",
       "      <td>0</td>\n",
       "    </tr>\n",
       "    <tr>\n",
       "      <th>16950</th>\n",
       "      <td>0.080927</td>\n",
       "      <td>0.191229</td>\n",
       "      <td>0.260637</td>\n",
       "      <td>0.136528</td>\n",
       "      <td>0.143202</td>\n",
       "      <td>0.199088</td>\n",
       "      <td>0.473909</td>\n",
       "      <td>0.272186</td>\n",
       "      <td>0.076406</td>\n",
       "      <td>0.081656</td>\n",
       "      <td>0.049295</td>\n",
       "      <td>3</td>\n",
       "      <td>0</td>\n",
       "    </tr>\n",
       "    <tr>\n",
       "      <th>20353</th>\n",
       "      <td>0.112051</td>\n",
       "      <td>0.222912</td>\n",
       "      <td>0.298909</td>\n",
       "      <td>0.169890</td>\n",
       "      <td>0.168843</td>\n",
       "      <td>0.157606</td>\n",
       "      <td>0.434810</td>\n",
       "      <td>0.271818</td>\n",
       "      <td>0.065223</td>\n",
       "      <td>0.089145</td>\n",
       "      <td>0.060768</td>\n",
       "      <td>4</td>\n",
       "      <td>0</td>\n",
       "    </tr>\n",
       "  </tbody>\n",
       "</table>\n",
       "</div>"
      ],
      "text/plain": [
       "       nose2lip  lip2chin  len_between_eyes  left_eyelid_len  \\\n",
       "3773   0.098548  0.237336          0.265950         0.171109   \n",
       "8330   0.101018  0.280228          0.272883         0.127448   \n",
       "18199  0.114394  0.289899          0.246352         0.113828   \n",
       "16950  0.080927  0.191229          0.260637         0.136528   \n",
       "20353  0.112051  0.222912          0.298909         0.169890   \n",
       "\n",
       "       right_eyelid_len  nose_width  size_of_mouth  nose_len  \\\n",
       "3773           0.167822    0.191520       0.463150  0.256593   \n",
       "8330           0.127448    0.247498       0.439460  0.274734   \n",
       "18199          0.119370    0.177338       0.344859  0.295638   \n",
       "16950          0.143202    0.199088       0.473909  0.272186   \n",
       "20353          0.168843    0.157606       0.434810  0.271818   \n",
       "\n",
       "       bottom_lip_width  left_eye_size  right_eye_size  ethnicity_encoded  \\\n",
       "3773           0.069479       0.091951        0.053712                  3   \n",
       "8330           0.060441       0.086878        0.049452                  4   \n",
       "18199          0.056843       0.100565        0.062785                  4   \n",
       "16950          0.076406       0.081656        0.049295                  3   \n",
       "20353          0.065223       0.089145        0.060768                  4   \n",
       "\n",
       "       gender_encoded  \n",
       "3773                0  \n",
       "8330                1  \n",
       "18199               0  \n",
       "16950               0  \n",
       "20353               0  "
      ]
     },
     "execution_count": 11,
     "metadata": {},
     "output_type": "execute_result"
    }
   ],
   "source": [
    "test.head()"
   ]
  },
  {
   "cell_type": "code",
   "execution_count": 13,
   "metadata": {
    "colab": {
     "base_uri": "https://localhost:8080/"
    },
    "id": "oHjzCaAdVqdV",
    "outputId": "247e1dd2-8362-428f-f994-90b0a9980534"
   },
   "outputs": [
    {
     "name": "stdout",
     "output_type": "stream",
     "text": [
      "0.43662597114317425\n"
     ]
    },
    {
     "name": "stderr",
     "output_type": "stream",
     "text": [
      "C:\\Users\\19168\\anaconda3\\lib\\site-packages\\sklearn\\neural_network\\_multilayer_perceptron.py:470: ConvergenceWarning: lbfgs failed to converge (status=1):\n",
      "STOP: TOTAL NO. of ITERATIONS REACHED LIMIT.\n",
      "\n",
      "Increase the number of iterations (max_iter) or scale the data as shown in:\n",
      "    https://scikit-learn.org/stable/modules/preprocessing.html\n",
      "  self.n_iter_ = _check_optimize_result(\"lbfgs\", opt_res, self.max_iter)\n"
     ]
    }
   ],
   "source": [
    "#run a neural net \n",
    "\n",
    "clf = MLPClassifier(hidden_layer_sizes=(10, 10), max_iter=100, alpha=0.0001,\n",
    "                     solver='lbfgs', verbose=10,  random_state=21,tol=0.000000001)\n",
    "clf.fit(train, train_labels)\n",
    "pred = clf.predict(test)\n",
    "print(accuracy_score(test_labels, pred))"
   ]
  },
  {
   "cell_type": "markdown",
   "metadata": {
    "id": "_eIOxxT3-Nkw"
   },
   "source": [
    "Since the accuracy is really low, we decided to look more into different methods to differentiate age. Furthermore, with the additional features, I think we can run a neural net to predict ethnicity. We can probably find better results from predicting ethnicity. \n"
   ]
  },
  {
   "cell_type": "code",
   "execution_count": null,
   "metadata": {
    "colab": {
     "base_uri": "https://localhost:8080/"
    },
    "id": "13Bp8T9HVshk",
    "outputId": "a133b1be-9085-4714-f2ee-0300e038073b"
   },
   "outputs": [],
   "source": [
    "#This shows you the best variables to use for the model\n",
    "from sklearn.feature_selection import SelectKBest\n",
    "from sklearn.feature_selection import chi2\n",
    "\n",
    "bestfeatures = SelectKBest(score_func=chi2, k=13)\n",
    "fit = bestfeatures.fit(train, train_label)\n",
    "dfscores = pd.DataFrame(fit.scores_)\n",
    "dfcolumns = pd.DataFrame(train.columns)\n",
    "\n",
    "featureScores = pd.concat([dfcolumns,dfscores],axis=1)\n",
    "featureScores.columns = ['Specs','Score']  #naming the dataframe columns\n",
    "print(featureScores.nlargest(20,'Score'))"
   ]
  },
  {
   "cell_type": "code",
   "execution_count": null,
   "metadata": {
    "colab": {
     "base_uri": "https://localhost:8080/",
     "height": 419
    },
    "id": "Bj8_sV9eg-n9",
    "outputId": "8fbcb252-3db6-4104-e8e0-d6eb5a4ff62d"
   },
   "outputs": [],
   "source": [
    "pd.DataFrame({\"Predictions\":pred, \"Actual\":test_label, \"Bins\": test_bins})"
   ]
  },
  {
   "cell_type": "markdown",
   "metadata": {
    "id": "wJyJSnPx-nfZ"
   },
   "source": [
    "**Using Neural Net to Predict ethnicity**"
   ]
  },
  {
   "cell_type": "code",
   "execution_count": null,
   "metadata": {
    "id": "yMgF9XIDhIVI"
   },
   "outputs": [],
   "source": [
    "import random\n",
    "train, test = train_test_split(face_recog, test_size=0.3, stratify=face_recog[['ethnicity']])"
   ]
  },
  {
   "cell_type": "code",
   "execution_count": null,
   "metadata": {
    "id": "a-yvsFNEjRhp"
   },
   "outputs": [],
   "source": [
    "train = train.drop(columns= [\"path\", \"landmarks\", \"age_bins\", \"age_encoded\"])\n",
    "test = test.drop(columns= [\"path\", \"landmarks\", \"age_bins\", \"age_encoded\"])\n"
   ]
  },
  {
   "cell_type": "code",
   "execution_count": null,
   "metadata": {
    "colab": {
     "base_uri": "https://localhost:8080/",
     "height": 334
    },
    "id": "A1WqhMlbjSj0",
    "outputId": "ebfde270-3452-4860-894c-acf914e37554"
   },
   "outputs": [],
   "source": [
    "import matplotlib.pyplot as plt\n",
    "plt.hist(train[\"ethnicity\"])"
   ]
  },
  {
   "cell_type": "code",
   "execution_count": null,
   "metadata": {
    "id": "cdPy_0xvkLhx"
   },
   "outputs": [],
   "source": [
    "encoder_e = LabelEncoder()\n",
    "encoder_e.fit(train[\"ethnicity\"])\n",
    "encoder_e.classes_\n",
    "\n",
    "encoder_g = LabelEncoder()\n",
    "encoder_g.fit(train[\"gender\"])\n",
    "encoder_g.classes_\n",
    "\n",
    "e_train = encoder_e.transform(train[\"ethnicity\"])\n",
    "g_train = encoder_g.transform(train[\"gender\"])\n",
    "train.insert(14, \"ethnicity_encoded\", e_train)\n",
    "train.insert(15, \"gender_encoded\", g_train)\n",
    "train = train.drop(columns= [\"ethnicity\", \"gender\"])\n",
    "\n"
   ]
  },
  {
   "cell_type": "code",
   "execution_count": null,
   "metadata": {
    "id": "h7AwBfDDkv_k"
   },
   "outputs": [],
   "source": [
    "encoder_e = LabelEncoder()\n",
    "encoder_e.fit(test[\"ethnicity\"])\n",
    "encoder_e.classes_\n",
    "\n",
    "encoder_g = LabelEncoder()\n",
    "encoder_g.fit(test[\"gender\"])\n",
    "encoder_g.classes_\n",
    "\n",
    "e_test = encoder_e.transform(test[\"ethnicity\"])\n",
    "g_test = encoder_g.transform(test[\"gender\"])\n",
    "test.insert(14, \"ethnicity_encoded\", e_test)\n",
    "test.insert(15, \"gender_encoded\", g_test)\n",
    "test = test.drop(columns= [\"ethnicity\", \"gender\"])"
   ]
  },
  {
   "cell_type": "code",
   "execution_count": null,
   "metadata": {
    "id": "fs7RwZfrkdTF"
   },
   "outputs": [],
   "source": [
    "train_label = train[\"ethnicity_encoded\"].values\n",
    "test_label = test[\"ethnicity_encoded\"].values\n",
    "\n"
   ]
  },
  {
   "cell_type": "code",
   "execution_count": null,
   "metadata": {
    "colab": {
     "base_uri": "https://localhost:8080/"
    },
    "id": "IjODEXfok347",
    "outputId": "c307b302-c63b-4fba-f055-e5f9277c9f8f"
   },
   "outputs": [],
   "source": [
    "train_label"
   ]
  },
  {
   "cell_type": "code",
   "execution_count": null,
   "metadata": {
    "colab": {
     "base_uri": "https://localhost:8080/",
     "height": 439
    },
    "id": "jjx8LpQKk5bo",
    "outputId": "a6ac39df-a6e0-4ae9-da41-dcf6867567c8"
   },
   "outputs": [],
   "source": [
    "train.drop(columns = [\"ethnicity_encoded\"])\n",
    "test.drop(columns=[\"ethnicity_encoded\"])"
   ]
  },
  {
   "cell_type": "code",
   "execution_count": null,
   "metadata": {
    "colab": {
     "base_uri": "https://localhost:8080/"
    },
    "id": "mc8oiXugk7b-",
    "outputId": "ab382daf-2a55-477d-a1b9-1a30c08a0b73"
   },
   "outputs": [],
   "source": [
    "clf = MLPClassifier(hidden_layer_sizes=(20), max_iter=100, alpha=0.0001,\n",
    "                     solver='lbfgs', verbose=10,  random_state=21,tol=0.000000001)\n",
    "clf.fit(train, train_label)\n",
    "pred = clf.predict(test)\n",
    "print(accuracy_score(test_label, pred))"
   ]
  },
  {
   "cell_type": "code",
   "execution_count": null,
   "metadata": {
    "colab": {
     "base_uri": "https://localhost:8080/",
     "height": 419
    },
    "id": "hP41Js7NlVg0",
    "outputId": "a1316216-5b33-45b2-9da3-15a1cc6b20f9"
   },
   "outputs": [],
   "source": [
    "df_ethnicity = pd.DataFrame({\"Predicted\":pred, \"Actual\" :test_label})\n",
    "df_ethnicity"
   ]
  },
  {
   "cell_type": "code",
   "execution_count": null,
   "metadata": {
    "colab": {
     "base_uri": "https://localhost:8080/"
    },
    "id": "XRL_UELclvxI",
    "outputId": "2a8e4a45-4e19-421d-b129-3daa77e1892c"
   },
   "outputs": [],
   "source": [
    "#This shows you the best variables to use for the model\n",
    "from sklearn.feature_selection import SelectKBest\n",
    "from sklearn.feature_selection import chi2\n",
    "\n",
    "bestfeatures = SelectKBest(score_func=chi2, k=13)\n",
    "fit = bestfeatures.fit(train, train_label)\n",
    "dfscores = pd.DataFrame(fit.scores_)\n",
    "dfcolumns = pd.DataFrame(train.columns)\n",
    "\n",
    "featureScores = pd.concat([dfcolumns,dfscores],axis=1)\n",
    "featureScores.columns = ['Specs','Score']  #naming the dataframe columns\n",
    "print(featureScores.nlargest(20,'Score'))"
   ]
  },
  {
   "cell_type": "markdown",
   "metadata": {
    "id": "-qhDKWCo_d1R"
   },
   "source": [
    "**Using Neural Net to Predict Gender**"
   ]
  },
  {
   "cell_type": "code",
   "execution_count": null,
   "metadata": {
    "id": "wkn6hXDt_T8o"
   },
   "outputs": [],
   "source": [
    "import random\n",
    "train, test = train_test_split(face_recog, test_size=0.3)"
   ]
  },
  {
   "cell_type": "code",
   "execution_count": null,
   "metadata": {
    "id": "06KH-H7w-geF"
   },
   "outputs": [],
   "source": [
    "train = train.drop(columns= [\"path\", \"landmarks\", \"age_bins\", \"age_encoded\"])\n",
    "test = test.drop(columns= [\"path\", \"landmarks\", \"age_bins\", \"age_encoded\"])"
   ]
  },
  {
   "cell_type": "code",
   "execution_count": null,
   "metadata": {
    "id": "SwFvXBQU-q-t"
   },
   "outputs": [],
   "source": [
    "encoder_e = LabelEncoder()\n",
    "encoder_e.fit(train[\"ethnicity\"])\n",
    "encoder_e.classes_\n",
    "\n",
    "encoder_g = LabelEncoder()\n",
    "encoder_g.fit(train[\"gender\"])\n",
    "encoder_g.classes_\n",
    "\n",
    "e_train = encoder_e.transform(train[\"ethnicity\"])\n",
    "g_train = encoder_g.transform(train[\"gender\"])\n",
    "train.insert(14, \"ethnicity_encoded\", e_train)\n",
    "train.insert(15, \"gender_encoded\", g_train)\n",
    "train = train.drop(columns= [\"ethnicity\", \"gender\"])"
   ]
  },
  {
   "cell_type": "code",
   "execution_count": null,
   "metadata": {
    "id": "Nve7yK4u--gN"
   },
   "outputs": [],
   "source": [
    "encoder_e = LabelEncoder()\n",
    "encoder_e.fit(test[\"ethnicity\"])\n",
    "encoder_e.classes_\n",
    "\n",
    "encoder_g = LabelEncoder()\n",
    "encoder_g.fit(test[\"gender\"])\n",
    "encoder_g.classes_\n",
    "\n",
    "e_test = encoder_e.transform(test[\"ethnicity\"])\n",
    "g_test = encoder_g.transform(test[\"gender\"])\n",
    "test.insert(14, \"ethnicity_encoded\", e_test)\n",
    "test.insert(15, \"gender_encoded\", g_test)\n",
    "test = test.drop(columns= [\"ethnicity\", \"gender\"])"
   ]
  },
  {
   "cell_type": "code",
   "execution_count": null,
   "metadata": {
    "id": "pxLAr1p7_A9T"
   },
   "outputs": [],
   "source": [
    "train_label = train[\"gender_encoded\"].values\n",
    "test_label = test[\"gender_encoded\"].values\n"
   ]
  },
  {
   "cell_type": "code",
   "execution_count": null,
   "metadata": {
    "colab": {
     "base_uri": "https://localhost:8080/",
     "height": 439
    },
    "id": "bk6Y_QJQ_MEe",
    "outputId": "69c99780-4f17-4672-e2e1-d992a1304bbb"
   },
   "outputs": [],
   "source": [
    "train.drop(columns = [\"gender_encoded\"])\n",
    "test.drop(columns=[\"gender_encoded\"])"
   ]
  },
  {
   "cell_type": "code",
   "execution_count": null,
   "metadata": {
    "colab": {
     "base_uri": "https://localhost:8080/"
    },
    "id": "YoRr891Y_RdN",
    "outputId": "85facff9-8422-4f2f-d8f2-59301860ac61"
   },
   "outputs": [],
   "source": [
    "clf = MLPClassifier(hidden_layer_sizes=(20), max_iter=100, alpha=0.0001,\n",
    "                     solver='lbfgs', verbose=10, random_state=21, tol=0.000000001)\n",
    "clf.fit(train, train_label)\n",
    "pred = clf.predict(test)\n",
    "print(accuracy_score(test_label, pred))"
   ]
  },
  {
   "cell_type": "code",
   "execution_count": null,
   "metadata": {
    "id": "A_ZNeygQ_Zql"
   },
   "outputs": [],
   "source": []
  }
 ],
 "metadata": {
  "colab": {
   "collapsed_sections": [],
   "name": "Neural Network Code",
   "provenance": []
  },
  "kernelspec": {
   "display_name": "Python 3",
   "language": "python",
   "name": "python3"
  },
  "language_info": {
   "codemirror_mode": {
    "name": "ipython",
    "version": 3
   },
   "file_extension": ".py",
   "mimetype": "text/x-python",
   "name": "python",
   "nbconvert_exporter": "python",
   "pygments_lexer": "ipython3",
   "version": "3.7.6"
  }
 },
 "nbformat": 4,
 "nbformat_minor": 1
}
